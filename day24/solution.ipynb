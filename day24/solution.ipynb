{
 "cells": [
  {
   "cell_type": "markdown",
   "metadata": {},
   "source": [
    "# Day 24\n",
    "\n",
    "## Part I\n",
    "\n",
    "倒数第二天的问题，比起Day 22和Day 23来说略显简单，第一部分没什么好说的，就是一个坐标转换问题。这里使用复数作为六角网格中心点的坐标表示，但是有一个需要注意的地方，就是沿着斜线方向和沿着左右方向的步长理论上都是一样的，按照题目意思，应该就是正六边形的边长，但是如果需要使用实际数值的话，这里会涉及根号3，也就是sin(60)，如果使用浮点数，因为数值计算的局限性，将会有可能导致哈希的误差，也可以使用两个自定义的单位来代表sin(60)和cos(60)，然后自行实现坐标系，但是这使得问题复杂化了。因此我在第一部分中，假定六角网格不是正六边形，每次朝南北方向步进都是1，每次朝东西方向步进都是0.5，这样就能满足坐标转换的要求。\n",
    "\n",
    "下面首先实现一个函数parse_step从字符串中依次读取每个（或每两个字符）作为下一步的指令，并返回下一步位移的复数量，南北移动单位为1，东西移动单位为0.5，并且同时返回本次解析读取了字符串中的几个字符。to_path_end函数将一行指令使用parse_step函数将每一步分解出来，然后使用复数加法算出最终格子的坐标并返回："
   ]
  },
  {
   "cell_type": "code",
   "execution_count": 1,
   "metadata": {},
   "outputs": [],
   "source": [
    "from typing import Tuple\n",
    "\n",
    "def parse_step(steps: str) -> Tuple[complex, int]:\n",
    "    if steps[0] == 'n':\n",
    "        if steps[1] == 'w':\n",
    "            return -.5-1j, 2\n",
    "        if steps[1] == 'e':\n",
    "            return .5-1j, 2\n",
    "    if steps[0] == 's':\n",
    "        if steps[1] == 'w':\n",
    "            return -.5+1j, 2\n",
    "        if steps[1] == 'e':\n",
    "            return .5+1j, 2\n",
    "    if steps[0] == 'w':\n",
    "        return -1+0j, 1\n",
    "    if steps[0] == 'e':\n",
    "        return 1+0j, 1\n",
    "    return None, -1\n",
    "\n",
    "def to_path_end(line: str) -> complex:\n",
    "    ref_tile = 0 + 0j\n",
    "    while line:\n",
    "        move_to, advance = parse_step(line)\n",
    "        ref_tile += move_to\n",
    "        line = line[advance:]\n",
    "    return ref_tile"
   ]
  },
  {
   "cell_type": "markdown",
   "metadata": {},
   "source": [
    "然后是读取输入文件，以及完成第一部分逻辑的代码，格子的颜色使用一个字典tiles记录，因为是二元的，因此使用bool类型表示，True为黑色，False为白色："
   ]
  },
  {
   "cell_type": "code",
   "execution_count": 2,
   "metadata": {},
   "outputs": [],
   "source": [
    "from typing import List, Dict\n",
    "\n",
    "def read_input(input_file: str) -> List[str]:\n",
    "    with open(input_file) as fn:\n",
    "        return fn.readlines()\n",
    "\n",
    "def count_all_black_tiles(tiles: Dict[complex, bool]) -> int:\n",
    "    return sum(tiles.values())\n",
    "\n",
    "def part1_solution(line_list: List[str]) -> Dict[complex, bool]:\n",
    "    tiles = {}\n",
    "    for line in line_list:\n",
    "        end_tile = to_path_end(line.rstrip())\n",
    "        tiles.setdefault(end_tile, False)\n",
    "        tiles[end_tile] = not tiles[end_tile]\n",
    "    return tiles"
   ]
  },
  {
   "cell_type": "markdown",
   "metadata": {},
   "source": [
    "单元测试："
   ]
  },
  {
   "cell_type": "code",
   "execution_count": 3,
   "metadata": {},
   "outputs": [],
   "source": [
    "testcase = read_input('testcase1.txt')\n",
    "test_tiles = part1_solution(testcase)\n",
    "assert(count_all_black_tiles(test_tiles) == 10)"
   ]
  },
  {
   "cell_type": "markdown",
   "metadata": {},
   "source": [
    "第一部分的结果："
   ]
  },
  {
   "cell_type": "code",
   "execution_count": 4,
   "metadata": {},
   "outputs": [
    {
     "data": {
      "text/plain": [
       "339"
      ]
     },
     "execution_count": 4,
     "metadata": {},
     "output_type": "execute_result"
    }
   ],
   "source": [
    "lines = read_input('input.txt')\n",
    "tiles = part1_solution(lines)\n",
    "count_all_black_tiles(tiles)"
   ]
  },
  {
   "cell_type": "markdown",
   "metadata": {},
   "source": [
    "## Part II\n",
    "\n",
    "又是康威生命游戏变体。。。今年出现了三次。好吧，首先定义计算多少个黑色邻居的函数："
   ]
  },
  {
   "cell_type": "code",
   "execution_count": 5,
   "metadata": {},
   "outputs": [],
   "source": [
    "def count_black_neighbors(coord: complex, tiles: Dict[complex, bool]) -> int:\n",
    "    diffs = (-.5-1j, -1+0j, -.5+1j, .5+1j, 1+0j, .5-1j) # 6个邻居的坐标差值\n",
    "    counter = 0\n",
    "    for d in diffs:\n",
    "        neighbor = coord + d\n",
    "        if tiles.get(neighbor, False):\n",
    "            counter += 1\n",
    "    return counter"
   ]
  },
  {
   "cell_type": "markdown",
   "metadata": {},
   "source": [
    "新的一轮（一天）的计算函数，这里额外传递了所有黑色格子坐标的最左上角以及最右下角的两个坐标到函数，方便进行循环计算。然后在循环中重新设置最左上角和最右下角的坐标，用来代入下一次计算："
   ]
  },
  {
   "cell_type": "code",
   "execution_count": 6,
   "metadata": {},
   "outputs": [],
   "source": [
    "def next_day(tiles: Dict[complex, bool], \n",
    "             lt: complex, rb: complex) -> Tuple[Dict[complex, bool], complex, complex]:\n",
    "    minx, miny = lt.real, lt.imag\n",
    "    maxx, maxy = rb.real, rb.imag\n",
    "    new_tiles = {}\n",
    "    y = miny - 1. # y坐标最小值要减去单位 1\n",
    "    while y < maxy + 2.: # y坐标最大值要加上单位 1\n",
    "        x = minx - .5 # x 坐标最小值要减去单位0.5\n",
    "        while x < maxx + 1.: # y坐标最大值要加上单位0.5\n",
    "            coord = x + y * 1j\n",
    "            black_neighbors = count_black_neighbors(coord, tiles)\n",
    "            # 原本是黑色，并且黑色邻居数是1个或2个，保持黑色，此时不需要更新最大最小值\n",
    "            if tiles.get(coord, False) and 0 < black_neighbors <= 2:\n",
    "                new_tiles[coord] = True\n",
    "            # 原本是白色，并且黑色邻居数是2个，变为黑色，此时需要更新最大最小值\n",
    "            if not tiles.get(coord, False) and black_neighbors == 2:\n",
    "                new_tiles[coord] = True\n",
    "                if coord.real < minx:\n",
    "                    lt = coord.real + lt.imag * 1j\n",
    "                if coord.imag < miny:\n",
    "                    lt = lt.real + coord.imag * 1j\n",
    "                if coord.real > maxx:\n",
    "                    rb = coord.real + rb.imag * 1j\n",
    "                if coord.imag > maxy:\n",
    "                    rb = rb.real + coord.imag * 1j\n",
    "            x += .5\n",
    "        y += 1.\n",
    "                    \n",
    "    return new_tiles, lt, rb"
   ]
  },
  {
   "cell_type": "markdown",
   "metadata": {},
   "source": [
    "第二部分实现逻辑："
   ]
  },
  {
   "cell_type": "code",
   "execution_count": 7,
   "metadata": {},
   "outputs": [],
   "source": [
    "def part2_solution(lines: str, days: int=100) -> int:\n",
    "    # 首先借用第一部分逻辑获得tiles的初始状态\n",
    "    tiles = part1_solution(lines)\n",
    "    # 求出最左上角和最右下角坐标\n",
    "    x_list = [tile.real for tile in tiles]\n",
    "    y_list = [tile.imag for tile in tiles]\n",
    "    lt = min(x_list) + min(y_list) * 1j\n",
    "    rb = max(x_list) + max(y_list) * 1j\n",
    "    for _ in range(days):\n",
    "        tiles, lt, rb = next_day(tiles, lt, rb)\n",
    "    return count_all_black_tiles(tiles)"
   ]
  },
  {
   "cell_type": "markdown",
   "metadata": {},
   "source": [
    "单元测试："
   ]
  },
  {
   "cell_type": "code",
   "execution_count": 8,
   "metadata": {},
   "outputs": [],
   "source": [
    "assert(part2_solution(testcase) == 2208)"
   ]
  },
  {
   "cell_type": "markdown",
   "metadata": {},
   "source": [
    "第二部分结果："
   ]
  },
  {
   "cell_type": "code",
   "execution_count": 9,
   "metadata": {},
   "outputs": [
    {
     "data": {
      "text/plain": [
       "3794"
      ]
     },
     "execution_count": 9,
     "metadata": {},
     "output_type": "execute_result"
    }
   ],
   "source": [
    "part2_solution(lines)"
   ]
  },
  {
   "cell_type": "code",
   "execution_count": null,
   "metadata": {},
   "outputs": [],
   "source": []
  }
 ],
 "metadata": {
  "kernelspec": {
   "display_name": "Python 3",
   "language": "python",
   "name": "python3"
  },
  "language_info": {
   "codemirror_mode": {
    "name": "ipython",
    "version": 3
   },
   "file_extension": ".py",
   "mimetype": "text/x-python",
   "name": "python",
   "nbconvert_exporter": "python",
   "pygments_lexer": "ipython3",
   "version": "3.7.6"
  }
 },
 "nbformat": 4,
 "nbformat_minor": 4
}
