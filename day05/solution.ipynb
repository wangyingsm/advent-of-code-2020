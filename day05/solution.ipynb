{
 "cells": [
  {
   "cell_type": "markdown",
   "metadata": {},
   "source": [
    "# Day 5\n",
    "\n",
    "## Part I\n",
    "\n",
    "也是没有太大难度的一天，按照规则定义相应的解析函数。此处将前后和左右两种解析的函数合在了一个decode_pass中。然后使用to_row_col函数将登机牌字符串转换成相应的行与列值："
   ]
  },
  {
   "cell_type": "code",
   "execution_count": 1,
   "metadata": {},
   "outputs": [],
   "source": [
    "from typing import Tuple\n",
    "\n",
    "def decode_pass(pass_code: str, orient: str='FB') -> int:\n",
    "    span = 128 if orient == 'FB' else 8\n",
    "    limits = [0, 127] if orient == 'FB' else [0, 7]\n",
    "    upper = 'F' if orient == 'FB' else 'L'\n",
    "    lower = 'B' if orient == 'FB' else 'R'\n",
    "    for p in pass_code:\n",
    "        span //= 2\n",
    "        if p == upper:\n",
    "            limits = [limits[0], limits[0] + span - 1]\n",
    "        if p == lower:\n",
    "            limits = [limits[0] + span, limits[1]]\n",
    "    return limits[0]\n",
    "\n",
    "def to_row_col(boarding_pass: str) -> Tuple[int, int]:\n",
    "    return decode_pass(boarding_pass[:-3]), decode_pass(boarding_pass[-3:], orient='LR')"
   ]
  },
  {
   "cell_type": "markdown",
   "metadata": {},
   "source": [
    "使用题目中给出的一些例子进行单元测试："
   ]
  },
  {
   "cell_type": "code",
   "execution_count": 2,
   "metadata": {},
   "outputs": [],
   "source": [
    "assert(to_row_col('FBFBBFFRLR') == (44, 5))\n",
    "assert(to_row_col('BFFFBBFRRR') == (70, 7))\n",
    "assert(to_row_col('FFFBBBFRRR') == (14, 7))\n",
    "assert(to_row_col('BBFFBBFRLL') == (102, 4))"
   ]
  },
  {
   "cell_type": "markdown",
   "metadata": {},
   "source": [
    "定义求座位ID的函数："
   ]
  },
  {
   "cell_type": "code",
   "execution_count": 3,
   "metadata": {},
   "outputs": [],
   "source": [
    "def seat_id(boarding_pass: str) -> int:\n",
    "    row, col = to_row_col(boarding_pass)\n",
    "    return row * 8 + col"
   ]
  },
  {
   "cell_type": "markdown",
   "metadata": {},
   "source": [
    "同样是一些单元测试"
   ]
  },
  {
   "cell_type": "code",
   "execution_count": 4,
   "metadata": {},
   "outputs": [],
   "source": [
    "assert(seat_id('FBFBBFFRLR') == 357)\n",
    "assert(seat_id('BFFFBBFRRR') == 567)\n",
    "assert(seat_id('FFFBBBFRRR') == 119)\n",
    "assert(seat_id('BBFFBBFRLL') == 820)"
   ]
  },
  {
   "cell_type": "markdown",
   "metadata": {},
   "source": [
    "定义读取输入的函数，此处需要注意，readlines方法返回的字符串列表中的元素包含了换行符号，因此需要使用rstrip将其去除："
   ]
  },
  {
   "cell_type": "code",
   "execution_count": 5,
   "metadata": {},
   "outputs": [],
   "source": [
    "from typing import List\n",
    "\n",
    "def read_input() -> List[str]:\n",
    "    with open('input.txt') as fn:\n",
    "        return [bp.rstrip() for bp in fn.readlines()]"
   ]
  },
  {
   "cell_type": "markdown",
   "metadata": {},
   "source": [
    "第一部分的结果："
   ]
  },
  {
   "cell_type": "code",
   "execution_count": 6,
   "metadata": {},
   "outputs": [
    {
     "data": {
      "text/plain": [
       "801"
      ]
     },
     "execution_count": 6,
     "metadata": {},
     "output_type": "execute_result"
    }
   ],
   "source": [
    "boarding_passes = read_input()\n",
    "max_seat_id = max(seat_id(bp) for bp in boarding_passes)\n",
    "max_seat_id"
   ]
  },
  {
   "cell_type": "markdown",
   "metadata": {},
   "source": [
    "# Part II\n",
    "\n",
    "第二部分首先获得所有登机牌座位的集合set，然后使用最小ID和最大ID得到全集合，最后用集合运算difference求出空缺的那个，获得第二部分结果："
   ]
  },
  {
   "cell_type": "code",
   "execution_count": 7,
   "metadata": {},
   "outputs": [
    {
     "data": {
      "text/plain": [
       "{597}"
      ]
     },
     "execution_count": 7,
     "metadata": {},
     "output_type": "execute_result"
    }
   ],
   "source": [
    "seats = {seat_id(bp) for bp in boarding_passes}\n",
    "min_seat_id = min(seats)\n",
    "\n",
    "{s for s in range(min_seat_id, max_seat_id + 1)}.difference(seats)"
   ]
  },
  {
   "cell_type": "code",
   "execution_count": null,
   "metadata": {},
   "outputs": [],
   "source": []
  }
 ],
 "metadata": {
  "kernelspec": {
   "display_name": "Python 3",
   "language": "python",
   "name": "python3"
  },
  "language_info": {
   "codemirror_mode": {
    "name": "ipython",
    "version": 3
   },
   "file_extension": ".py",
   "mimetype": "text/x-python",
   "name": "python",
   "nbconvert_exporter": "python",
   "pygments_lexer": "ipython3",
   "version": "3.7.7"
  }
 },
 "nbformat": 4,
 "nbformat_minor": 4
}
