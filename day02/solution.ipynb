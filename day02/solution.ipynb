{
 "cells": [
  {
   "cell_type": "markdown",
   "metadata": {},
   "source": [
    "# Day 2\n",
    "\n",
    "## Part I\n",
    "\n",
    "首先读取输入，然后做相应处理，为了简单起见，这里还是使用Pandas包来读取输入文件。然后对得到的DataFrame进行各种数据预处理："
   ]
  },
  {
   "cell_type": "code",
   "execution_count": 1,
   "metadata": {},
   "outputs": [],
   "source": [
    "import pandas as pd\n",
    "\n",
    "def read_input() -> pd.DataFrame:\n",
    "    df = pd.read_csv('input.txt', sep=' ', header=None)\n",
    "    # 初始读取的DataFrame只有三列，设置其列label\n",
    "    df.columns = ['range', 'char', 'code']\n",
    "    \n",
    "    # 下面首先处理数据中range的m-n部分\n",
    "    ranges = df.range.str.split('-')\n",
    "    # 将m转换成整数变为df的一个新的列 least\n",
    "    df['least'] = ranges.apply(lambda x: int(x[0]))\n",
    "    # 将n转换成整数变为df的一个新的列 most\n",
    "    df['most'] = ranges.apply(lambda x: int(x[1]))\n",
    "    # range 列已经没用了，从df中删除\n",
    "    del df['range']\n",
    "    \n",
    "    # 最后处理 char 列，去除后面的冒号\n",
    "    df.char = df.char.str.rstrip(':')\n",
    "    \n",
    "    return df"
   ]
  },
  {
   "cell_type": "markdown",
   "metadata": {},
   "source": [
    "看一看读取出来的DataFrame是否满足要求："
   ]
  },
  {
   "cell_type": "code",
   "execution_count": 2,
   "metadata": {},
   "outputs": [
    {
     "data": {
      "text/html": [
       "<div>\n",
       "<style scoped>\n",
       "    .dataframe tbody tr th:only-of-type {\n",
       "        vertical-align: middle;\n",
       "    }\n",
       "\n",
       "    .dataframe tbody tr th {\n",
       "        vertical-align: top;\n",
       "    }\n",
       "\n",
       "    .dataframe thead th {\n",
       "        text-align: right;\n",
       "    }\n",
       "</style>\n",
       "<table border=\"1\" class=\"dataframe\">\n",
       "  <thead>\n",
       "    <tr style=\"text-align: right;\">\n",
       "      <th></th>\n",
       "      <th>char</th>\n",
       "      <th>code</th>\n",
       "      <th>least</th>\n",
       "      <th>most</th>\n",
       "    </tr>\n",
       "  </thead>\n",
       "  <tbody>\n",
       "    <tr>\n",
       "      <th>0</th>\n",
       "      <td>j</td>\n",
       "      <td>vrfjljjwbsv</td>\n",
       "      <td>1</td>\n",
       "      <td>7</td>\n",
       "    </tr>\n",
       "    <tr>\n",
       "      <th>1</th>\n",
       "      <td>j</td>\n",
       "      <td>jjjjjjjjjjjj</td>\n",
       "      <td>1</td>\n",
       "      <td>10</td>\n",
       "    </tr>\n",
       "    <tr>\n",
       "      <th>2</th>\n",
       "      <td>s</td>\n",
       "      <td>jfxssvtvssvsbx</td>\n",
       "      <td>9</td>\n",
       "      <td>13</td>\n",
       "    </tr>\n",
       "    <tr>\n",
       "      <th>3</th>\n",
       "      <td>d</td>\n",
       "      <td>ddvddnmdnlvdddqdcqph</td>\n",
       "      <td>10</td>\n",
       "      <td>12</td>\n",
       "    </tr>\n",
       "    <tr>\n",
       "      <th>4</th>\n",
       "      <td>b</td>\n",
       "      <td>bbbbbbbbbrbnb</td>\n",
       "      <td>11</td>\n",
       "      <td>12</td>\n",
       "    </tr>\n",
       "  </tbody>\n",
       "</table>\n",
       "</div>"
      ],
      "text/plain": [
       "  char                  code  least  most\n",
       "0    j           vrfjljjwbsv      1     7\n",
       "1    j          jjjjjjjjjjjj      1    10\n",
       "2    s        jfxssvtvssvsbx      9    13\n",
       "3    d  ddvddnmdnlvdddqdcqph     10    12\n",
       "4    b         bbbbbbbbbrbnb     11    12"
      ]
     },
     "execution_count": 2,
     "metadata": {},
     "output_type": "execute_result"
    }
   ],
   "source": [
    "df = read_input()\n",
    "df.head()"
   ]
  },
  {
   "cell_type": "markdown",
   "metadata": {},
   "source": [
    "然后使用collections.Counter来统计code列中含有char字符的数量，并判断是否符合 $[least, most]$ 区间，通过定义一个函数来完成："
   ]
  },
  {
   "cell_type": "code",
   "execution_count": 3,
   "metadata": {},
   "outputs": [],
   "source": [
    "from collections import Counter\n",
    "def part1_valid(row: pd.Series) -> bool:\n",
    "    return row['least'] <= Counter(row['code'])[row['char']] <= row['most']"
   ]
  },
  {
   "cell_type": "markdown",
   "metadata": {},
   "source": [
    "简单做两个测试："
   ]
  },
  {
   "cell_type": "code",
   "execution_count": 4,
   "metadata": {},
   "outputs": [],
   "source": [
    "assert(part1_valid(df.iloc[0]))\n",
    "\n",
    "assert(not part1_valid(df.iloc[998]))"
   ]
  },
  {
   "cell_type": "markdown",
   "metadata": {},
   "source": [
    "下面使用DataFrame的apply方法，然后利用布尔遮盖获得满足条件的行的个数："
   ]
  },
  {
   "cell_type": "code",
   "execution_count": 5,
   "metadata": {},
   "outputs": [
    {
     "data": {
      "text/plain": [
       "580"
      ]
     },
     "execution_count": 5,
     "metadata": {},
     "output_type": "execute_result"
    }
   ],
   "source": [
    "valid_codes = df.apply(part1_valid, axis=1)\n",
    "valid_codes[valid_codes].count()"
   ]
  },
  {
   "cell_type": "markdown",
   "metadata": {},
   "source": [
    "## Part II\n",
    "\n",
    "定义一个新的函数用来判断第二个问题的准则，这里使用了异或运算，当两者不同时，才会为真："
   ]
  },
  {
   "cell_type": "code",
   "execution_count": 6,
   "metadata": {},
   "outputs": [],
   "source": [
    "def part2_valid(row: pd.Series) -> bool:\n",
    "    least_valid = row['code'][row['least']-1] == row['char']\n",
    "    most_valid = row['code'][row['most']-1] == row['char']\n",
    "    return bool(least_valid ^ most_valid)"
   ]
  },
  {
   "cell_type": "markdown",
   "metadata": {},
   "source": [
    "简单做两个测试："
   ]
  },
  {
   "cell_type": "code",
   "execution_count": 7,
   "metadata": {},
   "outputs": [],
   "source": [
    "assert(part2_valid(df.iloc[0]))\n",
    "\n",
    "assert(not part2_valid(df.iloc[1]))"
   ]
  },
  {
   "cell_type": "markdown",
   "metadata": {},
   "source": [
    "同样方式，获得满足条件的行数："
   ]
  },
  {
   "cell_type": "code",
   "execution_count": 8,
   "metadata": {},
   "outputs": [
    {
     "data": {
      "text/plain": [
       "611"
      ]
     },
     "execution_count": 8,
     "metadata": {},
     "output_type": "execute_result"
    }
   ],
   "source": [
    "valid_codes = df.apply(part2_valid, axis=1)\n",
    "valid_codes[valid_codes].count()"
   ]
  },
  {
   "cell_type": "code",
   "execution_count": null,
   "metadata": {},
   "outputs": [],
   "source": []
  }
 ],
 "metadata": {
  "kernelspec": {
   "display_name": "Python 3",
   "language": "python",
   "name": "python3"
  },
  "language_info": {
   "codemirror_mode": {
    "name": "ipython",
    "version": 3
   },
   "file_extension": ".py",
   "mimetype": "text/x-python",
   "name": "python",
   "nbconvert_exporter": "python",
   "pygments_lexer": "ipython3",
   "version": "3.7.7"
  }
 },
 "nbformat": 4,
 "nbformat_minor": 4
}
