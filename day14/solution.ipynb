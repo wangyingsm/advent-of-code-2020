{
 "cells": [
  {
   "cell_type": "markdown",
   "metadata": {},
   "source": [
    "# Day 14\n",
    "\n",
    "## Part I\n",
    "\n",
    "第一部分直接实现，此处使用了Numpy数组来加快速度，然后使用两个mask，可以直接使用二进制与和或运算直接获得结果："
   ]
  },
  {
   "cell_type": "code",
   "execution_count": 1,
   "metadata": {},
   "outputs": [],
   "source": [
    "import numpy as np\n",
    "\n",
    "class DockingProgram(object):\n",
    "    def __init__(self, mem_size: int = 64 * 1024):\n",
    "        self.memory = np.zeros(mem_size, dtype='i8')\n",
    "        self.mask_0 = 1 << 36 - 1\n",
    "        self.mask_1 = 0\n",
    "    def set_mask(self, mask: str):\n",
    "        mask_0 = mask.replace('X', '1')\n",
    "        mask_1 = mask.replace('X', '0')\n",
    "        self.mask_0 = int(mask_0, 2)\n",
    "        self.mask_1 = int(mask_1, 2)\n",
    "    def set_memory(self, index: str, value: str):\n",
    "        value = int(value) & self.mask_0 | self.mask_1\n",
    "        self.memory[int(index)] = value\n",
    "    def memory_sum(self) -> int:\n",
    "        return self.memory.sum()\n",
    "    def run(self, command: str):\n",
    "        parts = command.rstrip().split(' = ')\n",
    "        if parts[0] == 'mask':\n",
    "            self.set_mask(parts[1])\n",
    "        elif parts[0][:3] == 'mem':\n",
    "            self.set_memory(parts[0][4:-1], parts[1])"
   ]
  },
  {
   "cell_type": "markdown",
   "metadata": {},
   "source": [
    "读取输入文件函数和第一部分实现的逻辑："
   ]
  },
  {
   "cell_type": "code",
   "execution_count": 2,
   "metadata": {},
   "outputs": [],
   "source": [
    "from typing import List\n",
    "\n",
    "def read_input(input_file: str) -> List[str]:\n",
    "    with open(input_file) as fn:\n",
    "        return fn.readlines()\n",
    "\n",
    "def part1_solution(commands: List[str]) -> int:\n",
    "    program = DockingProgram()\n",
    "    for command in commands:\n",
    "        program.run(command)\n",
    "    return program.memory_sum()"
   ]
  },
  {
   "cell_type": "markdown",
   "metadata": {},
   "source": [
    "单元测试："
   ]
  },
  {
   "cell_type": "code",
   "execution_count": 3,
   "metadata": {},
   "outputs": [],
   "source": [
    "testcase = read_input('testcase1.txt')\n",
    "assert(part1_solution(testcase) == 165)"
   ]
  },
  {
   "cell_type": "markdown",
   "metadata": {},
   "source": [
    "然后得到第一部分结果："
   ]
  },
  {
   "cell_type": "code",
   "execution_count": 4,
   "metadata": {},
   "outputs": [
    {
     "data": {
      "text/plain": [
       "3059488894985"
      ]
     },
     "execution_count": 4,
     "metadata": {},
     "output_type": "execute_result"
    }
   ],
   "source": [
    "commands = read_input('input.txt')\n",
    "part1_solution(commands)"
   ]
  },
  {
   "cell_type": "markdown",
   "metadata": {},
   "source": [
    "## Part II\n",
    "\n",
    "第二部分稍微复杂一点，首先定义一个BitMask类来实现对内存地址的mask操作，此处使用了Numpy数组本身的各种选择操作："
   ]
  },
  {
   "cell_type": "code",
   "execution_count": 5,
   "metadata": {},
   "outputs": [],
   "source": [
    "class BitMask(object):\n",
    "    def __init__(self, mask: str):\n",
    "        self.mask = np.array(list(mask))\n",
    "    def do_mask(self, value: str) -> List[int]:\n",
    "        value = np.array(list(np.binary_repr(int(value)).zfill(36)))\n",
    "        for index, bit in enumerate(self.mask):\n",
    "            if bit == '1' or bit == 'X':\n",
    "                value[index] = bit\n",
    "        xcount = (value=='X').sum()\n",
    "        result = []\n",
    "        for i in range(1<<xcount):\n",
    "            xs = np.binary_repr(i).zfill(xcount)\n",
    "            v = value.copy()\n",
    "            v[v=='X'] = np.array(list(xs))\n",
    "            result.append(int(''.join(v.tolist()), 2))\n",
    "        return result"
   ]
  },
  {
   "cell_type": "markdown",
   "metadata": {},
   "source": [
    "然后先对BitMask进行单元测试："
   ]
  },
  {
   "cell_type": "code",
   "execution_count": 6,
   "metadata": {},
   "outputs": [],
   "source": [
    "bm = BitMask('000000000000000000000000000000X1001X')\n",
    "assert(bm.do_mask('42') == [26, 27, 58, 59])\n",
    "\n",
    "bm = BitMask('00000000000000000000000000000000X0XX')\n",
    "assert(bm.do_mask('26') == [16, 17, 18, 19, 24, 25, 26, 27])"
   ]
  },
  {
   "cell_type": "markdown",
   "metadata": {},
   "source": [
    "下面需要重新定义DockingProgram类，创建一个新的DockingProgram2类，这里的内存内容无法再使用Numpy数组来加速，因为地址可能高达36bit长度，所以，为了节省内存，这里采用了字典来作为memory的类型，同时牺牲了一定性能："
   ]
  },
  {
   "cell_type": "code",
   "execution_count": 7,
   "metadata": {},
   "outputs": [],
   "source": [
    "class DockingProgram2(object):\n",
    "    def __init__(self, mem_size: int = 64 * 1024, bit_size: int=36):\n",
    "        self.memory = {}\n",
    "        self.mask = BitMask('0' * bit_size)\n",
    "    def set_mask(self, mask: str):\n",
    "        self.mask = BitMask(mask)\n",
    "    def set_memory(self, index: str, value: str):\n",
    "        indices = self.mask.do_mask(index)\n",
    "        for index in indices:\n",
    "            self.memory[index] = int(value)\n",
    "    def memory_sum(self) -> int:\n",
    "        return sum(self.memory.values())\n",
    "    def run(self, command: str):\n",
    "        parts = command.rstrip().split(' = ')\n",
    "        if parts[0] == 'mask':\n",
    "            self.set_mask(parts[1])\n",
    "        elif parts[0][:3] == 'mem':\n",
    "            self.set_memory(parts[0][4:-1], parts[1])"
   ]
  },
  {
   "cell_type": "markdown",
   "metadata": {},
   "source": [
    "第二部分的实现逻辑："
   ]
  },
  {
   "cell_type": "code",
   "execution_count": 8,
   "metadata": {},
   "outputs": [],
   "source": [
    "def part2_solution(commands: List[str]) -> int:\n",
    "    program = DockingProgram2()\n",
    "    for command in commands:\n",
    "        program.run(command)\n",
    "    return program.memory_sum()"
   ]
  },
  {
   "cell_type": "markdown",
   "metadata": {},
   "source": [
    "第二部分单元测试："
   ]
  },
  {
   "cell_type": "code",
   "execution_count": 9,
   "metadata": {},
   "outputs": [],
   "source": [
    "testcase2 = read_input('testcase2.txt')\n",
    "assert(part2_solution(testcase2) == 208)"
   ]
  },
  {
   "cell_type": "markdown",
   "metadata": {},
   "source": [
    "最后得到第二部分的结果："
   ]
  },
  {
   "cell_type": "code",
   "execution_count": 10,
   "metadata": {},
   "outputs": [
    {
     "data": {
      "text/plain": [
       "2900994392308"
      ]
     },
     "execution_count": 10,
     "metadata": {},
     "output_type": "execute_result"
    }
   ],
   "source": [
    "part2_solution(commands)"
   ]
  },
  {
   "cell_type": "code",
   "execution_count": null,
   "metadata": {},
   "outputs": [],
   "source": []
  }
 ],
 "metadata": {
  "kernelspec": {
   "display_name": "Python 3",
   "language": "python",
   "name": "python3"
  },
  "language_info": {
   "codemirror_mode": {
    "name": "ipython",
    "version": 3
   },
   "file_extension": ".py",
   "mimetype": "text/x-python",
   "name": "python",
   "nbconvert_exporter": "python",
   "pygments_lexer": "ipython3",
   "version": "3.7.6"
  }
 },
 "nbformat": 4,
 "nbformat_minor": 4
}
