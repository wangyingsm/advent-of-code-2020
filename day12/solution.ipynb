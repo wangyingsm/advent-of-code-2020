{
 "cells": [
  {
   "cell_type": "markdown",
   "metadata": {},
   "source": [
    "# Day 12\n",
    "\n",
    "## Part I\n",
    "\n",
    "第一部分按照题目要求写代码即可，这里使用了两个枚举量，一个代表方向，一个代表转向："
   ]
  },
  {
   "cell_type": "code",
   "execution_count": 1,
   "metadata": {},
   "outputs": [],
   "source": [
    "from enum import Enum\n",
    "\n",
    "Directions = Enum('Directions', ('east', 'south', 'west', 'north'), start = 0)\n",
    "\n",
    "Turn = Enum('Turn', ('left', 'right'))"
   ]
  },
  {
   "cell_type": "markdown",
   "metadata": {},
   "source": [
    "下面定义核心逻辑类Ferry，实现移动、前进和转向的逻辑，其中转向的逻辑使用了整数向枚举的转换："
   ]
  },
  {
   "cell_type": "code",
   "execution_count": 2,
   "metadata": {},
   "outputs": [],
   "source": [
    "class Ferry(object):\n",
    "    def __init__(self):\n",
    "        self.facing = Directions.east\n",
    "        self.x = 0\n",
    "        self.y = 0\n",
    "    def move_direction(self, d: Directions, value: int):\n",
    "        if d == Directions.east:\n",
    "            self.x += value\n",
    "        elif d == Directions.west:\n",
    "            self.x -= value\n",
    "        elif d == Directions.north:\n",
    "            self.y += value\n",
    "        elif d == Directions.south:\n",
    "            self.y -= value\n",
    "    def forward(self, value: int):\n",
    "        self.move_direction(self.facing, value)\n",
    "    def turn(self, d: Turn, value: int):\n",
    "        # 转向的角度整除90度，然后设置成船的新朝向\n",
    "        new_d = self.facing.value + value // 90 if d == Turn.right else self.facing.value - value // 90\n",
    "        self.facing = Directions(new_d % 4)\n",
    "    def manhatten_distance(self):\n",
    "        return abs(self.x) + abs(self.y)\n",
    "    def do_instruction(self, inst: str, value: int):\n",
    "        # 这个方法用来执行每一行的指令\n",
    "        if inst == 'N':\n",
    "            self.move_direction(Directions.north, value)\n",
    "        elif inst == 'S':\n",
    "            self.move_direction(Directions.south, value)\n",
    "        elif inst == 'E':\n",
    "            self.move_direction(Directions.east, value)\n",
    "        elif inst == 'W':\n",
    "            self.move_direction(Directions.west, value)\n",
    "        elif inst == 'F':\n",
    "            self.forward(value)\n",
    "        elif inst == 'L':\n",
    "            self.turn(Turn.left, value)\n",
    "        elif inst == 'R':\n",
    "            self.turn(Turn.right, value)"
   ]
  },
  {
   "cell_type": "markdown",
   "metadata": {},
   "source": [
    "读取和处理输入数据，放置到一个字符串和整数组成的元组列表中："
   ]
  },
  {
   "cell_type": "code",
   "execution_count": 3,
   "metadata": {},
   "outputs": [],
   "source": [
    "from typing import List, Tuple\n",
    "\n",
    "def read_input(input_file: str) -> List[Tuple[str, int]]:\n",
    "    with open(input_file) as fn:\n",
    "        return [(line[0], int(line.rstrip()[1:])) for line in fn.readlines()]"
   ]
  },
  {
   "cell_type": "markdown",
   "metadata": {},
   "source": [
    "第一部分的问题，定义为函数："
   ]
  },
  {
   "cell_type": "code",
   "execution_count": 4,
   "metadata": {},
   "outputs": [],
   "source": [
    "def part1_solution(input_file: str) -> int:\n",
    "    ferry = Ferry()\n",
    "    for inst, value in read_input(input_file):\n",
    "        ferry.do_instruction(inst, value)\n",
    "    return ferry.manhatten_distance()"
   ]
  },
  {
   "cell_type": "markdown",
   "metadata": {},
   "source": [
    "单元测试："
   ]
  },
  {
   "cell_type": "code",
   "execution_count": 5,
   "metadata": {},
   "outputs": [],
   "source": [
    "assert(part1_solution('testcase1.txt') == 25)"
   ]
  },
  {
   "cell_type": "markdown",
   "metadata": {},
   "source": [
    "第一部分的结果："
   ]
  },
  {
   "cell_type": "code",
   "execution_count": 6,
   "metadata": {},
   "outputs": [
    {
     "data": {
      "text/plain": [
       "1533"
      ]
     },
     "execution_count": 6,
     "metadata": {},
     "output_type": "execute_result"
    }
   ],
   "source": [
    "part1_solution('input.txt')"
   ]
  },
  {
   "cell_type": "markdown",
   "metadata": {},
   "source": [
    "## Part II\n",
    "\n",
    "第二部分修改了大部分的逻辑，因此下面重新定义了一个Ferry2类来处理核心逻辑，由于不再关心船只的朝向，转而关注waypoint的位置，因此代码中直接使用了复数来表示船只位置和waypoint的相对位置。用复数的好处是前进逻辑只需要用复数运算即可完成，并且转向逻辑更加简单，右转90度就是乘上-1j，左转90度就是乘上1j："
   ]
  },
  {
   "cell_type": "code",
   "execution_count": 7,
   "metadata": {},
   "outputs": [],
   "source": [
    "class Ferry2(object):\n",
    "    def __init__(self):\n",
    "        self.position = 0 + 0j\n",
    "        self.waypoint = 10 + 1j\n",
    "    def move_waypoint(self, d: Directions, value: int):\n",
    "        if d == Directions.east:\n",
    "            self.waypoint += value\n",
    "        elif d == Directions.west:\n",
    "            self.waypoint -= value\n",
    "        elif d == Directions.north:\n",
    "            self.waypoint += value * 1j\n",
    "        elif d == Directions.south:\n",
    "            self.waypoint -= value * 1j\n",
    "    def forward(self, value: int):\n",
    "        self.position += value * self.waypoint\n",
    "    def turn(self, d: Turn, value: int):\n",
    "        for _ in range(value // 90 % 4):\n",
    "            if d == Turn.left:\n",
    "                self.waypoint *= 1j\n",
    "            else:\n",
    "                self.waypoint *= -1j\n",
    "    def manhatten_distance(self):\n",
    "        return abs(int(self.position.real)) + abs(int(self.position.imag))\n",
    "    def do_instruction(self, inst: str, value: int):\n",
    "        if inst == 'N':\n",
    "            self.move_waypoint(Directions.north, value)\n",
    "        elif inst == 'S':\n",
    "            self.move_waypoint(Directions.south, value)\n",
    "        elif inst == 'E':\n",
    "            self.move_waypoint(Directions.east, value)\n",
    "        elif inst == 'W':\n",
    "            self.move_waypoint(Directions.west, value)\n",
    "        elif inst == 'F':\n",
    "            self.forward(value)\n",
    "        elif inst == 'L':\n",
    "            self.turn(Turn.left, value)\n",
    "        elif inst == 'R':\n",
    "            self.turn(Turn.right, value)"
   ]
  },
  {
   "cell_type": "markdown",
   "metadata": {},
   "source": [
    "第一部分求结果的函数："
   ]
  },
  {
   "cell_type": "code",
   "execution_count": 8,
   "metadata": {},
   "outputs": [],
   "source": [
    "def part2_solution(input_file: str) -> int:\n",
    "    ferry = Ferry2()\n",
    "    for inst, value in read_input(input_file):\n",
    "        ferry.do_instruction(inst, value)\n",
    "    return ferry.manhatten_distance()"
   ]
  },
  {
   "cell_type": "markdown",
   "metadata": {},
   "source": [
    "单元测试"
   ]
  },
  {
   "cell_type": "code",
   "execution_count": 9,
   "metadata": {},
   "outputs": [],
   "source": [
    "assert(part2_solution('testcase1.txt') == 286)"
   ]
  },
  {
   "cell_type": "markdown",
   "metadata": {},
   "source": [
    "第二部分的结果："
   ]
  },
  {
   "cell_type": "code",
   "execution_count": 10,
   "metadata": {},
   "outputs": [
    {
     "data": {
      "text/plain": [
       "25235"
      ]
     },
     "execution_count": 10,
     "metadata": {},
     "output_type": "execute_result"
    }
   ],
   "source": [
    "part2_solution('input.txt')"
   ]
  },
  {
   "cell_type": "code",
   "execution_count": null,
   "metadata": {},
   "outputs": [],
   "source": []
  }
 ],
 "metadata": {
  "kernelspec": {
   "display_name": "Python 3",
   "language": "python",
   "name": "python3"
  },
  "language_info": {
   "codemirror_mode": {
    "name": "ipython",
    "version": 3
   },
   "file_extension": ".py",
   "mimetype": "text/x-python",
   "name": "python",
   "nbconvert_exporter": "python",
   "pygments_lexer": "ipython3",
   "version": "3.7.7"
  }
 },
 "nbformat": 4,
 "nbformat_minor": 4
}
