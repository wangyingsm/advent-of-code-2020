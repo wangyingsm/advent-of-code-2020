{
 "cells": [
  {
   "cell_type": "markdown",
   "metadata": {},
   "source": [
    "# Day 15\n",
    "\n",
    "## Part I\n",
    "\n",
    "题目理解没有什么难度，关键在性能，如果按照题目描述，一路往下计算数列的下一个值，每次都回头查找最后一个数字在数列中最后一次出现的位置（或者根本不存在，为0），那么计算量及其巨大，显然无法在可接受时间内完成。\n",
    "\n",
    "下面首先采用了一个字典，用来记录每个出现过的数字在数列中最后一次出现的位置，然后当计算下一个数字时，只需要在字典中去查找这个数字是否存在，如果存在则计算当前位置和其最后一个位置之间的差值称为下一个数字，如果不存在则为0："
   ]
  },
  {
   "cell_type": "code",
   "execution_count": 1,
   "metadata": {},
   "outputs": [],
   "source": [
    "from typing import List\n",
    "\n",
    "def count_to_turn(serie: List[int], turn: int=2020) -> int:\n",
    "    # 首先将除最后一个数字外的其他数字及其在数列中的位置加入records字典\n",
    "    records = {n: i for i, n in enumerate(serie[:-1])}\n",
    "    l = len(serie)\n",
    "    # 当前最后一个数字即为数列最后一项\n",
    "    age = serie[-1]\n",
    "    while True:\n",
    "        # 达到目标，直接返回最后一个数字即可\n",
    "        if l == turn:\n",
    "            return age\n",
    "        # 如果records中不存在age，则将当前位置记录在records中的age键上，age为0\n",
    "        if age not in records:\n",
    "            records[age] = l - 1\n",
    "            age = 0\n",
    "        # 否则，计算当前位置和最后一次出现位置的差值，同样也需要记录当前位置在age键上\n",
    "        else:\n",
    "            last = records[age]\n",
    "            records[age] = l - 1\n",
    "            age = l - last - 1\n",
    "        l += 1"
   ]
  },
  {
   "cell_type": "markdown",
   "metadata": {},
   "source": [
    "单元测试："
   ]
  },
  {
   "cell_type": "code",
   "execution_count": 2,
   "metadata": {},
   "outputs": [],
   "source": [
    "assert(count_to_turn([0, 3, 6], 2020) == 436);\n",
    "assert(count_to_turn([1, 3, 2], 2020) == 1);\n",
    "assert(count_to_turn([2, 1, 3], 2020) == 10);\n",
    "assert(count_to_turn([1, 2, 3], 2020) == 27);\n",
    "assert(count_to_turn([2, 3, 1], 2020) == 78);\n",
    "assert(count_to_turn([3, 2, 1], 2020) == 438);\n",
    "assert(count_to_turn([3, 1, 2], 2020) == 1836);"
   ]
  },
  {
   "cell_type": "markdown",
   "metadata": {},
   "source": [
    "第一部分结果："
   ]
  },
  {
   "cell_type": "code",
   "execution_count": 3,
   "metadata": {},
   "outputs": [
    {
     "data": {
      "text/plain": [
       "447"
      ]
     },
     "execution_count": 3,
     "metadata": {},
     "output_type": "execute_result"
    }
   ],
   "source": [
    "count_to_turn([8, 11, 0, 19, 1, 2], 2020)"
   ]
  },
  {
   "cell_type": "markdown",
   "metadata": {},
   "source": [
    "## Part II\n",
    "\n",
    "第二部分，需要计算一个三千万的迭代，计算量相当巨大。因此我们需要重新思考策略。\n",
    "\n",
    "下面我们使用空间换时间策略，采用一个足够大的数组（因为数列中可能出现的数不可能比迭代次数更大，因此数组长度可以直接使用迭代次数保证足够大），并且使用Numpy数组进一步提升性能，当然这样还不够，还需要使用numba的nopython jit与numpy配合，已达到进一步提升性能的目标。改进后的函数版本："
   ]
  },
  {
   "cell_type": "code",
   "execution_count": 4,
   "metadata": {},
   "outputs": [],
   "source": [
    "import numpy as np\n",
    "from numba import jit, njit\n",
    "\n",
    "@njit\n",
    "def count_to_turn_array(serie: np.ndarray, turn: int=2020) -> int:\n",
    "    records = np.zeros(turn, dtype=np.int32)\n",
    "    for i, n in enumerate(serie[:-1]):\n",
    "        records[n] = i + 1\n",
    "    l = len(serie)\n",
    "    age = serie[-1]\n",
    "    while True:\n",
    "        if l == turn:\n",
    "            return age\n",
    "        # 如果records中age项目为0，则将当前位置记录在records中的age键上，age为0\n",
    "        if not records[age]:\n",
    "            records[age] = l\n",
    "            age = 0\n",
    "        # 否则，计算当前位置和最后一次出现位置的差值，同样也需要记录当前位置在age键上\n",
    "        else:\n",
    "            last = records[age]\n",
    "            records[age] = l\n",
    "            age = l - last\n",
    "        l += 1"
   ]
  },
  {
   "cell_type": "markdown",
   "metadata": {},
   "source": [
    "单元测试："
   ]
  },
  {
   "cell_type": "code",
   "execution_count": 6,
   "metadata": {
    "scrolled": true
   },
   "outputs": [],
   "source": [
    "assert(count_to_turn_array(np.array([0, 3, 6]), 30_000_000) == 175594);\n",
    "assert(count_to_turn_array(np.array([1, 3, 2]), 30_000_000) == 2578);\n",
    "assert(count_to_turn_array(np.array([2, 1, 3]), 30_000_000) == 3544142);\n",
    "assert(count_to_turn_array(np.array([1, 2, 3]), 30_000_000) == 261214);\n",
    "assert(count_to_turn_array(np.array([2, 3, 1]), 30_000_000) == 6895259);\n",
    "assert(count_to_turn_array(np.array([3, 2, 1]), 30_000_000) == 18);\n",
    "assert(count_to_turn_array(np.array([3, 1, 2]), 30_000_000) == 362);"
   ]
  },
  {
   "cell_type": "markdown",
   "metadata": {},
   "source": [
    "第二部分结果："
   ]
  },
  {
   "cell_type": "code",
   "execution_count": 8,
   "metadata": {},
   "outputs": [
    {
     "data": {
      "text/plain": [
       "11721679"
      ]
     },
     "execution_count": 8,
     "metadata": {},
     "output_type": "execute_result"
    }
   ],
   "source": [
    "count_to_turn_array(np.array([8, 11, 0, 19, 1, 2]), 30000000)"
   ]
  },
  {
   "cell_type": "markdown",
   "metadata": {},
   "source": [
    "看看性能情况："
   ]
  },
  {
   "cell_type": "code",
   "execution_count": 9,
   "metadata": {},
   "outputs": [
    {
     "name": "stdout",
     "output_type": "stream",
     "text": [
      "525 ms ± 21.4 ms per loop (mean ± std. dev. of 7 runs, 1 loop each)\n"
     ]
    }
   ],
   "source": [
    "%timeit count_to_turn_array(np.array([8, 11, 0, 19, 1, 2]), 30000000)"
   ]
  },
  {
   "cell_type": "markdown",
   "metadata": {},
   "source": [
    "事实上，这样优化之后，这个运行时间比使用Rust的同样算法还要短，不得不佩服Numpy和Numba的优化效果。"
   ]
  },
  {
   "cell_type": "markdown",
   "metadata": {},
   "source": [
    "第一部分同样可以采用下面这个函数进行计算："
   ]
  },
  {
   "cell_type": "code",
   "execution_count": 10,
   "metadata": {},
   "outputs": [
    {
     "data": {
      "text/plain": [
       "447"
      ]
     },
     "execution_count": 10,
     "metadata": {},
     "output_type": "execute_result"
    }
   ],
   "source": [
    "count_to_turn_array([8, 11, 0, 19, 1, 2], 2020)"
   ]
  },
  {
   "cell_type": "code",
   "execution_count": null,
   "metadata": {},
   "outputs": [],
   "source": []
  }
 ],
 "metadata": {
  "kernelspec": {
   "display_name": "Python 3",
   "language": "python",
   "name": "python3"
  },
  "language_info": {
   "codemirror_mode": {
    "name": "ipython",
    "version": 3
   },
   "file_extension": ".py",
   "mimetype": "text/x-python",
   "name": "python",
   "nbconvert_exporter": "python",
   "pygments_lexer": "ipython3",
   "version": "3.7.6"
  }
 },
 "nbformat": 4,
 "nbformat_minor": 4
}
