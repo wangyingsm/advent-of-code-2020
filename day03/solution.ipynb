{
 "cells": [
  {
   "cell_type": "markdown",
   "metadata": {},
   "source": [
    "# Day 3\n",
    "\n",
    "## Part I\n",
    "\n",
    "处理输入，仍然使用Pandas简化代码量，读取输入文件后获得一个Numpy数组，方便后续计算："
   ]
  },
  {
   "cell_type": "code",
   "execution_count": 1,
   "metadata": {},
   "outputs": [],
   "source": [
    "import numpy as np\n",
    "import pandas as pd\n",
    "\n",
    "def read_input() -> np.ndarray:\n",
    "    df = pd.read_csv('input.txt', header=None)\n",
    "    # 将读取获得的唯一一列字符串打散成每个字符多个列\n",
    "    df = df[0].apply(lambda x: pd.Series(list(x)))\n",
    "    # 返回底层Numpy数组\n",
    "    return df.to_numpy()"
   ]
  },
  {
   "cell_type": "markdown",
   "metadata": {},
   "source": [
    "定义一个处理矩阵的函数，因为地图可以无限向右扩展，因此，c每次需要模除矩阵的列数："
   ]
  },
  {
   "cell_type": "code",
   "execution_count": 2,
   "metadata": {},
   "outputs": [],
   "source": [
    "def part1_solution(tree_map: np.ndarray) -> int:\n",
    "    rows, cols = tree_map.shape\n",
    "    c = 0\n",
    "    tree_count = 0\n",
    "    for r in range(rows):\n",
    "        c = c % cols\n",
    "        if tree_map[r, c] == '#':\n",
    "            tree_count += 1\n",
    "        c += 3\n",
    "    return tree_count"
   ]
  },
  {
   "cell_type": "code",
   "execution_count": 3,
   "metadata": {},
   "outputs": [
    {
     "data": {
      "text/plain": [
       "247"
      ]
     },
     "execution_count": 3,
     "metadata": {},
     "output_type": "execute_result"
    }
   ],
   "source": [
    "tree_map = read_input()\n",
    "part1_solution(tree_map)"
   ]
  },
  {
   "cell_type": "markdown",
   "metadata": {},
   "source": [
    "## Part II\n",
    "\n",
    "事实上，第二部分只需要在第一部分上修改即可，为了清晰起见，这里定义了一个新的函数来进行计算："
   ]
  },
  {
   "cell_type": "code",
   "execution_count": 4,
   "metadata": {},
   "outputs": [],
   "source": [
    "from typing import Tuple\n",
    "\n",
    "def part2_solution(tree_map: np.ndarray, slope: Tuple[int, int]) -> int:\n",
    "    # 接受一个新的参数，斜率，是一个元组，作为向右前进和向下前进的步长\n",
    "    rows, cols = tree_map.shape\n",
    "    c = 0\n",
    "    tree_count = 0\n",
    "    for r in range(0, rows, slope[1]):\n",
    "        c = c % cols\n",
    "        if tree_map[r, c] == '#':\n",
    "            tree_count += 1\n",
    "        c += slope[0]\n",
    "    return tree_count"
   ]
  },
  {
   "cell_type": "markdown",
   "metadata": {},
   "source": [
    "将第一部分结果作为一个简单的测试："
   ]
  },
  {
   "cell_type": "code",
   "execution_count": 5,
   "metadata": {},
   "outputs": [],
   "source": [
    "assert(part2_solution(tree_map, (3, 1)) == 247)"
   ]
  },
  {
   "cell_type": "markdown",
   "metadata": {},
   "source": [
    "使用reduce来计算所有斜率会碰到树的乘积："
   ]
  },
  {
   "cell_type": "code",
   "execution_count": 6,
   "metadata": {},
   "outputs": [
    {
     "data": {
      "text/plain": [
       "2983070376"
      ]
     },
     "execution_count": 6,
     "metadata": {},
     "output_type": "execute_result"
    }
   ],
   "source": [
    "from functools import reduce\n",
    "\n",
    "reduce(lambda x, y: x * y, (part2_solution(tree_map, s) \n",
    "                            for s in [(1, 1), (3, 1), (5, 1), (7, 1), (1, 2)]), 1)"
   ]
  },
  {
   "cell_type": "code",
   "execution_count": null,
   "metadata": {},
   "outputs": [],
   "source": []
  }
 ],
 "metadata": {
  "kernelspec": {
   "display_name": "Python 3.7.6 64-bit ('base': conda)",
   "language": "python",
   "name": "python37664bitbaseconda70fb04b0bd9543d0a4d5588de79b26c5"
  },
  "language_info": {
   "codemirror_mode": {
    "name": "ipython",
    "version": 3
   },
   "file_extension": ".py",
   "mimetype": "text/x-python",
   "name": "python",
   "nbconvert_exporter": "python",
   "pygments_lexer": "ipython3",
   "version": "3.7.6"
  }
 },
 "nbformat": 4,
 "nbformat_minor": 4
}
