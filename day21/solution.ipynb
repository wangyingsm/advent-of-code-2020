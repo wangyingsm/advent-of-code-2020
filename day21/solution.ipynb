{
 "cells": [
  {
   "cell_type": "markdown",
   "metadata": {},
   "source": [
    "# Day 21\n",
    "\n",
    "## Part I\n",
    "\n",
    "本日是复杂的集合运算，基本就是二维表中的基本运算实现。对于使用Python来说，无疑Pandas是最合适的工具。我们首先需要将输入数据处理成一个Pandas的DataFrame，其行index是所有输入中出现的那些乱七八糟的字符串（原料名称），其列columns是所有输入中出现的那些过敏反应。整张二维表默认初始化为全0，表示暂无配方和过敏源，然后再次遍历每条配方，每次出现配方的原料和相应的过敏反应时，都在原表的基础上加一，最后输出这个DataFrame和配方列表。下面是读取输入函数的定义："
   ]
  },
  {
   "cell_type": "code",
   "execution_count": 1,
   "metadata": {},
   "outputs": [],
   "source": [
    "from typing import List, Tuple\n",
    "import pandas as pd\n",
    "import numpy as np\n",
    "\n",
    "def read_input(input_file: str) -> Tuple[pd.DataFrame, List[List[str]]]:\n",
    "    # 用来记录所有的过敏反应和原料\n",
    "    allergens = set()\n",
    "    ingredients = set()\n",
    "    # 所有的配方，最后作为元组的第二个返回值\n",
    "    formulas = []\n",
    "    with open(input_file) as fn:\n",
    "        lines = fn.readlines()\n",
    "    # 第一次遍历，将所有过敏反应和原料都放在集合中，最后用来创建一个全0的DataFrame\n",
    "    for line in lines:\n",
    "        part1, part2 = line.rstrip().split(' (')\n",
    "        for ing in part1.split(' '):\n",
    "            ingredients.add(ing)\n",
    "        for aller in part2[9:].rstrip(')').split(', '):\n",
    "            allergens.add(aller)\n",
    "    df = pd.DataFrame(np.zeros((len(ingredients), len(allergens)), dtype=int), \n",
    "                      index=ingredients, columns=allergens)\n",
    "    \n",
    "    # 第二次遍历，将每条配方中原料和过敏反应都累加，并产生配方列表\n",
    "    for line in lines:\n",
    "        part1, part2 = line.rstrip().split(' (')\n",
    "        formulas.append(part1.split(' '))\n",
    "        for aller in part2[9:].rstrip(')').split(', '):\n",
    "            df.loc[part1.split(' '), aller] += 1\n",
    "    return df, formulas"
   ]
  },
  {
   "cell_type": "markdown",
   "metadata": {},
   "source": [
    "下面是关键逻辑函数，在整个DataFrame中找到所有对应的过敏源。这个函数的逻辑是，用一个字典记录所有已经找到的过敏源对应关系，直到找到所有的过敏反应为止。如果DataFrame中有一列只有一个最大值，那么这个最大值对应的index就是这个过敏反应的过敏源，将其加入字典中后，再将这个单元格（过敏反应和原料对应）所在的行和列都全部重置为0，表示这个原料已经不可能是其他过敏反应的源，同样这个过敏反应也不再可能是由其他原料引起的（题设中的1对1关系）。当所有的过敏源都找到后，DataFrame将会全部重置为0："
   ]
  },
  {
   "cell_type": "code",
   "execution_count": 2,
   "metadata": {},
   "outputs": [],
   "source": [
    "def find_all_source(df: pd.DataFrame) -> Tuple[List[str], List[str]]:\n",
    "\n",
    "    known_allergens = {}\n",
    "\n",
    "    while len(known_allergens) != len(df.columns):\n",
    "        for col in df:\n",
    "            max_rows = df[df[col]==df[col].max()]\n",
    "            if len(max_rows) == 1:\n",
    "                index = max_rows.index[0]\n",
    "                known_allergens[col] = index\n",
    "                df.loc[index] = 0\n",
    "                df[col] = 0\n",
    "    \n",
    "    # 将找到的过敏源对应关系，按照过敏反应排序，然后输出到一个列表中，这是第二部分的问题\n",
    "    aller_ings = [v[1] for v in sorted(known_allergens.items(), key=lambda x: x[0])]\n",
    "\n",
    "    return list(set(df.index).difference(known_allergens.values())), aller_ings"
   ]
  },
  {
   "cell_type": "markdown",
   "metadata": {},
   "source": [
    "## Part II\n",
    "\n",
    "本来下面应该是第一部分的逻辑，但是完成后发现第二部分其实也一并解决了，于是就将两个部分的实现逻辑合并成了下面一个函数："
   ]
  },
  {
   "cell_type": "code",
   "execution_count": 3,
   "metadata": {},
   "outputs": [],
   "source": [
    "def all_solution(df: pd.DataFrame, formulas: List[List[str]]) -> Tuple[int, str]:\n",
    "    sources, aller_ings = find_all_source(df)\n",
    "    counter = 0\n",
    "    # 第一部分要计算不是过敏源的原料在所有配方中出现的次数总和\n",
    "    for source in sources:\n",
    "        for formula in formulas:\n",
    "            if source in formula:\n",
    "                counter += 1\n",
    "    # 返回第一部分结果和第二部分结果\n",
    "    return counter, ','.join(aller_ings)"
   ]
  },
  {
   "cell_type": "markdown",
   "metadata": {},
   "source": [
    "单元测试："
   ]
  },
  {
   "cell_type": "code",
   "execution_count": 4,
   "metadata": {},
   "outputs": [],
   "source": [
    "test_df, test_formulas = read_input('testcase1.txt')\n",
    "assert(all_solution(test_df, test_formulas) == (5, 'mxmxvkd,sqjhc,fvjkl'))"
   ]
  },
  {
   "cell_type": "markdown",
   "metadata": {},
   "source": [
    "两个部分结果一起算出来："
   ]
  },
  {
   "cell_type": "code",
   "execution_count": 5,
   "metadata": {},
   "outputs": [
    {
     "data": {
      "text/plain": [
       "(2287, 'fntg,gtqfrp,xlvrggj,rlsr,xpbxbv,jtjtrd,fvjkp,zhszc')"
      ]
     },
     "execution_count": 5,
     "metadata": {},
     "output_type": "execute_result"
    }
   ],
   "source": [
    "df, formulas = read_input('input.txt')\n",
    "all_solution(df, formulas)"
   ]
  },
  {
   "cell_type": "code",
   "execution_count": null,
   "metadata": {},
   "outputs": [],
   "source": []
  }
 ],
 "metadata": {
  "kernelspec": {
   "display_name": "Python 3",
   "language": "python",
   "name": "python3"
  },
  "language_info": {
   "codemirror_mode": {
    "name": "ipython",
    "version": 3
   },
   "file_extension": ".py",
   "mimetype": "text/x-python",
   "name": "python",
   "nbconvert_exporter": "python",
   "pygments_lexer": "ipython3",
   "version": "3.7.6"
  }
 },
 "nbformat": 4,
 "nbformat_minor": 4
}
