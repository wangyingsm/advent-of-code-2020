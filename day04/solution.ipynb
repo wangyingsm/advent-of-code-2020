{
 "cells": [
  {
   "cell_type": "markdown",
   "metadata": {},
   "source": [
    "# Day 4\n",
    "\n",
    "## Part I\n",
    "\n",
    "并无太多难度，主要就是对输入数据进行处理。首先定义个函数将一个证件的字符串转换成一个哈希表："
   ]
  },
  {
   "cell_type": "code",
   "execution_count": 1,
   "metadata": {},
   "outputs": [],
   "source": [
    "import re\n",
    "from typing import Dict, List\n",
    "\n",
    "def from_str(value: str) -> Dict[str, str]:\n",
    "    s = re.split(r'[\\s]', value.rstrip())\n",
    "    return {k: v for k, v in [item.split(':') for item in s]}"
   ]
  },
  {
   "cell_type": "markdown",
   "metadata": {},
   "source": [
    "然后自定义函数读取输入文件，使用上面的from_str函数将每个证件内容转换为哈希表，并生成列表输出："
   ]
  },
  {
   "cell_type": "code",
   "execution_count": 2,
   "metadata": {},
   "outputs": [],
   "source": [
    "def read_input() -> List[Dict[str, str]]:\n",
    "    with open('input.txt') as fn:\n",
    "        contents = fn.read()\n",
    "    return [from_str(item) for item in contents.split('\\n\\n')]"
   ]
  },
  {
   "cell_type": "markdown",
   "metadata": {},
   "source": [
    "按照第一部分规则，判断一个证件哈希表是否有效："
   ]
  },
  {
   "cell_type": "code",
   "execution_count": 3,
   "metadata": {},
   "outputs": [],
   "source": [
    "def is_valid_part1(p: Dict[str, str]) -> bool:\n",
    "    return len(p) == 8 or p.keys() == {'ecl', 'pid', 'eyr', 'hcl', 'byr', 'iyr', 'hgt'}"
   ]
  },
  {
   "cell_type": "markdown",
   "metadata": {},
   "source": [
    "获得第一部分的结果："
   ]
  },
  {
   "cell_type": "code",
   "execution_count": 4,
   "metadata": {},
   "outputs": [
    {
     "data": {
      "text/plain": [
       "219"
      ]
     },
     "execution_count": 4,
     "metadata": {},
     "output_type": "execute_result"
    }
   ],
   "source": [
    "passports = read_input()\n",
    "len([p for p in passports if is_valid_part1(p)])"
   ]
  },
  {
   "cell_type": "markdown",
   "metadata": {},
   "source": [
    "## Part II\n",
    "\n",
    "第二部分是一系列的判断，因此定义了多个帮助函数，最后定义一个函数来判断是否全部符合："
   ]
  },
  {
   "cell_type": "code",
   "execution_count": 5,
   "metadata": {},
   "outputs": [],
   "source": [
    "verify_byr = lambda x: 1920 <= int(x) <= 2002\n",
    "verify_iyr = lambda x: 2010 <= int(x) <= 2020\n",
    "verify_eyr = lambda x: 2020 <= int(x) <= 2030\n",
    "\n",
    "def verify_hgt(height: str) -> bool:\n",
    "    if height[-2:] == 'cm':\n",
    "        return 150 <= int(height[:-2]) <= 193\n",
    "    elif height[-2:] == 'in':\n",
    "        return 59 <= int(height[:-2]) <= 76\n",
    "    else:\n",
    "        return False\n",
    "\n",
    "verify_hcl = lambda x: bool(re.match(r'^#[0-9a-f]{6}$', x))\n",
    "verify_ecl = lambda x: x in 'amb blu brn gry grn hzl oth'.split()\n",
    "verify_pid = lambda x: bool(re.match(r'^[0-9]{9}$', x))\n",
    "\n",
    "def is_valid_part2(p: Dict[str, str]) -> bool:\n",
    "    return (verify_byr(p['byr']) and verify_iyr(p['iyr']) and verify_eyr(p['eyr'])\n",
    "            and verify_hgt(p['hgt']) and verify_hcl(p['hcl']) and verify_ecl(p['ecl'])\n",
    "            and verify_pid(p['pid']))"
   ]
  },
  {
   "cell_type": "markdown",
   "metadata": {},
   "source": [
    "获得第二部分的结果："
   ]
  },
  {
   "cell_type": "code",
   "execution_count": 6,
   "metadata": {},
   "outputs": [
    {
     "data": {
      "text/plain": [
       "127"
      ]
     },
     "execution_count": 6,
     "metadata": {},
     "output_type": "execute_result"
    }
   ],
   "source": [
    "len([p for p in passports if is_valid_part1(p) and is_valid_part2(p)])"
   ]
  },
  {
   "cell_type": "code",
   "execution_count": null,
   "metadata": {},
   "outputs": [],
   "source": []
  }
 ],
 "metadata": {
  "kernelspec": {
   "display_name": "Python 3.7.6 64-bit ('base': conda)",
   "language": "python",
   "name": "python37664bitbaseconda70fb04b0bd9543d0a4d5588de79b26c5"
  },
  "language_info": {
   "codemirror_mode": {
    "name": "ipython",
    "version": 3
   },
   "file_extension": ".py",
   "mimetype": "text/x-python",
   "name": "python",
   "nbconvert_exporter": "python",
   "pygments_lexer": "ipython3",
   "version": "3.7.6"
  }
 },
 "nbformat": 4,
 "nbformat_minor": 4
}
