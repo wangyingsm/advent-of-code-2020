{
 "cells": [
  {
   "cell_type": "markdown",
   "metadata": {},
   "source": [
    "# Day 9\n",
    "\n",
    "## Part I\n",
    "\n",
    "实现一个简单的虚拟机。首先定义一些帮助的数据结构，命令有三种，用下面的枚举类型体现："
   ]
  },
  {
   "cell_type": "code",
   "execution_count": 1,
   "metadata": {},
   "outputs": [],
   "source": [
    "from enum import Enum\n",
    "\n",
    "Operation = Enum('Instruction', ('acc', 'jmp', 'nop'))"
   ]
  },
  {
   "cell_type": "markdown",
   "metadata": {},
   "source": [
    "然后定义一个类来实现指令，在Rust中，可以全部在枚举中实现，Python只能用类："
   ]
  },
  {
   "cell_type": "code",
   "execution_count": 2,
   "metadata": {},
   "outputs": [],
   "source": [
    "class Instruction(object):\n",
    "    def __init__(self, code_line: str):\n",
    "        segs = code_line.rstrip().split()\n",
    "        if segs[0] == 'acc':\n",
    "            self.op = Operation.acc\n",
    "        elif segs[0] == 'jmp':\n",
    "            self.op = Operation.jmp\n",
    "        elif segs[0] == 'nop':\n",
    "            self.op = Operation.nop\n",
    "        self.arg = int(segs[1])\n",
    "        self.run_times = 0"
   ]
  },
  {
   "cell_type": "markdown",
   "metadata": {},
   "source": [
    "虚拟游戏机的类，相当简单，ax是累加寄存器，ip是指令寄存器，codes是装载了所有指令的内存区域，就是一段列表。run方法执行一条指令，处理相应的ax和ip，还将该条指令的运行次数加1。run_to_repeatation用来完成执行到第一条重复指令的逻辑，也就是第一部分的问题"
   ]
  },
  {
   "cell_type": "code",
   "execution_count": 3,
   "metadata": {},
   "outputs": [],
   "source": [
    "class GamePad(object):\n",
    "    def __init__(self, code_file: str):\n",
    "        self.ax = 0\n",
    "        self.ip = 0\n",
    "        with open(code_file) as fn:\n",
    "            self.codes = [Instruction(line) for line in fn.readlines()]\n",
    "    def run(self):\n",
    "        inst = self.codes[self.ip]\n",
    "        if inst.op == Operation.acc:\n",
    "            self.ax += inst.arg\n",
    "            self.ip += 1\n",
    "        elif inst.op == Operation.nop:\n",
    "            self.ip += 1\n",
    "        elif inst.op == Operation.jmp:\n",
    "            self.ip += inst.arg\n",
    "        inst.run_times += 1\n",
    "    def run_to_repeatation(self):\n",
    "        while self.codes[self.ip].run_times == 0:\n",
    "            self.run()"
   ]
  },
  {
   "cell_type": "markdown",
   "metadata": {},
   "source": [
    "定义函数获取第一部分的答案："
   ]
  },
  {
   "cell_type": "code",
   "execution_count": 4,
   "metadata": {},
   "outputs": [],
   "source": [
    "def part1_solution(pad: GamePad) -> int:\n",
    "    pad.run_to_repeatation()\n",
    "    return pad.ax"
   ]
  },
  {
   "cell_type": "markdown",
   "metadata": {},
   "source": [
    "单元测试"
   ]
  },
  {
   "cell_type": "code",
   "execution_count": 5,
   "metadata": {},
   "outputs": [],
   "source": [
    "testcase = GamePad('testcase1.txt')\n",
    "assert(part1_solution(testcase) == 5)"
   ]
  },
  {
   "cell_type": "markdown",
   "metadata": {},
   "source": [
    "第一部分的结果："
   ]
  },
  {
   "cell_type": "code",
   "execution_count": 6,
   "metadata": {},
   "outputs": [
    {
     "data": {
      "text/plain": [
       "1654"
      ]
     },
     "execution_count": 6,
     "metadata": {},
     "output_type": "execute_result"
    }
   ],
   "source": [
    "pad = GamePad('input.txt')\n",
    "part1_solution(pad)"
   ]
  },
  {
   "cell_type": "markdown",
   "metadata": {},
   "source": [
    "## Part II\n",
    "\n",
    "第二部分引入了新的状态，因此我们需要重构GamePad类，同时引入一个新的枚举类型表示当前语句的执行状态，共有三种：正常运行normal；结束terminated；运行到重复指令repeated。同时改变run方法的签名，返回一个元组，包括状态、执行指令的ip和被执行的指令本身："
   ]
  },
  {
   "cell_type": "code",
   "execution_count": 7,
   "metadata": {},
   "outputs": [],
   "source": [
    "from typing import Tuple\n",
    "\n",
    "Status = Enum('Status', ('normal', 'terminated', 'repeated'))\n",
    "\n",
    "class GamePad(object):\n",
    "    def __init__(self, code_file: str):\n",
    "        self.ax = 0\n",
    "        self.ip = 0\n",
    "        with open(code_file) as fn:\n",
    "            self.codes = [Instruction(line) for line in fn.readlines()]\n",
    "    def run(self) -> Tuple[Status, int, Instruction]:\n",
    "        if self.ip >= len(self.codes):\n",
    "            return Status.terminated, self.ip, None\n",
    "        inst = self.codes[self.ip]\n",
    "        if inst.run_times >= 1:\n",
    "            return Status.repeated, self.ip, inst\n",
    "        rip = self.ip\n",
    "        if inst.op == Operation.acc:\n",
    "            self.ax += inst.arg\n",
    "            self.ip += 1\n",
    "        elif inst.op == Operation.nop:\n",
    "            self.ip += 1\n",
    "        elif inst.op == Operation.jmp:\n",
    "            self.ip += inst.arg\n",
    "        inst.run_times += 1\n",
    "        return Status.normal, rip, inst"
   ]
  },
  {
   "cell_type": "markdown",
   "metadata": {},
   "source": [
    "下面需要解决第二部分问题，首先我们需要记录下在指令发生重复之前，所有的jmp和nop指令，此处会将这些指令保存到一个列表中，然后遍历这个列表，每次将相应的nop改为jmp或将jmp改为nop，尝试执行，直至找到能够获得terminated状态为止，最后返回ax的值："
   ]
  },
  {
   "cell_type": "code",
   "execution_count": 8,
   "metadata": {},
   "outputs": [],
   "source": [
    "from copy import deepcopy\n",
    "\n",
    "def part2_solution(pad: GamePad) -> int:\n",
    "    instructions = []\n",
    "    pad_clone = deepcopy(pad)\n",
    "    ret = pad_clone.run()\n",
    "    while ret[0] == Status.normal:\n",
    "        if ret[2].op == Operation.jmp or ret[2].op == Operation.nop:\n",
    "            instructions.append((ret[1], ret[2]))\n",
    "        ret = pad_clone.run()\n",
    "    for ip, inst in instructions:\n",
    "        pad_clone = deepcopy(pad)\n",
    "        pad_clone.codes[ip].op = Operation.nop if inst.op == Operation.jmp else Operation.jmp\n",
    "        while True:\n",
    "            ret = pad_clone.run()\n",
    "            if ret[0] == Status.repeated:\n",
    "                break\n",
    "            if ret[0] == Status.terminated:\n",
    "                return pad_clone.ax\n",
    "    return None"
   ]
  },
  {
   "cell_type": "markdown",
   "metadata": {},
   "source": [
    "单元测试"
   ]
  },
  {
   "cell_type": "code",
   "execution_count": 9,
   "metadata": {},
   "outputs": [],
   "source": [
    "testcase = GamePad('testcase1.txt')\n",
    "assert(part2_solution(testcase) == 8)"
   ]
  },
  {
   "cell_type": "markdown",
   "metadata": {},
   "source": [
    "第二部分的结果："
   ]
  },
  {
   "cell_type": "code",
   "execution_count": 10,
   "metadata": {},
   "outputs": [
    {
     "data": {
      "text/plain": [
       "833"
      ]
     },
     "execution_count": 10,
     "metadata": {},
     "output_type": "execute_result"
    }
   ],
   "source": [
    "pad = GamePad('input.txt')\n",
    "part2_solution(pad)"
   ]
  },
  {
   "cell_type": "markdown",
   "metadata": {},
   "source": [
    "同时，第一部分可以使用新的GamePad类来重新计算结果："
   ]
  },
  {
   "cell_type": "code",
   "execution_count": 11,
   "metadata": {},
   "outputs": [],
   "source": [
    "def part1_solution(pad: GamePad) -> int:\n",
    "    while True:\n",
    "        ret = pad.run()\n",
    "        if ret[0] == Status.terminated or ret[0] == Status.repeated:\n",
    "            return pad.ax"
   ]
  },
  {
   "cell_type": "markdown",
   "metadata": {},
   "source": [
    "结果一致："
   ]
  },
  {
   "cell_type": "code",
   "execution_count": 12,
   "metadata": {},
   "outputs": [
    {
     "data": {
      "text/plain": [
       "1654"
      ]
     },
     "execution_count": 12,
     "metadata": {},
     "output_type": "execute_result"
    }
   ],
   "source": [
    "pad = GamePad('input.txt')\n",
    "part1_solution(pad)"
   ]
  },
  {
   "cell_type": "code",
   "execution_count": null,
   "metadata": {},
   "outputs": [],
   "source": []
  }
 ],
 "metadata": {
  "kernelspec": {
   "display_name": "Python 3",
   "language": "python",
   "name": "python3"
  },
  "language_info": {
   "codemirror_mode": {
    "name": "ipython",
    "version": 3
   },
   "file_extension": ".py",
   "mimetype": "text/x-python",
   "name": "python",
   "nbconvert_exporter": "python",
   "pygments_lexer": "ipython3",
   "version": "3.7.6"
  }
 },
 "nbformat": 4,
 "nbformat_minor": 4
}
