{
 "cells": [
  {
   "cell_type": "markdown",
   "metadata": {},
   "source": [
    "# Day 25\n",
    "\n",
    "轻松愉快拿到25颗星星。圣诞节的题目总是很轻松愉快，考的是英文题目的理解，没有太多编程技巧可言。\n",
    "\n",
    "性能问题？交给numba来处理吧：）\n",
    "\n",
    "直接上代码吧："
   ]
  },
  {
   "cell_type": "code",
   "execution_count": 1,
   "metadata": {},
   "outputs": [],
   "source": [
    "from numba import njit\n",
    "\n",
    "@njit\n",
    "def find_loop_size(pub_key: int) -> int:\n",
    "    '''求生成密钥循环量'''\n",
    "    value = 7\n",
    "    counter = 1\n",
    "    while True:\n",
    "        if value == pub_key:\n",
    "            return counter\n",
    "        value = value * 7 % 20201227\n",
    "        counter += 1"
   ]
  },
  {
   "cell_type": "code",
   "execution_count": 2,
   "metadata": {},
   "outputs": [],
   "source": [
    "@njit\n",
    "def find_encryption_key(subject_number: int, loop_size: int):\n",
    "    '''根据对方的公钥和自己的循环量计算私钥'''\n",
    "    value = 1\n",
    "    for _ in range(loop_size):\n",
    "        value = value * subject_number % 20201227\n",
    "    return value"
   ]
  },
  {
   "cell_type": "markdown",
   "metadata": {},
   "source": [
    "单元测试："
   ]
  },
  {
   "cell_type": "code",
   "execution_count": 3,
   "metadata": {},
   "outputs": [],
   "source": [
    "assert(find_loop_size(5764801) == 8)\n",
    "assert(find_loop_size(17807724) == 11)"
   ]
  },
  {
   "cell_type": "code",
   "execution_count": 4,
   "metadata": {},
   "outputs": [],
   "source": [
    "assert(find_encryption_key(17807724, 8) == 14897079)\n",
    "assert(find_encryption_key(5764801, 11) == 14897079)"
   ]
  },
  {
   "cell_type": "markdown",
   "metadata": {},
   "source": [
    "最终结果："
   ]
  },
  {
   "cell_type": "code",
   "execution_count": 5,
   "metadata": {},
   "outputs": [
    {
     "data": {
      "text/plain": [
       "19414467"
      ]
     },
     "execution_count": 5,
     "metadata": {},
     "output_type": "execute_result"
    }
   ],
   "source": [
    "find_encryption_key(7290641, find_loop_size(19774466))"
   ]
  },
  {
   "cell_type": "code",
   "execution_count": 6,
   "metadata": {},
   "outputs": [
    {
     "name": "stdout",
     "output_type": "stream",
     "text": [
      "88.7 ms ± 632 µs per loop (mean ± std. dev. of 7 runs, 10 loops each)\n"
     ]
    }
   ],
   "source": [
    "%timeit find_encryption_key(7290641, find_loop_size(19774466))"
   ]
  },
  {
   "cell_type": "code",
   "execution_count": null,
   "metadata": {},
   "outputs": [],
   "source": []
  }
 ],
 "metadata": {
  "kernelspec": {
   "display_name": "Python 3",
   "language": "python",
   "name": "python3"
  },
  "language_info": {
   "codemirror_mode": {
    "name": "ipython",
    "version": 3
   },
   "file_extension": ".py",
   "mimetype": "text/x-python",
   "name": "python",
   "nbconvert_exporter": "python",
   "pygments_lexer": "ipython3",
   "version": "3.7.6"
  }
 },
 "nbformat": 4,
 "nbformat_minor": 4
}
