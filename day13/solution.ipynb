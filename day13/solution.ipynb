{
 "cells": [
  {
   "cell_type": "markdown",
   "metadata": {},
   "source": [
    "# Day 13\n",
    "\n",
    "## Part I\n",
    "\n",
    "第一部分问题比较简单，直接按照题目完成代码逻辑即可，每趟班车在预计到达时间计算出相应的等待时间，然后获得最小等待时间的时间值和班次ID，返回两者乘积："
   ]
  },
  {
   "cell_type": "code",
   "execution_count": 1,
   "metadata": {},
   "outputs": [],
   "source": [
    "from typing import List\n",
    "\n",
    "def read_input_part1(input_file: str) -> (int, List[int]):\n",
    "    with open(input_file) as fn:\n",
    "        eta = int(fn.readline().rstrip())\n",
    "        buses = [int(t) for t in fn.readline().rstrip().split(',') if t != 'x']\n",
    "    return eta, buses"
   ]
  },
  {
   "cell_type": "code",
   "execution_count": 2,
   "metadata": {},
   "outputs": [],
   "source": [
    "def part1_solution(eta: int, buses: List[int]) -> int:\n",
    "    m, bus_id = 1 << 32, 0\n",
    "    for bus in buses:\n",
    "        wait_time = (eta // bus + 1) * bus - eta\n",
    "        if wait_time < m:\n",
    "            m = wait_time\n",
    "            bus_id = bus\n",
    "    return m * bus_id"
   ]
  },
  {
   "cell_type": "markdown",
   "metadata": {},
   "source": [
    "单元测试："
   ]
  },
  {
   "cell_type": "code",
   "execution_count": 4,
   "metadata": {},
   "outputs": [],
   "source": [
    "testcase_eta, testcase_buses = read_input_part1('testcase1.txt')\n",
    "assert(part1_solution(testcase_eta, testcase_buses) == 295)"
   ]
  },
  {
   "cell_type": "markdown",
   "metadata": {},
   "source": [
    "第一部分结果："
   ]
  },
  {
   "cell_type": "code",
   "execution_count": 6,
   "metadata": {},
   "outputs": [
    {
     "data": {
      "text/plain": [
       "119"
      ]
     },
     "execution_count": 6,
     "metadata": {},
     "output_type": "execute_result"
    }
   ],
   "source": [
    "eta, buses = read_input_part1('input.txt')\n",
    "part1_solution(eta, buses)"
   ]
  },
  {
   "cell_type": "markdown",
   "metadata": {},
   "source": [
    "## Part II\n",
    "\n",
    "第二部分对性能有要求，难度在于看出规律，当找到多个班次第一次同时出现后，循环的步长可以增加为这些同时出现的班次ID的乘积，初始的循环步长设置为所有班次ID的最大值："
   ]
  },
  {
   "cell_type": "code",
   "execution_count": 7,
   "metadata": {},
   "outputs": [],
   "source": [
    "from typing import Dict\n",
    "\n",
    "def read_input_part2(input_file: str) -> Dict[int, int]:\n",
    "    with open(input_file) as fn:\n",
    "        fn.readline()\n",
    "        return {int(bus_id): index for index, bus_id in enumerate(fn.readline().rstrip().split(',')) \n",
    "                if bus_id != 'x'}"
   ]
  },
  {
   "cell_type": "code",
   "execution_count": 8,
   "metadata": {},
   "outputs": [],
   "source": [
    "def part2_solution(buses: Dict[int, int]) -> int:\n",
    "    # 初始化步长值为ID最大值\n",
    "    step = max(buses.keys())\n",
    "    max_id = step\n",
    "    m_time = step\n",
    "    # 用一个字典记录哪些班次已经同时出现过\n",
    "    all_ids = {bus_id: False for bus_id in buses.keys()}\n",
    "    # 最大ID值的班次默认就是步长，初始化设置为True\n",
    "    all_ids[max_id] = True\n",
    "    while True:\n",
    "        t = m_time - buses[max_id]\n",
    "        for bus_id, index in buses.items():\n",
    "            # 如果某个班次在本次循环中第一次出现，则将步长值乘上该班次ID，得到新的步长\n",
    "            if (t+index) % bus_id == 0 and bus_id != max_id:\n",
    "                if not all_ids[bus_id]:\n",
    "                    step *= bus_id\n",
    "                    all_ids[bus_id] = True # 同时将该班次在字典中标记为True，下次出现不再调整步长\n",
    "        # 如果所有班次都同时出现了，返回当前的时间t\n",
    "        if all((t+index) % bus_id == 0 for bus_id, index in buses.items()):\n",
    "            return t\n",
    "        m_time += step"
   ]
  },
  {
   "cell_type": "markdown",
   "metadata": {},
   "source": [
    "下面是一系列的单元测试，buses_from_str是为了单元测试方便而写的帮助工具函数："
   ]
  },
  {
   "cell_type": "code",
   "execution_count": 9,
   "metadata": {},
   "outputs": [],
   "source": [
    "testcase = read_input_part2('testcase1.txt')\n",
    "assert(part2_solution(testcase) == 1068781)"
   ]
  },
  {
   "cell_type": "code",
   "execution_count": 11,
   "metadata": {},
   "outputs": [],
   "source": [
    "def buses_from_str(s: str) -> Dict[int, int]:\n",
    "    return {int(bus_id): index for index, bus_id in enumerate(s.split(',')) \n",
    "                if bus_id != 'x'}\n",
    "\n",
    "assert(part2_solution(buses_from_str('17,x,13,19')) == 3417)\n",
    "\n",
    "assert(part2_solution(buses_from_str('67,7,59,61')) == 754018)\n",
    "\n",
    "assert(part2_solution(buses_from_str('67,x,7,59,61')) == 779210)\n",
    "\n",
    "assert(part2_solution(buses_from_str('67,7,x,59,61')) == 1261476)\n",
    "\n",
    "assert(part2_solution(buses_from_str('1789,37,47,1889')) == 1202161486)"
   ]
  },
  {
   "cell_type": "markdown",
   "metadata": {},
   "source": [
    "最后计算第二部分的结果："
   ]
  },
  {
   "cell_type": "code",
   "execution_count": 12,
   "metadata": {},
   "outputs": [
    {
     "data": {
      "text/plain": [
       "1106724616194525"
      ]
     },
     "execution_count": 12,
     "metadata": {},
     "output_type": "execute_result"
    }
   ],
   "source": [
    "buses = read_input_part2('input.txt')\n",
    "part2_solution(buses)"
   ]
  },
  {
   "cell_type": "code",
   "execution_count": null,
   "metadata": {},
   "outputs": [],
   "source": []
  }
 ],
 "metadata": {
  "kernelspec": {
   "display_name": "Python 3",
   "language": "python",
   "name": "python3"
  },
  "language_info": {
   "codemirror_mode": {
    "name": "ipython",
    "version": 3
   },
   "file_extension": ".py",
   "mimetype": "text/x-python",
   "name": "python",
   "nbconvert_exporter": "python",
   "pygments_lexer": "ipython3",
   "version": "3.7.7"
  }
 },
 "nbformat": 4,
 "nbformat_minor": 4
}
