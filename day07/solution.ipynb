{
 "cells": [
  {
   "cell_type": "markdown",
   "metadata": {},
   "source": [
    "# Day 7\n",
    "\n",
    "## Part I\n",
    "\n",
    "一个简单的DAG问题。首先创建一个类作为图的边Edge，不太会起名字，既然问题与旅行包相关，就叫BagEdge吧。外面的包叫做outer，里面的包叫做inner，边的权重值weight也就是一个大包可以放入小包的数量。为了方便显示，实现__repr__方法用于展示这个对象。"
   ]
  },
  {
   "cell_type": "code",
   "execution_count": 1,
   "metadata": {},
   "outputs": [],
   "source": [
    "class BagEdge(object):\n",
    "    def __init__(self, outer: str, inner: str, weight: int):\n",
    "        self.outer = outer\n",
    "        self.inner = inner\n",
    "        self.weight = weight\n",
    "    def __repr__(self) -> str:\n",
    "        return f'{self.outer} --{self.weight}--> {self.inner}'"
   ]
  },
  {
   "cell_type": "markdown",
   "metadata": {},
   "source": [
    "下面是输入数据的处理，要将输入数据变成合适的数据结构，包括上面定义的类。首先定义一个函数将类似`1 bright white`或`shiny gold`这样的输入数据转换为一个颜色和数量的元组："
   ]
  },
  {
   "cell_type": "code",
   "execution_count": 2,
   "metadata": {},
   "outputs": [],
   "source": [
    "from typing import Tuple\n",
    "\n",
    "def bag_from_str(value: str) -> Tuple[str, int]:\n",
    "    # 单独处理不包含其他任何包的情况\n",
    "    if value == 'no other':\n",
    "        return None, None\n",
    "    parts = value.rstrip().split(' ')\n",
    "    return (' '.join(parts[1:]), int(parts[0])) if len(parts) == 3 else (' '.join(parts), 1)"
   ]
  },
  {
   "cell_type": "markdown",
   "metadata": {},
   "source": [
    "进行简单的单元测试："
   ]
  },
  {
   "cell_type": "code",
   "execution_count": 3,
   "metadata": {},
   "outputs": [],
   "source": [
    "assert(bag_from_str('1 bright white') == ('bright white', 1))\n",
    "assert(bag_from_str('6 dotted black') == ('dotted black', 6))\n",
    "assert(bag_from_str('shiny gold') == ('shiny gold', 1))"
   ]
  },
  {
   "cell_type": "markdown",
   "metadata": {},
   "source": [
    "然后定义函数将输入的每一行转换成一个BagEdge的列表："
   ]
  },
  {
   "cell_type": "code",
   "execution_count": 4,
   "metadata": {},
   "outputs": [],
   "source": [
    "from typing import List\n",
    "import re\n",
    "\n",
    "def parse_line(line: str) -> List[BagEdge]:\n",
    "    # 用正则表达式将一行里面所有的bag, bags, bags.都去掉\n",
    "    line = re.sub(r' bags?[.]?', '', line.rstrip())\n",
    "    parts = line.split(' contain ')\n",
    "    outer, outer_weight = bag_from_str(parts[0])\n",
    "    # 用循环添加每一对包的对应关系，也就是图中的边，因为逻辑稍微有点复杂，此处没有使用列表解析式\n",
    "    bags = []\n",
    "    for i in parts[1].split(', '):\n",
    "        inner, inner_weight = bag_from_str(i)\n",
    "        if inner:\n",
    "            bags.append(BagEdge(outer, inner, inner_weight//outer_weight))\n",
    "    return bags"
   ]
  },
  {
   "cell_type": "markdown",
   "metadata": {},
   "source": [
    "下面做几个验证，没有使用断言，肉眼可观察是否正确："
   ]
  },
  {
   "cell_type": "code",
   "execution_count": 5,
   "metadata": {},
   "outputs": [
    {
     "data": {
      "text/plain": [
       "[light red --1--> bright white, light red --2--> muted yellow]"
      ]
     },
     "execution_count": 5,
     "metadata": {},
     "output_type": "execute_result"
    }
   ],
   "source": [
    "parse_line('light red bags contain 1 bright white bag, 2 muted yellow bags.')"
   ]
  },
  {
   "cell_type": "code",
   "execution_count": 6,
   "metadata": {},
   "outputs": [
    {
     "data": {
      "text/plain": [
       "[vibrant plum --5--> faded blue, vibrant plum --6--> dotted black]"
      ]
     },
     "execution_count": 6,
     "metadata": {},
     "output_type": "execute_result"
    }
   ],
   "source": [
    "parse_line('vibrant plum bags contain 5 faded blue bags, 6 dotted black bags.')"
   ]
  },
  {
   "cell_type": "code",
   "execution_count": 7,
   "metadata": {},
   "outputs": [
    {
     "data": {
      "text/plain": [
       "[]"
      ]
     },
     "execution_count": 7,
     "metadata": {},
     "output_type": "execute_result"
    }
   ],
   "source": [
    "parse_line('dotted black bags contain no other bags.')"
   ]
  },
  {
   "cell_type": "markdown",
   "metadata": {},
   "source": [
    "解析输入数据的帮助函数都定义好了，下面来读取文件，解析每一行，形成一个边的列表："
   ]
  },
  {
   "cell_type": "code",
   "execution_count": 8,
   "metadata": {},
   "outputs": [],
   "source": [
    "def read_input(input_file: str) -> List[BagEdge]:\n",
    "    result = []\n",
    "    with open(input_file) as fn:\n",
    "        line = fn.readline()\n",
    "        while line:\n",
    "            result += parse_line(line)\n",
    "            line = fn.readline()\n",
    "    return result"
   ]
  },
  {
   "cell_type": "markdown",
   "metadata": {},
   "source": [
    "用测试用例1来看看读取和解析的效果，一切看着挺美好："
   ]
  },
  {
   "cell_type": "code",
   "execution_count": 9,
   "metadata": {},
   "outputs": [
    {
     "data": {
      "text/plain": [
       "[light red --1--> bright white,\n",
       " light red --2--> muted yellow,\n",
       " dark orange --3--> bright white,\n",
       " dark orange --4--> muted yellow,\n",
       " bright white --1--> shiny gold,\n",
       " muted yellow --2--> shiny gold,\n",
       " muted yellow --9--> faded blue,\n",
       " shiny gold --1--> dark olive,\n",
       " shiny gold --2--> vibrant plum,\n",
       " dark olive --3--> faded blue,\n",
       " dark olive --4--> dotted black,\n",
       " vibrant plum --5--> faded blue,\n",
       " vibrant plum --6--> dotted black]"
      ]
     },
     "execution_count": 9,
     "metadata": {},
     "output_type": "execute_result"
    }
   ],
   "source": [
    "testcase = read_input('testcase1.txt')\n",
    "testcase"
   ]
  },
  {
   "cell_type": "markdown",
   "metadata": {},
   "source": [
    "第一部分问题是逆向搜索图，我们将边的列表转换成一个字典方便处理，然后使用深度优先搜索，将整个图中能包含shiny gold的颜色都添加都一个集合set中，最后这个集合中的元素个数即为答案："
   ]
  },
  {
   "cell_type": "code",
   "execution_count": 10,
   "metadata": {},
   "outputs": [],
   "source": [
    "from typing import Dict, Set\n",
    "\n",
    "def search_outer_recursive(inners: Dict[str, List[BagEdge]], inner_bag: str, result: Set[str]):\n",
    "    for bag in inners.get(inner_bag, []):\n",
    "        result.add(bag.outer)\n",
    "        search_outer_recursive(inners, bag.outer, result)\n",
    "\n",
    "def part1_solution(bags: List[BagEdge]) -> int:\n",
    "    inners = {}\n",
    "    for bag in bags:\n",
    "        inners.setdefault(bag.inner, [])\n",
    "        inners[bag.inner].append(bag)\n",
    "    result = set()\n",
    "    search_outer_recursive(inners, 'shiny gold', result)\n",
    "    return len(result)"
   ]
  },
  {
   "cell_type": "markdown",
   "metadata": {},
   "source": [
    "试一试测试用例："
   ]
  },
  {
   "cell_type": "code",
   "execution_count": 12,
   "metadata": {},
   "outputs": [],
   "source": [
    "assert(part1_solution(testcase) == 4)"
   ]
  },
  {
   "cell_type": "markdown",
   "metadata": {},
   "source": [
    "没毛病，可以看看第一部分的结果了："
   ]
  },
  {
   "cell_type": "code",
   "execution_count": 13,
   "metadata": {},
   "outputs": [
    {
     "data": {
      "text/plain": [
       "246"
      ]
     },
     "execution_count": 13,
     "metadata": {},
     "output_type": "execute_result"
    }
   ],
   "source": [
    "bags = read_input('input.txt')\n",
    "part1_solution(bags)"
   ]
  },
  {
   "cell_type": "markdown",
   "metadata": {},
   "source": [
    "## Part II\n",
    "\n",
    "第二部分是正向搜索图，并且需要使用到边的权重进行计算。同样为了方便起见，将边的列表转换成正向的字典方便遍历，还是采用深度优先方式计算每一条路线的数量总和，最后累加即为最终结果："
   ]
  },
  {
   "cell_type": "code",
   "execution_count": 14,
   "metadata": {},
   "outputs": [],
   "source": [
    "def count_inner_recursive(outers: Dict[str, List[BagEdge]], outer_bag: str, init_qty: int) -> int:\n",
    "    result = 0\n",
    "    for bag in outers.get(outer_bag, []):\n",
    "        inner_bag_count = init_qty * bag.weight\n",
    "        result += inner_bag_count\n",
    "        result += count_inner_recursive(outers, bag.inner, inner_bag_count)\n",
    "    return result\n",
    "\n",
    "def part2_solution(bags: List[BagEdge]) -> int:\n",
    "    outers = {}\n",
    "    for bag in bags:\n",
    "        outers.setdefault(bag.outer, [])\n",
    "        outers[bag.outer].append(bag)\n",
    "    return count_inner_recursive(outers, 'shiny gold', 1)"
   ]
  },
  {
   "cell_type": "markdown",
   "metadata": {},
   "source": [
    "两个测试用例的结果："
   ]
  },
  {
   "cell_type": "code",
   "execution_count": 15,
   "metadata": {},
   "outputs": [],
   "source": [
    "assert(part2_solution(testcase) == 32)\n",
    "\n",
    "testcase2 = read_input('testcase2.txt')\n",
    "assert(part2_solution(testcase2) == 126)"
   ]
  },
  {
   "cell_type": "markdown",
   "metadata": {},
   "source": [
    "最后是第二部分的结果："
   ]
  },
  {
   "cell_type": "code",
   "execution_count": 16,
   "metadata": {},
   "outputs": [
    {
     "data": {
      "text/plain": [
       "2976"
      ]
     },
     "execution_count": 16,
     "metadata": {},
     "output_type": "execute_result"
    }
   ],
   "source": [
    "part2_solution(bags)"
   ]
  },
  {
   "cell_type": "code",
   "execution_count": null,
   "metadata": {},
   "outputs": [],
   "source": []
  }
 ],
 "metadata": {
  "kernelspec": {
   "display_name": "Python 3",
   "language": "python",
   "name": "python3"
  },
  "language_info": {
   "codemirror_mode": {
    "name": "ipython",
    "version": 3
   },
   "file_extension": ".py",
   "mimetype": "text/x-python",
   "name": "python",
   "nbconvert_exporter": "python",
   "pygments_lexer": "ipython3",
   "version": "3.7.6"
  }
 },
 "nbformat": 4,
 "nbformat_minor": 4
}
