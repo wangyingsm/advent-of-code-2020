{
 "cells": [
  {
   "cell_type": "markdown",
   "metadata": {},
   "source": [
    "# Day 1\n",
    "\n",
    "## Part I\n",
    "\n",
    "首先读取输入文件，此处为了简单起见，直接使用了Pandas的IO函数将输入数据读取到一个DataFrame当中，因为该DataFrame只有一列，因此将其取出成Serie，最后转换成Numpy的ndarray返回。"
   ]
  },
  {
   "cell_type": "code",
   "execution_count": 1,
   "metadata": {},
   "outputs": [],
   "source": [
    "import numpy as np\n",
    "import pandas as pd\n",
    "def read_input() -> np.ndarray:\n",
    "    serie = pd.read_csv('input.txt', header=None)\n",
    "    return serie[0].to_numpy()"
   ]
  },
  {
   "cell_type": "markdown",
   "metadata": {},
   "source": [
    "对于第一部分，最简单的方式是暴力枚举，下面用了普通for loop的方式，也可以使用itertools.combinations，代码不列。"
   ]
  },
  {
   "cell_type": "code",
   "execution_count": 2,
   "metadata": {},
   "outputs": [],
   "source": [
    "def q1_solution1(serie: np.ndarray) -> int:\n",
    "    for i in range(len(serie)-1):\n",
    "        for j in range(i+1, len(serie)):\n",
    "            if serie[i] + serie[j] == 2020:\n",
    "                return serie[i] * serie[j]\n",
    "    return -1"
   ]
  },
  {
   "cell_type": "markdown",
   "metadata": {},
   "source": [
    "如果该数列是有序的，则可采用双指针的方式，提升性能，即使加上排序的耗时，应该也比上面的方法要快。"
   ]
  },
  {
   "cell_type": "code",
   "execution_count": 3,
   "metadata": {},
   "outputs": [],
   "source": [
    "def q1_solution2(serie: np.ndarray) -> int:\n",
    "    serie.sort()\n",
    "    i, j = 0, len(serie)-1 # i, j 双指针，初始化指向数列首尾\n",
    "    while i < j:\n",
    "        # 如果找到，返回两者乘积\n",
    "        if serie[i] + serie[j] == 2020:\n",
    "            return serie[i] * serie[j]\n",
    "        # 如果两者之和小于2020，将i指针向后移动一位\n",
    "        if serie[i] + serie[j] < 2020:\n",
    "            i += 1\n",
    "        # 如果两者之和大于2020，将j指针向前移动一位\n",
    "        if serie[i] + serie[j] > 2020:\n",
    "            j -= 1\n",
    "    return -1"
   ]
  },
  {
   "cell_type": "code",
   "execution_count": 4,
   "metadata": {},
   "outputs": [
    {
     "data": {
      "text/plain": [
       "array([1440, 1511, 1731, 1400, 1542, 1571, 1768, 1730, 1959, 1342, 1744,\n",
       "        872, 1237, 1846, 1597, 1583, 1711, 1499, 1679, 1895, 1875, 1928,\n",
       "       1728, 1673,  481, 1934,  673, 1704, 1916, 1958, 1821, 1649, 1640,\n",
       "       1802, 1732,  121, 1924, 1438, 1748, 1046, 1905, 1566, 1152, 1964,\n",
       "       1518, 1603, 1414, 1785, 1993, 1594, 1761, 1455, 1738, 1699, 1507,\n",
       "       1483, 1450, 1653, 1644,   19, 1340, 1227, 1353, 2009, 1188, 1228,\n",
       "       1898, 1941, 1515, 1766, 1351, 1980, 1378, 1702, 1620, 1729, 1279,\n",
       "       1384, 1894, 1770, 1853, 1161, 1970, 1986, 1669, 1938, 1602, 1190,\n",
       "       1822,  425, 1750, 1632, 1613, 1805, 1718, 1990, 1762, 1242, 1485,\n",
       "       1598, 1893, 1995, 1823, 1786, 1506, 1464, 1467, 1639, 1674, 1903,\n",
       "       1961, 1478, 1847, 1760, 1997, 2010,  899, 2000, 1488, 1243, 1891,\n",
       "       1504, 1693, 1176, 1391, 1563,  692, 1497, 1428, 1745, 1368, 1723,\n",
       "       1989, 1930, 1171, 1840, 1372, 1987, 1952, 1842, 1967, 1759, 1929,\n",
       "       1945, 1919, 1333, 1692, 1811, 1221, 1520, 1920, 1093, 1618, 1795,\n",
       "       1686, 1369, 1820, 1857, 1356, 1562, 2004, 1519, 1628, 1831, 1687,\n",
       "       1792, 1948,  927, 1789, 1546, 1338, 1614, 1472, 1494, 1979, 1936,\n",
       "       1577, 1147, 1446, 1683, 1375,  856, 1787, 1517, 1724, 1334, 1642,\n",
       "       1496, 1668, 1725, 1800, 1708, 1814, 1585, 1827, 1801, 1208, 1839,\n",
       "       1596, 1925])"
      ]
     },
     "execution_count": 4,
     "metadata": {},
     "output_type": "execute_result"
    }
   ],
   "source": [
    "s = read_input()\n",
    "s"
   ]
  },
  {
   "cell_type": "code",
   "execution_count": 5,
   "metadata": {},
   "outputs": [
    {
     "data": {
      "text/plain": [
       "1013211"
      ]
     },
     "execution_count": 5,
     "metadata": {},
     "output_type": "execute_result"
    }
   ],
   "source": [
    "q1_solution1(s)"
   ]
  },
  {
   "cell_type": "code",
   "execution_count": 6,
   "metadata": {},
   "outputs": [
    {
     "data": {
      "text/plain": [
       "1013211"
      ]
     },
     "execution_count": 6,
     "metadata": {},
     "output_type": "execute_result"
    }
   ],
   "source": [
    "q1_solution2(s)"
   ]
  },
  {
   "cell_type": "markdown",
   "metadata": {},
   "source": [
    "OK！两种方法算得同样结果。\n",
    "\n",
    "下面来看看耗时。"
   ]
  },
  {
   "cell_type": "code",
   "execution_count": 7,
   "metadata": {},
   "outputs": [
    {
     "name": "stdout",
     "output_type": "stream",
     "text": [
      "8.92 ms ± 124 µs per loop (mean ± std. dev. of 7 runs, 100 loops each)\n"
     ]
    }
   ],
   "source": [
    "s = read_input()\n",
    "\n",
    "%timeit q1_solution1(s)"
   ]
  },
  {
   "cell_type": "code",
   "execution_count": 8,
   "metadata": {},
   "outputs": [
    {
     "name": "stdout",
     "output_type": "stream",
     "text": [
      "288 µs ± 5.79 µs per loop (mean ± std. dev. of 7 runs, 1000 loops each)\n"
     ]
    }
   ],
   "source": [
    "%timeit q1_solution2(s)"
   ]
  },
  {
   "cell_type": "markdown",
   "metadata": {},
   "source": [
    "约相差了30倍的效率。"
   ]
  },
  {
   "cell_type": "markdown",
   "metadata": {},
   "source": [
    "## Part II\n",
    "\n",
    "因为此时数列已经是排序好的，所以我们可以简单的使用一个二分查找来搜索一个元素是否存在，定义下面这个帮助工具函数："
   ]
  },
  {
   "cell_type": "code",
   "execution_count": 9,
   "metadata": {},
   "outputs": [],
   "source": [
    "def binary_search_in(arr: np.ndarray, value: int) -> bool:\n",
    "    if len(arr) == 0 or (len(arr) == 1 and arr[0] != value):\n",
    "        return False\n",
    "    mid = len(arr) // 2\n",
    "    if value == arr[mid]:\n",
    "        return True\n",
    "    if value < arr[mid]:\n",
    "        return binary_search_in(arr[:mid], value)\n",
    "    return binary_search_in(arr[mid+1:], value)"
   ]
  },
  {
   "cell_type": "markdown",
   "metadata": {},
   "source": [
    "简单检验一下这个函数是否正常工作："
   ]
  },
  {
   "cell_type": "code",
   "execution_count": 10,
   "metadata": {},
   "outputs": [],
   "source": [
    "assert(binary_search_in(s, 481))\n",
    "assert(binary_search_in(s, 1725))\n",
    "assert(not binary_search_in(s, 2020))"
   ]
  },
  {
   "cell_type": "markdown",
   "metadata": {},
   "source": [
    "下面来实现第二部分问题，同样是双指针，但是因为是三个数相加，因此需要嵌套一层循环，该循环实现成从尾指针向首指针移动，并且只会搜索两个指针之间的部分元素，进一步提升性能："
   ]
  },
  {
   "cell_type": "code",
   "execution_count": 11,
   "metadata": {},
   "outputs": [],
   "source": [
    "def q2_solution(serie: np.ndarray) -> int:\n",
    "    i, j = 0, len(serie)-1 # 双指针\n",
    "    while i<j:\n",
    "        # 当首尾指针相加不小于2020时，尾指针一直向前移动直至满足\n",
    "        while serie[i] + serie[j] >= 2020:\n",
    "            j -= 1\n",
    "        # 嵌套循环，从尾指针开始向首指针移动，直到碰到合适的元素为止\n",
    "        for k in range(j, i+1, -1):\n",
    "            rem = 2020 - serie[i] - serie[k]\n",
    "            if rem > serie[k]:\n",
    "                break\n",
    "            # 二分搜索，仅搜索i，k两个指针之间的部分数列即可\n",
    "            if binary_search_in(serie[i+1:k], rem):\n",
    "                return serie[i] * serie[k] * rem\n",
    "        i += 1\n",
    "    return -1"
   ]
  },
  {
   "cell_type": "code",
   "execution_count": 12,
   "metadata": {},
   "outputs": [
    {
     "data": {
      "text/plain": [
       "13891280"
      ]
     },
     "execution_count": 12,
     "metadata": {},
     "output_type": "execute_result"
    }
   ],
   "source": [
    "q2_solution(s)"
   ]
  },
  {
   "cell_type": "markdown",
   "metadata": {},
   "source": [
    "看一下耗时情况："
   ]
  },
  {
   "cell_type": "code",
   "execution_count": 13,
   "metadata": {},
   "outputs": [
    {
     "name": "stdout",
     "output_type": "stream",
     "text": [
      "808 µs ± 99.8 µs per loop (mean ± std. dev. of 7 runs, 1000 loops each)\n"
     ]
    }
   ],
   "source": [
    "%timeit q2_solution(s)"
   ]
  },
  {
   "cell_type": "markdown",
   "metadata": {},
   "source": [
    "So far so good!"
   ]
  },
  {
   "cell_type": "code",
   "execution_count": null,
   "metadata": {},
   "outputs": [],
   "source": []
  }
 ],
 "metadata": {
  "kernelspec": {
   "display_name": "Python 3",
   "language": "python",
   "name": "python3"
  },
  "language_info": {
   "codemirror_mode": {
    "name": "ipython",
    "version": 3
   },
   "file_extension": ".py",
   "mimetype": "text/x-python",
   "name": "python",
   "nbconvert_exporter": "python",
   "pygments_lexer": "ipython3",
   "version": "3.7.7"
  }
 },
 "nbformat": 4,
 "nbformat_minor": 4
}
