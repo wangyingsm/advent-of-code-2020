{
 "cells": [
  {
   "cell_type": "markdown",
   "metadata": {},
   "source": [
    "# Day 22\n",
    "\n",
    "又是比较坑的一天，主要障碍也还是理解题意，因为错误理解的意思，导致排查时间将近2个小时。其次就是第二部分时间复杂度很高，用Rust优化后仍需要将近2秒才出结果，用Python则需要几十秒，很痛苦。\n",
    "\n",
    "## Part I\n",
    "\n",
    "第一部分难度不高，使用collection.deque来表示两个玩家手中的牌，这样就可以方便的从前面出牌，赢了再从后面插入赢得的牌。这里使用字典表示玩家名称和手中的牌，实际上使用两个元素的数组也就够了，Rust当中就没有使用字典。\n",
    "\n",
    "首先处理输入："
   ]
  },
  {
   "cell_type": "code",
   "execution_count": 1,
   "metadata": {},
   "outputs": [],
   "source": [
    "from collections import deque\n",
    "from typing import Dict, Deque, Tuple\n",
    "\n",
    "def pile_deck(data: str) -> Tuple[str, Deque[int]]:\n",
    "    lines = [line for line in data.split('\\n') if line]\n",
    "    player = lines[0].rstrip(':')\n",
    "    deck = deque()\n",
    "    for card in lines[1:]:\n",
    "        deck.append(int(card))\n",
    "    return player, deck\n",
    "\n",
    "def read_input(input_file: str) -> Dict[str, Deque[int]]:\n",
    "    with open(input_file) as fn:\n",
    "        content = fn.read()\n",
    "    players = {}\n",
    "    for player in content.split('\\n\\n'):\n",
    "        p, d = pile_deck(player)\n",
    "        players[p] = d\n",
    "    return players"
   ]
  },
  {
   "cell_type": "markdown",
   "metadata": {},
   "source": [
    "然后是第一部分的一轮游戏（game）的逻辑，只需要比较大小，然后将赢了的牌插入到队列后面："
   ]
  },
  {
   "cell_type": "code",
   "execution_count": 2,
   "metadata": {},
   "outputs": [],
   "source": [
    "def part1_next_round(players: Dict[str, Deque[int]]) -> str:\n",
    "    player1 = players['Player 1']\n",
    "    player2 = players['Player 2']\n",
    "    card1 = player1.popleft()\n",
    "    card2 = player2.popleft()\n",
    "    if card1 > card2:\n",
    "        player1.append(card1)\n",
    "        player1.append(card2)\n",
    "        return 'Player 1'\n",
    "    player2.append(card2)\n",
    "    player2.append(card1)\n",
    "    return 'Player 2'"
   ]
  },
  {
   "cell_type": "markdown",
   "metadata": {},
   "source": [
    "第一部分的逻辑，求加权总和："
   ]
  },
  {
   "cell_type": "code",
   "execution_count": 3,
   "metadata": {},
   "outputs": [],
   "source": [
    "def part1_solution(players: Dict[str, Deque[int]]) -> int:\n",
    "    while all(len(deck) > 0 for deck in players.values()):\n",
    "        winner = part1_next_round(players)\n",
    "    return sum((i + 1) * card for i, card in enumerate(list(players[winner])[::-1]))"
   ]
  },
  {
   "cell_type": "markdown",
   "metadata": {},
   "source": [
    "单元测试："
   ]
  },
  {
   "cell_type": "code",
   "execution_count": 4,
   "metadata": {},
   "outputs": [],
   "source": [
    "test_players = read_input('testcase1.txt')\n",
    "assert(part1_solution(test_players) == 306)"
   ]
  },
  {
   "cell_type": "markdown",
   "metadata": {},
   "source": [
    "第一部分结果："
   ]
  },
  {
   "cell_type": "code",
   "execution_count": 5,
   "metadata": {},
   "outputs": [
    {
     "data": {
      "text/plain": [
       "33400"
      ]
     },
     "execution_count": 5,
     "metadata": {},
     "output_type": "execute_result"
    }
   ],
   "source": [
    "players = read_input('input.txt')\n",
    "part1_solution(players)"
   ]
  },
  {
   "cell_type": "markdown",
   "metadata": {},
   "source": [
    "## Part II\n",
    "\n",
    "理解错了两个地方：\n",
    "\n",
    "> Before either player deals a card, if there was a previous round in this game that had exactly the same cards in the same order in the same players' decks, the game instantly ends in a win for player 1.\n",
    "\n",
    "我理解成任何一个玩家出现了曾经出现过的牌型，即判断为Player 1胜利。实际上是两个玩家都出现了曾经出现过的牌型，也就是关系是or，而不是and。\n",
    "\n",
    "> not counting the 3 and 7 cards that were drawn.\n",
    "\n",
    "漏看了这句，两个玩家本轮应该出的牌不计入sub game的牌之内。\n",
    "\n",
    "这两个逻辑错误定位很困难，所以浪费了不少时间。\n",
    "\n",
    "首先定义函数来实现第二轮游戏的逻辑："
   ]
  },
  {
   "cell_type": "code",
   "execution_count": 6,
   "metadata": {},
   "outputs": [],
   "source": [
    "def part2_game(players: Dict[str, Deque[int]]) -> str:\n",
    "    # history用来记录本次game两个玩家手中持有的牌的全部历史记录\n",
    "    history = []\n",
    "    while True:\n",
    "        winner, signal = part2_next_round(players, history)\n",
    "        # 这里需要增加一个信号量，表示sub game是否已经结束\n",
    "        if any(len(deck) == 0 for deck in players.values()) or signal == 'GAMEOVER':\n",
    "            return winner"
   ]
  },
  {
   "cell_type": "markdown",
   "metadata": {},
   "source": [
    "然后是第二部分每轮出牌和赢牌的逻辑："
   ]
  },
  {
   "cell_type": "code",
   "execution_count": 7,
   "metadata": {},
   "outputs": [],
   "source": [
    "from itertools import islice\n",
    "from typing import List\n",
    "\n",
    "def part2_next_round(players: Dict[str, Deque[int]], \n",
    "                     history: Dict[str, List[Deque[int]]]=None) -> Tuple[str, str]:\n",
    "    player1 = players['Player 1']\n",
    "    player2 = players['Player 2']\n",
    "    # 如果存在历史记录\n",
    "    if history and (player1, player2) in history:\n",
    "        # 判断两个玩家的牌是否同时在历史记录中出现过，如果是，直接返回胜利方和GAMEOVER信号量\n",
    "        return 'Player 1', 'GAMEOVER'\n",
    "    # 将本轮两个玩家手中牌型记录在history中\n",
    "    history.append((player1.copy(), player2.copy()))\n",
    "    # 出牌\n",
    "    card1 = player1.popleft()\n",
    "    card2 = player2.popleft()\n",
    "    # 如果出的牌满足进入子游戏sub game的条件\n",
    "    if len(player1) >= card1 and len(player2) >= card2:\n",
    "        sub_game_decks = {\n",
    "            'Player 1': deque(islice(player1, 0, card1)),\n",
    "            'Player 2': deque(islice(player2, 0, card2)),\n",
    "        }\n",
    "        winner = part2_game(sub_game_decks)\n",
    "    else:\n",
    "        winner = 'Player 1' if card1 > card2 else 'Player 2'\n",
    "    if winner == 'Player 1':\n",
    "        player1.append(card1)\n",
    "        player1.append(card2)\n",
    "    else:\n",
    "        player2.append(card2)\n",
    "        player2.append(card1)\n",
    "#     print(history)\n",
    "    return winner, 'ONEROUND'"
   ]
  },
  {
   "cell_type": "markdown",
   "metadata": {},
   "source": [
    "第二部分实现逻辑："
   ]
  },
  {
   "cell_type": "code",
   "execution_count": 8,
   "metadata": {},
   "outputs": [],
   "source": [
    "def part2_solution(players: Dict[str, Deque[int]]) -> int:\n",
    "    winner = part2_game(players)\n",
    "    return sum((i + 1) * card for i, card in enumerate(list(players[winner])[::-1]))"
   ]
  },
  {
   "cell_type": "markdown",
   "metadata": {},
   "source": [
    "单元测试："
   ]
  },
  {
   "cell_type": "code",
   "execution_count": 9,
   "metadata": {},
   "outputs": [],
   "source": [
    "test_players = read_input('testcase1.txt')\n",
    "assert(part2_solution(test_players) == 291)"
   ]
  },
  {
   "cell_type": "markdown",
   "metadata": {},
   "source": [
    "第二部分结果，需要等待几十秒，暂未想到好的优化方式："
   ]
  },
  {
   "cell_type": "code",
   "execution_count": 10,
   "metadata": {},
   "outputs": [
    {
     "data": {
      "text/plain": [
       "33745"
      ]
     },
     "execution_count": 10,
     "metadata": {},
     "output_type": "execute_result"
    }
   ],
   "source": [
    "players = read_input('input.txt')\n",
    "part2_solution(players)"
   ]
  },
  {
   "cell_type": "code",
   "execution_count": null,
   "metadata": {},
   "outputs": [],
   "source": []
  }
 ],
 "metadata": {
  "kernelspec": {
   "display_name": "Python 3",
   "language": "python",
   "name": "python3"
  },
  "language_info": {
   "codemirror_mode": {
    "name": "ipython",
    "version": 3
   },
   "file_extension": ".py",
   "mimetype": "text/x-python",
   "name": "python",
   "nbconvert_exporter": "python",
   "pygments_lexer": "ipython3",
   "version": "3.7.6"
  }
 },
 "nbformat": 4,
 "nbformat_minor": 4
}
