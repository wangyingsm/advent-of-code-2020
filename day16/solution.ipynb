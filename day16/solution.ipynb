{
 "cells": [
  {
   "cell_type": "markdown",
   "metadata": {},
   "source": [
    "# Day 16\n",
    "\n",
    "## Part I\n",
    "\n",
    "第一部分按照问题描述来编写逻辑即可。下面定义了两个类，一个类是代表区间对象Range，例如$[1-3]$之类的，定义__contains__方法使得可以直接用in运算符，方便写出易读易理解的代码。第二个类是ValidRanges，代表所有可能的区间，可以通过add_range方法为对象添加新的区间，添加的时候会合并所有可能重叠的区段，以提升最后判断的性能，同样也实现了__contains__方法方便使用in运算符。两个类的__repr__方法不是必须的，仅为调试时显示对象内容方便而设计："
   ]
  },
  {
   "cell_type": "code",
   "execution_count": 1,
   "metadata": {},
   "outputs": [],
   "source": [
    "from typing import List\n",
    "\n",
    "class Range(object):\n",
    "    def __init__(self, low: int, high: int):\n",
    "        self.low = low\n",
    "        self.high = high\n",
    "    def set_low(self, low: int):\n",
    "        self.low = low\n",
    "    def set_high(self, high: int):\n",
    "        self.high = high\n",
    "    def __contains__(self, value: int) -> bool:\n",
    "        return self.low <= value <= self.high\n",
    "    def __repr__(self) -> str:\n",
    "        return f'[{self.low} - {self.high}]'\n",
    "    def __eq__(self, other: 'Range') -> bool:\n",
    "        return self.low == other.low and self.high == other.high\n",
    "\n",
    "class ValidRanges(object):\n",
    "    def __init__(self):\n",
    "        self.ranges: List[Range] = []\n",
    "    def add_range(self, low: int, high: int):\n",
    "        if low >= high:\n",
    "            raise ValueError('invalid params: {low} >= {high}')\n",
    "        for i, r in enumerate(self.ranges):\n",
    "            if low in r and high in r:\n",
    "                return\n",
    "            if low in r or r.high == low - 1:\n",
    "                r.set_high(high)\n",
    "                return\n",
    "            if high in r or r.low == high + 1:\n",
    "                r.set_low(low)\n",
    "                return\n",
    "            if r.low > low and r.high < high:\n",
    "                r.set_low(low)\n",
    "                r.set_high(high)\n",
    "                return\n",
    "        self.ranges.append(Range(low, high))\n",
    "    def __contains__(self, value: int) -> bool:\n",
    "        return any(value in r for r in self.ranges)\n",
    "    def __repr__(self) -> str:\n",
    "        return str(self.ranges)"
   ]
  },
  {
   "cell_type": "markdown",
   "metadata": {},
   "source": [
    "为这两个类做一个简单的单元测试："
   ]
  },
  {
   "cell_type": "code",
   "execution_count": 2,
   "metadata": {},
   "outputs": [],
   "source": [
    "v = ValidRanges()\n",
    "v.add_range(1, 3)\n",
    "v.add_range(5, 7)\n",
    "v.add_range(6, 11)\n",
    "v.add_range(33, 44)\n",
    "v.add_range(13, 40)\n",
    "v.add_range(45, 50)\n",
    "assert(v.ranges == [Range(1, 3), Range(5, 11), Range(13, 50)])"
   ]
  },
  {
   "cell_type": "markdown",
   "metadata": {},
   "source": [
    "读取输入数据，这是一项体力活，就是一项一项去读取解析："
   ]
  },
  {
   "cell_type": "code",
   "execution_count": 3,
   "metadata": {},
   "outputs": [],
   "source": [
    "from typing import Tuple\n",
    "\n",
    "def read_input(input_file: str) -> Tuple[ValidRanges, List[int], List[List[int]]]:\n",
    "    with open(input_file) as fn:\n",
    "        data = fn.read()\n",
    "    # 两个换行符分隔，第一部分是字段定义，第二部分是自己的票，第三部分是隔壁的票\n",
    "    fields, your_ticket, nearby_tickets = data.split('\\n\\n')\n",
    "    # 下面这个for loop将第一部分输入转换成一个ValidRanges对象\n",
    "    valid_ranges = ValidRanges()\n",
    "    for line in fields.split('\\n'):\n",
    "        _, f = line.rstrip().split(': ')\n",
    "        for s in f.split(' or '):\n",
    "            low, high = s.split('-')\n",
    "            valid_ranges.add_range(int(low), int(high))\n",
    "    # 下面使用两个列表解析式获得自己的票（一个整数列表）和隔壁的票（一个整数列表的列表）\n",
    "    your_ticket = [int(x) for x in your_ticket.split('\\n')[1].rstrip().split(',')]\n",
    "    nearby_tickets = [[int(x) for x in line.rstrip().split(',')]\n",
    "                      for line in nearby_tickets.split('\\n')[1:] if line]\n",
    "    return valid_ranges, your_ticket, nearby_tickets"
   ]
  },
  {
   "cell_type": "markdown",
   "metadata": {},
   "source": [
    "ok，第一部分结果获得的逻辑："
   ]
  },
  {
   "cell_type": "code",
   "execution_count": 4,
   "metadata": {},
   "outputs": [],
   "source": [
    "def part1_solution(valid_ranges: ValidRanges, nearby_tickets: List[List[int]]) -> int:\n",
    "    rate = 0\n",
    "    for ticket in nearby_tickets:\n",
    "        rate += sum(x for x in ticket if x not in valid_ranges)\n",
    "    return rate"
   ]
  },
  {
   "cell_type": "markdown",
   "metadata": {},
   "source": [
    "单元测试："
   ]
  },
  {
   "cell_type": "code",
   "execution_count": 5,
   "metadata": {},
   "outputs": [],
   "source": [
    "test_ranges, _, test_nearby = read_input('testcase1.txt')\n",
    "assert(part1_solution(test_ranges, test_nearby) == 71)"
   ]
  },
  {
   "cell_type": "markdown",
   "metadata": {},
   "source": [
    "然后就是第一部分的结果："
   ]
  },
  {
   "cell_type": "code",
   "execution_count": 6,
   "metadata": {},
   "outputs": [
    {
     "data": {
      "text/plain": [
       "24980"
      ]
     },
     "execution_count": 6,
     "metadata": {},
     "output_type": "execute_result"
    }
   ],
   "source": [
    "valid_ranges, _, nearby_tickets = read_input('input.txt')\n",
    "part1_solution(valid_ranges, nearby_tickets)"
   ]
  },
  {
   "cell_type": "markdown",
   "metadata": {},
   "source": [
    "## Part II\n",
    "\n",
    "看到第二部分的题目后，才发现第一部分的ValidRanges不应该那么设计，不过没关系，通过继承，可以实现一个新的ValidField类，只是为ValidRanges增加了一个属性field_name，代表这个字段的名称，也就是每一行的名称部分内容："
   ]
  },
  {
   "cell_type": "code",
   "execution_count": 7,
   "metadata": {},
   "outputs": [],
   "source": [
    "class ValidField(ValidRanges):\n",
    "    def __init__(self, field_name: str):\n",
    "        super().__init__()\n",
    "        self.field_name = field_name\n",
    "    def __repr__(self) -> str:\n",
    "        return f'{self.field_name}: {super().__repr__()}'"
   ]
  },
  {
   "cell_type": "markdown",
   "metadata": {},
   "source": [
    "当然读取输入数据的方式也要发生改变，下面就重新定义read_input函数，在返回的元组中多增加一个值，名称和ValidField组成的一个字典："
   ]
  },
  {
   "cell_type": "code",
   "execution_count": 8,
   "metadata": {},
   "outputs": [],
   "source": [
    "from typing import Dict\n",
    "\n",
    "def read_input(input_file: str) \\\n",
    "    -> Tuple[ValidRanges, Dict[str, ValidField], List[int], List[List[int]]]:\n",
    "    with open(input_file) as fn:\n",
    "        data = fn.read()\n",
    "    fields, your_ticket, nearby_tickets = data.split('\\n\\n')\n",
    "    valid_ranges = ValidRanges()\n",
    "    valid_fields = {}\n",
    "    for line in fields.split('\\n'):\n",
    "        field_name, f = line.rstrip().split(': ')\n",
    "        valid_field = ValidField(field_name)\n",
    "        for s in f.split(' or '):\n",
    "            low, high = s.split('-')\n",
    "            valid_field.add_range(int(low), int(high))\n",
    "            valid_ranges.add_range(int(low), int(high))\n",
    "        valid_fields[field_name] = valid_field\n",
    "    your_ticket = [int(x) for x in your_ticket.split('\\n')[1].rstrip().split(',')]\n",
    "    nearby_tickets = [[int(x) for x in line.rstrip().split(',')]\n",
    "                      for line in nearby_tickets.split('\\n')[1:] if line]\n",
    "    return valid_ranges, valid_fields, your_ticket, nearby_tickets"
   ]
  },
  {
   "cell_type": "markdown",
   "metadata": {},
   "source": [
    "然后我们需要移除隔壁票中所有不满足第一部分要求的那些票，定义一个函数来处理："
   ]
  },
  {
   "cell_type": "code",
   "execution_count": 9,
   "metadata": {},
   "outputs": [],
   "source": [
    "def remove_invalid_nearby_tickets(valid_ranges: ValidRanges,\n",
    "                                  nearby_tickets: List[List[int]]) -> List[List[int]]:\n",
    "    return [ticket for ticket in nearby_tickets if all(x in valid_ranges for x in ticket)]"
   ]
  },
  {
   "cell_type": "markdown",
   "metadata": {},
   "source": [
    "使用第一部分的例子做一个单元测试，看看read_input和remove_invalid_nearby_tickets函数是否正常工作："
   ]
  },
  {
   "cell_type": "code",
   "execution_count": 11,
   "metadata": {},
   "outputs": [],
   "source": [
    "test_ranges, _, _, test_nearby = read_input('testcase1.txt')\n",
    "assert(remove_invalid_nearby_tickets(test_ranges, test_nearby) == [[7, 3, 47]])"
   ]
  },
  {
   "cell_type": "markdown",
   "metadata": {},
   "source": [
    "下面才是第二部分的关键逻辑，我们要找到票中的每一列对应的字段。首先找到票中每一列可能从属的字段列表，如果列表中只有一个可能性，则表示这个列只能对应该字段，并在其他列中将这个字段（如果存在的话）从列表中删除，重复这个过程直到所有的列都只对应唯一的一个字段为止，最终返回一个字段名称和列序号的字典值："
   ]
  },
  {
   "cell_type": "code",
   "execution_count": 12,
   "metadata": {},
   "outputs": [],
   "source": [
    "from typing import Set\n",
    "import numpy as np\n",
    "\n",
    "def remove_all_indices(indices: Dict[str, List[int]], value: int):\n",
    "    '''\n",
    "    在所有字段对应列序号的列表中删除一个特定序号值\n",
    "    '''\n",
    "    for v in indices.values():\n",
    "        # 如果该字段就是只对应这个序号，或者该字段对应的序号列表中不存在value，跳过\n",
    "        if v == [value] or value not in v:\n",
    "            continue\n",
    "        v.remove(value)\n",
    "\n",
    "def find_field_indices(valid_fields: Dict[str, ValidField],\n",
    "                       nearby_tickets: List[List[int]]) -> Dict[str, int]:\n",
    "    # 这里借用了numpy的矩阵转置能力，直接操作列表的列表中的列也是可以的，不过代码会比较长且难读\n",
    "    tickets = np.array(nearby_tickets).T\n",
    "    indices = {}\n",
    "    # 首先将所有字段可能出现的列序号找到，放到一个字典中\n",
    "    for name in valid_fields:\n",
    "        for i, col in enumerate(tickets):\n",
    "            if all(x in valid_fields[name] for x in col):\n",
    "                indices.setdefault(name, [])\n",
    "                indices[name].append(i)\n",
    "    result = {}\n",
    "    # 然后通过不停的循环，将单个序号的字段放入result中，并调用remove_all_indices函数在其他字段中删除这个序号\n",
    "    while True:\n",
    "        # 直到所有字段都仅对应一个序号，循环结束\n",
    "        if len(result) == len(indices):\n",
    "            return result\n",
    "        for name, inds in indices.items():\n",
    "            if len(inds) == 1:\n",
    "                result[name] = inds[0]\n",
    "                remove_all_indices(indices, inds[0])"
   ]
  },
  {
   "cell_type": "markdown",
   "metadata": {},
   "source": [
    "使用第二部分给出的例子，做上面逻辑的单元测试："
   ]
  },
  {
   "cell_type": "code",
   "execution_count": 13,
   "metadata": {},
   "outputs": [],
   "source": [
    "test_ranges, test_fields, _, test_nearby = read_input('testcase2.txt')\n",
    "test_nearby = remove_invalid_nearby_tickets(test_ranges, test_nearby)\n",
    "assert(find_field_indices(test_fields, test_nearby) == {'row': 0, 'class': 1, 'seat': 2})"
   ]
  },
  {
   "cell_type": "markdown",
   "metadata": {},
   "source": [
    "最后的函数，用来获得第二部分的结果，自己的票中6个以departure开头的字段值的乘积："
   ]
  },
  {
   "cell_type": "code",
   "execution_count": 14,
   "metadata": {},
   "outputs": [],
   "source": [
    "def part2_solution(valid_ranges: ValidRanges,\n",
    "                   valid_fields: Dict[str, ValidField],\n",
    "                   your_ticket: List[int],\n",
    "                   nearby_tickets: List[List[int]]) -> int:\n",
    "    # 移除不满足Part I条件的那些票\n",
    "    nearby_tickets = remove_invalid_nearby_tickets(valid_ranges, nearby_tickets)\n",
    "    # 找到所有字段对应的列序号\n",
    "    indices = find_field_indices(valid_fields, nearby_tickets)\n",
    "    # 下面计算乘积，此处没有使用reduce，用for loop，懒得import reduce了\n",
    "    result = 1\n",
    "    for index in (index for name, index in indices.items() if name.startswith('departure')):\n",
    "        result *= your_ticket[index]\n",
    "    return result"
   ]
  },
  {
   "cell_type": "markdown",
   "metadata": {},
   "source": [
    "第二部分结果："
   ]
  },
  {
   "cell_type": "code",
   "execution_count": 15,
   "metadata": {},
   "outputs": [
    {
     "data": {
      "text/plain": [
       "809376774329"
      ]
     },
     "execution_count": 15,
     "metadata": {},
     "output_type": "execute_result"
    }
   ],
   "source": [
    "valid_ranges, valid_fields, your_ticket, nearby_tickets = read_input('input.txt')\n",
    "part2_solution(valid_ranges, valid_fields, your_ticket, nearby_tickets)"
   ]
  },
  {
   "cell_type": "code",
   "execution_count": null,
   "metadata": {},
   "outputs": [],
   "source": []
  }
 ],
 "metadata": {
  "kernelspec": {
   "display_name": "Python 3",
   "language": "python",
   "name": "python3"
  },
  "language_info": {
   "codemirror_mode": {
    "name": "ipython",
    "version": 3
   },
   "file_extension": ".py",
   "mimetype": "text/x-python",
   "name": "python",
   "nbconvert_exporter": "python",
   "pygments_lexer": "ipython3",
   "version": "3.7.7"
  }
 },
 "nbformat": 4,
 "nbformat_minor": 4
}
