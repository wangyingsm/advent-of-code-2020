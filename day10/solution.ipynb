{
 "cells": [
  {
   "cell_type": "markdown",
   "metadata": {},
   "source": [
    "# Day 10\n",
    "\n",
    "## Part I\n",
    "\n",
    "首先读取输入并排序，然后将输入数组处理成为两个相邻元素差值的Numpy数组，这里使用Numpy主要为了方便进行逐元素的矢量运算，当然性能也比较高："
   ]
  },
  {
   "cell_type": "code",
   "execution_count": 1,
   "metadata": {},
   "outputs": [],
   "source": [
    "from typing import List\n",
    "import numpy as np\n",
    "\n",
    "def read_input(input_file: str) -> List[int]:\n",
    "    with open(input_file) as fn:\n",
    "        return sorted([int(line) for line in fn.readlines()])\n",
    "    \n",
    "def to_diff_array(arr: List[int]) -> np.ndarray:\n",
    "    return np.array(arr + [arr[-1]+3]) - np.array([0] + arr)"
   ]
  },
  {
   "cell_type": "markdown",
   "metadata": {},
   "source": [
    "然后使用Couter来计算数组中1的个数和3的个数，返回两者乘积："
   ]
  },
  {
   "cell_type": "code",
   "execution_count": 2,
   "metadata": {},
   "outputs": [],
   "source": [
    "from collections import Counter\n",
    "\n",
    "def part1_solution(jolts: np.ndarray) -> int:\n",
    "    c = Counter(jolts)\n",
    "    return c[1] * c[3]"
   ]
  },
  {
   "cell_type": "markdown",
   "metadata": {},
   "source": [
    "下面来两个单元测试："
   ]
  },
  {
   "cell_type": "code",
   "execution_count": 3,
   "metadata": {},
   "outputs": [],
   "source": [
    "testcase1 = to_diff_array(read_input('testcase1.txt'))\n",
    "assert(part1_solution(testcase1) == 35)\n",
    "\n",
    "testcase2 = to_diff_array(read_input('testcase2.txt'))\n",
    "assert(part1_solution(testcase2) == 220)"
   ]
  },
  {
   "cell_type": "markdown",
   "metadata": {},
   "source": [
    "第一部分的结果："
   ]
  },
  {
   "cell_type": "code",
   "execution_count": 5,
   "metadata": {},
   "outputs": [
    {
     "data": {
      "text/plain": [
       "2516"
      ]
     },
     "execution_count": 5,
     "metadata": {},
     "output_type": "execute_result"
    }
   ],
   "source": [
    "jolts = to_diff_array(read_input('input.txt'))\n",
    "part1_solution(jolts)"
   ]
  },
  {
   "cell_type": "markdown",
   "metadata": {},
   "source": [
    "## Part II\n",
    "\n",
    "第二部分需要找到差值数组中所有1元素串，连续两个1提供了2种组合方式，连续三个1提供了4种组合方式，更多的1数字串提供组合方式的公式为：\n",
    "\n",
    "$$(n - 3 + 1) * 3 + 1, n为连续1元素的个数$$\n",
    "\n",
    "最后将所有的连续1串获得的组合方式相乘，即可获得总共可能的方式："
   ]
  },
  {
   "cell_type": "code",
   "execution_count": 6,
   "metadata": {},
   "outputs": [],
   "source": [
    "def part2_solution(arr: np.ndarray) -> int:\n",
    "    paths = 1\n",
    "    counter = 0\n",
    "    for a in arr:\n",
    "        if a == 1:\n",
    "            counter += 1\n",
    "        if a == 3:\n",
    "            if counter >= 3:\n",
    "                paths *= (counter - 3 + 1) * 3 + 1\n",
    "            elif counter == 2:\n",
    "                paths *= 2\n",
    "            counter = 0\n",
    "    return paths"
   ]
  },
  {
   "cell_type": "markdown",
   "metadata": {},
   "source": [
    "同样是单元测试："
   ]
  },
  {
   "cell_type": "code",
   "execution_count": 7,
   "metadata": {},
   "outputs": [],
   "source": [
    "assert(part2_solution(testcase1) == 8)\n",
    "\n",
    "assert(part2_solution(testcase2) == 19208)"
   ]
  },
  {
   "cell_type": "markdown",
   "metadata": {},
   "source": [
    "第二部分的结果："
   ]
  },
  {
   "cell_type": "code",
   "execution_count": 8,
   "metadata": {},
   "outputs": [
    {
     "data": {
      "text/plain": [
       "296196766695424"
      ]
     },
     "execution_count": 8,
     "metadata": {},
     "output_type": "execute_result"
    }
   ],
   "source": [
    "part2_solution(jolts)"
   ]
  },
  {
   "cell_type": "code",
   "execution_count": null,
   "metadata": {},
   "outputs": [],
   "source": []
  }
 ],
 "metadata": {
  "kernelspec": {
   "display_name": "Python 3",
   "language": "python",
   "name": "python3"
  },
  "language_info": {
   "codemirror_mode": {
    "name": "ipython",
    "version": 3
   },
   "file_extension": ".py",
   "mimetype": "text/x-python",
   "name": "python",
   "nbconvert_exporter": "python",
   "pygments_lexer": "ipython3",
   "version": "3.7.7"
  }
 },
 "nbformat": 4,
 "nbformat_minor": 4
}
