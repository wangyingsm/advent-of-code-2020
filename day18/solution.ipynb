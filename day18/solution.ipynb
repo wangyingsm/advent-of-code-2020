{
 "cells": [
  {
   "cell_type": "markdown",
   "metadata": {},
   "source": [
    "# Day 18\n",
    "\n",
    "## Part I\n",
    "\n",
    "Ok，本日考的是Token解析和栈处理。首先需要解析整个表达式，这里有三种情况，可能是数字，可能是运算符加和乘，还可能是左右括号。还是为了代码清晰易读，用了枚举来代表解析出来的Token的类型，以及后续运算的状态，此处运算的状态只有两种，加法和乘法。\n",
    "\n",
    "多说一句，在Python中写枚举的体验比起Rust差的太远，没法携带值，导致后续读取解析token的函数需要返回一个三元组，心塞。"
   ]
  },
  {
   "cell_type": "code",
   "execution_count": 1,
   "metadata": {},
   "outputs": [],
   "source": [
    "from enum import Enum\n",
    "\n",
    "TokenType = Enum('TokenType', ('digit', 'operator', 'parentheses'))\n",
    "\n",
    "CalculateMode = Enum('CalculateMode', ('add', 'multiply'))"
   ]
  },
  {
   "cell_type": "markdown",
   "metadata": {},
   "source": [
    "下面是第一个考点了，解析整个表达式。逐个字符读取分析，左括号、加号和乘号都很简单，直接返回相应的符号、类型和剩下的字符串即可；空格有两种情况，前面是数字或者前面是运算符，分别返回数字和忽略继续；虽然输入中的数字都是个位数，此处为了通用，还是使用了一个缓冲区用来存储数字，用来作为数字返回值；最后是右括号，分两种情况，如果前面是数字，就先返回数字，然后解析的指针不向前易懂，再次解析的时候在返回右括号："
   ]
  },
  {
   "cell_type": "code",
   "execution_count": 2,
   "metadata": {},
   "outputs": [],
   "source": [
    "from typing import Any, Tuple\n",
    "import string\n",
    "\n",
    "def next_token(data: str) -> Tuple[Any, TokenType, str]:\n",
    "    data = data.rstrip()\n",
    "    buf = ''\n",
    "    for i, c in enumerate(data):\n",
    "        if c == '(':\n",
    "            return c, TokenType.parentheses, data[i+1:]\n",
    "        if c == ')':\n",
    "            if buf:\n",
    "                return int(buf), TokenType.digit, data[i:]\n",
    "            else:\n",
    "                return c, TokenType.parentheses, data[i+1:]\n",
    "        if c == '+' or c == '*':\n",
    "            return c, TokenType.operator, data[i+1:]\n",
    "        if c == ' ':\n",
    "            if buf:\n",
    "                return int(buf), TokenType.digit, data[i+1:]\n",
    "            else:\n",
    "                continue\n",
    "        if c in string.digits:\n",
    "            buf += c\n",
    "    if buf:\n",
    "        return int(buf), TokenType.digit, ''"
   ]
  },
  {
   "cell_type": "markdown",
   "metadata": {},
   "source": [
    "用一个小测试看看解析的效果："
   ]
  },
  {
   "cell_type": "code",
   "execution_count": 3,
   "metadata": {},
   "outputs": [
    {
     "name": "stdout",
     "output_type": "stream",
     "text": [
      "1 ,             TokenType.digit              + (2 * 3) + (4 * (5 + 6))\n",
      "+ ,            TokenType.operator             (2 * 3) + (4 * (5 + 6))\n",
      "( ,          TokenType.parentheses           2 * 3) + (4 * (5 + 6))\n",
      "2 ,             TokenType.digit              * 3) + (4 * (5 + 6))\n",
      "* ,            TokenType.operator             3) + (4 * (5 + 6))\n",
      "3 ,             TokenType.digit              ) + (4 * (5 + 6))\n",
      ") ,          TokenType.parentheses            + (4 * (5 + 6))\n",
      "+ ,            TokenType.operator             (4 * (5 + 6))\n",
      "( ,          TokenType.parentheses           4 * (5 + 6))\n",
      "4 ,             TokenType.digit              * (5 + 6))\n",
      "* ,            TokenType.operator             (5 + 6))\n",
      "( ,          TokenType.parentheses           5 + 6))\n",
      "5 ,             TokenType.digit              + 6))\n",
      "+ ,            TokenType.operator             6))\n",
      "6 ,             TokenType.digit              ))\n",
      ") ,          TokenType.parentheses           )\n",
      ") ,          TokenType.parentheses           \n"
     ]
    }
   ],
   "source": [
    "d = '1 + (2 * 3) + (4 * (5 + 6))'\n",
    "while d:\n",
    "    t, ttype, remain = next_token(d)\n",
    "    print(f'{t:<2}, {ttype:^40} {remain}')\n",
    "    d = remain"
   ]
  },
  {
   "cell_type": "markdown",
   "metadata": {},
   "source": [
    "看起来不错，下面完成第一部分问题的一条表达式的计算逻辑。这里使用递归来计算括号中的部分，当然也可以使用栈来进行计算，但是显然递归的逻辑更加简单："
   ]
  },
  {
   "cell_type": "code",
   "execution_count": 4,
   "metadata": {},
   "outputs": [],
   "source": [
    "def part1_do_math(data: str) -> Tuple[int, str]:\n",
    "    result = 0\n",
    "    # 初始计算状态，加法\n",
    "    mode = CalculateMode.add\n",
    "    while data:\n",
    "        token, token_type, remain = next_token(data)\n",
    "        \n",
    "        # 右括号，返回结果和剩余的字符串\n",
    "        if token == ')':\n",
    "            return result, remain\n",
    "        \n",
    "        # 左括号，递归计算括号中的部分，然后根据计算状态，与原来的临时结果相乘或相加\n",
    "        if token == '(':\n",
    "            ret, remain = part1_do_math(remain)\n",
    "            if mode == CalculateMode.multiply:\n",
    "                result *= ret\n",
    "            else:\n",
    "                result += ret\n",
    "        \n",
    "        # 数字，根据计算状态和临时结果相乘或相加\n",
    "        if token_type == TokenType.digit:\n",
    "            if mode == CalculateMode.multiply:\n",
    "                result *= token\n",
    "            else:\n",
    "                result += token\n",
    "        \n",
    "        # 加号和乘号，修改计算状态\n",
    "        if token == '+':\n",
    "            mode = CalculateMode.add\n",
    "        if token == '*':\n",
    "            mode = CalculateMode.multiply\n",
    "        \n",
    "        # 使用剩余的字符串继续计算下面的部分\n",
    "        data = remain\n",
    "\n",
    "    return result"
   ]
  },
  {
   "cell_type": "markdown",
   "metadata": {},
   "source": [
    "单元测试："
   ]
  },
  {
   "cell_type": "code",
   "execution_count": 5,
   "metadata": {},
   "outputs": [],
   "source": [
    "assert(part1_do_math('1 + 2 * 3 + 4 * 5 + 6') == 71)\n",
    "\n",
    "assert(part1_do_math('1 + (2 * 3) + (4 * (5 + 6))') == 51)\n",
    "\n",
    "assert(part1_do_math('2 * 3 + (4 * 5)') == 26)\n",
    "\n",
    "assert(part1_do_math('5 + (8 * 3 + 9 + 3 * 4 * 3)') == 437)\n",
    "\n",
    "assert(part1_do_math('5 * 9 * (7 * 3 * 3 + 9 * 3 + (8 + 6 * 4))') == 12240)\n",
    "\n",
    "assert(part1_do_math('((2 + 4 * 9) * (6 + 9 * 8 + 6) + 6) + 2 + 4 * 2') == 13632)"
   ]
  },
  {
   "cell_type": "markdown",
   "metadata": {},
   "source": [
    "读取输入文件函数："
   ]
  },
  {
   "cell_type": "code",
   "execution_count": 6,
   "metadata": {},
   "outputs": [],
   "source": [
    "from typing import List\n",
    "\n",
    "def read_input(input_file: str) -> List[str]:\n",
    "    with open(input_file) as fn:\n",
    "        return fn.readlines()"
   ]
  },
  {
   "cell_type": "markdown",
   "metadata": {},
   "source": [
    "第一部分计算结果的总和："
   ]
  },
  {
   "cell_type": "code",
   "execution_count": 7,
   "metadata": {},
   "outputs": [],
   "source": [
    "def part1_solution(datas: List[str]) -> int:\n",
    "    return sum(part1_do_math(data) for data in datas)"
   ]
  },
  {
   "cell_type": "markdown",
   "metadata": {},
   "source": [
    "获得第一部分结果："
   ]
  },
  {
   "cell_type": "code",
   "execution_count": 8,
   "metadata": {},
   "outputs": [
    {
     "data": {
      "text/plain": [
       "25190263477788"
      ]
     },
     "execution_count": 8,
     "metadata": {},
     "output_type": "execute_result"
    }
   ],
   "source": [
    "datas = read_input('input.txt')\n",
    "part1_solution(datas)"
   ]
  },
  {
   "cell_type": "markdown",
   "metadata": {},
   "source": [
    "## Part II\n",
    "\n",
    "第二部分需要再次使用一个栈算法，当然也可以使用递归实现，不过这里采取了自己使用list实现stack的方式。遇到乘法就将数据压栈，遇到加法就出栈然后进行加法计算后再次压栈，计算结果时只需要将栈中所有的数字相乘即可。这里使用numpy仅仅是为了直接使用prod ufuncs，使用reduce也是一样的："
   ]
  },
  {
   "cell_type": "code",
   "execution_count": 9,
   "metadata": {},
   "outputs": [],
   "source": [
    "import numpy as np\n",
    "\n",
    "def do_math_part2(data: str) -> Tuple[int, str]:\n",
    "    mode = CalculateMode.add\n",
    "    stack = []\n",
    "    while data:\n",
    "        token, token_type, remain = next_token(data)\n",
    "        \n",
    "        # 右括号，返回栈内数字的乘积和剩余的字符串\n",
    "        if token == ')':\n",
    "            return np.prod(stack), remain\n",
    "        \n",
    "        # 左括号，递归计算结果，如果是乘法，将结果压栈，如果是加法，出栈与结果相加后再压栈\n",
    "        if token == '(':\n",
    "            ret, remain = do_math_part2(remain)\n",
    "            if mode == CalculateMode.multiply:\n",
    "                stack.append(ret)\n",
    "            else:\n",
    "                x = stack.pop() if stack else 0\n",
    "                stack.append(x + ret)\n",
    "        \n",
    "        # 数字，乘法压栈，加法出栈与数字相加后再压栈\n",
    "        if token_type == TokenType.digit:\n",
    "            if mode == CalculateMode.multiply:\n",
    "                stack.append(token)\n",
    "            else:\n",
    "                x = stack.pop() if stack else 0\n",
    "                stack.append(x + token)\n",
    "        \n",
    "        # 设置计算状态\n",
    "        if token == '+':\n",
    "            mode = CalculateMode.add\n",
    "        if token == '*':\n",
    "            mode = CalculateMode.multiply\n",
    "        data = remain\n",
    "    return np.prod(stack)"
   ]
  },
  {
   "cell_type": "markdown",
   "metadata": {},
   "source": [
    "单元测试："
   ]
  },
  {
   "cell_type": "code",
   "execution_count": 11,
   "metadata": {},
   "outputs": [],
   "source": [
    "assert(do_math_part2('1 + 2 * 3 + 4 * 5 + 6') == 231)\n",
    "\n",
    "assert(do_math_part2('1 + (2 * 3) + (4 * (5 + 6))') == 51)\n",
    "\n",
    "assert(do_math_part2('2 * 3 + (4 * 5)') == 46)\n",
    "\n",
    "assert(do_math_part2('5 + (8 * 3 + 9 + 3 * 4 * 3)') == 1445)\n",
    "\n",
    "assert(do_math_part2('5 * 9 * (7 * 3 * 3 + 9 * 3 + (8 + 6 * 4))') == 669060)\n",
    "\n",
    "assert(do_math_part2('((2 + 4 * 9) * (6 + 9 * 8 + 6) + 6) + 2 + 4 * 2') == 23340)"
   ]
  },
  {
   "cell_type": "markdown",
   "metadata": {},
   "source": [
    "计算第二部分问题表达式结果之和："
   ]
  },
  {
   "cell_type": "code",
   "execution_count": 12,
   "metadata": {},
   "outputs": [],
   "source": [
    "def part2_solution(datas: List[str]) -> int:\n",
    "    return sum(do_math_part2(data) for data in datas)"
   ]
  },
  {
   "cell_type": "markdown",
   "metadata": {},
   "source": [
    "获得第二部分结果："
   ]
  },
  {
   "cell_type": "code",
   "execution_count": 13,
   "metadata": {},
   "outputs": [
    {
     "data": {
      "text/plain": [
       "297139939002972"
      ]
     },
     "execution_count": 13,
     "metadata": {},
     "output_type": "execute_result"
    }
   ],
   "source": [
    "part2_solution(datas)"
   ]
  },
  {
   "cell_type": "code",
   "execution_count": null,
   "metadata": {},
   "outputs": [],
   "source": []
  }
 ],
 "metadata": {
  "kernelspec": {
   "display_name": "Python 3",
   "language": "python",
   "name": "python3"
  },
  "language_info": {
   "codemirror_mode": {
    "name": "ipython",
    "version": 3
   },
   "file_extension": ".py",
   "mimetype": "text/x-python",
   "name": "python",
   "nbconvert_exporter": "python",
   "pygments_lexer": "ipython3",
   "version": "3.7.6"
  }
 },
 "nbformat": 4,
 "nbformat_minor": 4
}
