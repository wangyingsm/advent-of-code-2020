{
 "cells": [
  {
   "cell_type": "markdown",
   "metadata": {},
   "source": [
    "# Day 9\n",
    "\n",
    "## Part I\n",
    "\n",
    "这个问题没有算法难度，直接编程实现即可。第一部分可以直接暴力枚举，也可以再次使用双指针。\n",
    "\n",
    "首先定义函数用于读取输入数据："
   ]
  },
  {
   "cell_type": "code",
   "execution_count": 1,
   "metadata": {},
   "outputs": [],
   "source": [
    "from typing import List\n",
    "\n",
    "def read_input(input_file: str) -> List[int]:\n",
    "    with open(input_file) as fn:\n",
    "        return [int(line) for line in fn.readlines()]"
   ]
  },
  {
   "cell_type": "markdown",
   "metadata": {},
   "source": [
    "然后定义函数用来解决第一部分问题。使用双指针必须保证前面的数据有序，因此使用了sorted內建函数进行排序。while else的使用令python处理这种逻辑显得特别简单："
   ]
  },
  {
   "cell_type": "code",
   "execution_count": 2,
   "metadata": {},
   "outputs": [],
   "source": [
    "def find_first_invalid(xmas: List[int], preamble: int) -> int:\n",
    "    for i in range(preamble, len(xmas)):\n",
    "        prev = sorted(xmas[i-preamble:i])\n",
    "        head, tail = 0, len(prev) - 1\n",
    "        while head < tail:\n",
    "            s = prev[head] + prev[tail]\n",
    "            if s == xmas[i]:\n",
    "                break\n",
    "            if s < xmas[i]:\n",
    "                head += 1\n",
    "            if s > xmas[i]:\n",
    "                tail -= 1\n",
    "        else:\n",
    "            return xmas[i]\n",
    "    return None"
   ]
  },
  {
   "cell_type": "markdown",
   "metadata": {},
   "source": [
    "进行单元测试"
   ]
  },
  {
   "cell_type": "code",
   "execution_count": 3,
   "metadata": {},
   "outputs": [],
   "source": [
    "testcase = read_input('testcase1.txt')\n",
    "assert(find_first_invalid(testcase, 5) ==127)"
   ]
  },
  {
   "cell_type": "markdown",
   "metadata": {},
   "source": [
    "然后可以获得第一部分结果："
   ]
  },
  {
   "cell_type": "code",
   "execution_count": 4,
   "metadata": {},
   "outputs": [
    {
     "data": {
      "text/plain": [
       "1398413738"
      ]
     },
     "execution_count": 4,
     "metadata": {},
     "output_type": "execute_result"
    }
   ],
   "source": [
    "xmas = read_input('input.txt')\n",
    "result = find_first_invalid(xmas, 25)\n",
    "result"
   ]
  },
  {
   "cell_type": "markdown",
   "metadata": {},
   "source": [
    "## Part II\n",
    "\n",
    "第二部分只能暴力枚举，代码没有什么特别的，就是片段长度从2迭代至总长度，然后使用一个滑动窗口计算总和，找到立即返回该窗口最大值和最小值的和："
   ]
  },
  {
   "cell_type": "code",
   "execution_count": 5,
   "metadata": {},
   "outputs": [],
   "source": [
    "def find_contiguous_sum(xmas: List[int], expect: int) -> int:\n",
    "    for span_len in range(2, len(xmas)):\n",
    "        for index in range(0, len(xmas)-span_len):\n",
    "            if sum(xmas[index:index+span_len]) == expect:\n",
    "                return min(xmas[index:index+span_len]) + max(xmas[index:index+span_len])\n",
    "    return None"
   ]
  },
  {
   "cell_type": "markdown",
   "metadata": {},
   "source": [
    "单元测试："
   ]
  },
  {
   "cell_type": "code",
   "execution_count": 7,
   "metadata": {},
   "outputs": [],
   "source": [
    "assert(find_contiguous_sum(testcase, 127) == 62)"
   ]
  },
  {
   "cell_type": "markdown",
   "metadata": {},
   "source": [
    "获得第二部分结果："
   ]
  },
  {
   "cell_type": "code",
   "execution_count": 8,
   "metadata": {},
   "outputs": [
    {
     "data": {
      "text/plain": [
       "169521051"
      ]
     },
     "execution_count": 8,
     "metadata": {},
     "output_type": "execute_result"
    }
   ],
   "source": [
    "find_contiguous_sum(xmas, result)"
   ]
  },
  {
   "cell_type": "code",
   "execution_count": null,
   "metadata": {},
   "outputs": [],
   "source": []
  }
 ],
 "metadata": {
  "kernelspec": {
   "display_name": "Python 3",
   "language": "python",
   "name": "python3"
  },
  "language_info": {
   "codemirror_mode": {
    "name": "ipython",
    "version": 3
   },
   "file_extension": ".py",
   "mimetype": "text/x-python",
   "name": "python",
   "nbconvert_exporter": "python",
   "pygments_lexer": "ipython3",
   "version": "3.7.7"
  }
 },
 "nbformat": 4,
 "nbformat_minor": 4
}
