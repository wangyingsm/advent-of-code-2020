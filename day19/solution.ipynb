{
 "cells": [
  {
   "cell_type": "markdown",
   "metadata": {},
   "source": [
    "# Day 19\n",
    "\n",
    "## Part I\n",
    "\n",
    "本日问题有难度。第一部分可以使用深度优先搜索来判断字符串是否匹配规则0。这里采用了递归完成，每次成功的匹配都会返回匹配到的字符串长度，对于简单规则来说，那就是返回1，没有匹配到任何字符串将会返回0。\n",
    "\n",
    "这里如果试图获得所有可能的模式，无论在时间上还是空间上复杂度都很高。"
   ]
  },
  {
   "cell_type": "code",
   "execution_count": 1,
   "metadata": {},
   "outputs": [],
   "source": [
    "from itertools import product\n",
    "from typing import Dict, List\n",
    "\n",
    "class Rule(object):\n",
    "    def __init__(self, rule_id: int):\n",
    "        self.rule_id = rule_id\n",
    "    \n",
    "    def add_forward_list(self, forward: List[int]):\n",
    "        if not hasattr(self, 'forwards'):\n",
    "            self.forwards = []\n",
    "        self.forwards.append(forward)\n",
    "        \n",
    "    def set_match(self, match: str):\n",
    "        self.match = match\n",
    "    \n",
    "    def matches(self, rules: Dict[int, 'Rule'], data: str) -> int:\n",
    "        if hasattr(self, 'match'):\n",
    "            return int(data[0] == self.match)\n",
    "        for forward in self.forwards:\n",
    "            index = 0\n",
    "            for r in forward:\n",
    "                ret = rules[r].matches(rules, data[index:])\n",
    "                if ret == 0:\n",
    "                    break\n",
    "                index += ret\n",
    "            else:\n",
    "                return index\n",
    "        return 0"
   ]
  },
  {
   "cell_type": "markdown",
   "metadata": {},
   "source": [
    "然后是两个部分可以共用的读取输入函数："
   ]
  },
  {
   "cell_type": "code",
   "execution_count": 2,
   "metadata": {},
   "outputs": [],
   "source": [
    "from typing import Tuple\n",
    "\n",
    "def read_input(input_file: str) -> Tuple[Dict[int, Rule], List[str]]:\n",
    "    with open(input_file) as fn:\n",
    "        data = fn.read()\n",
    "    part1, part2 = data.split('\\n\\n')\n",
    "    rules = {}\n",
    "    for line in part1.split('\\n'):\n",
    "        rule_id, rhs = line.rstrip().split(': ')\n",
    "        rule_id = int(rule_id)\n",
    "        rule = Rule(rule_id)\n",
    "        if rhs[0] == '\"':\n",
    "            rule.set_match(rhs[1:-1])\n",
    "        else:\n",
    "            for forward in rhs.split(' | '):\n",
    "                rule.add_forward_list([int(x) for x in forward.split(' ')])\n",
    "        rules[rule_id] = rule\n",
    "    return rules, [line for line in part2.split('\\n') if line]"
   ]
  },
  {
   "cell_type": "markdown",
   "metadata": {},
   "source": [
    "我们对上面的matches方法做一个简单的单元测试："
   ]
  },
  {
   "cell_type": "code",
   "execution_count": 3,
   "metadata": {},
   "outputs": [],
   "source": [
    "test_rules, test_data = read_input('testcase1.txt')\n",
    "assert(test_rules[0].matches(test_rules, 'ababbb') == 6)"
   ]
  },
  {
   "cell_type": "markdown",
   "metadata": {},
   "source": [
    "然后就是第一部分的逻辑，所有字符串复合规则0的个数："
   ]
  },
  {
   "cell_type": "code",
   "execution_count": 4,
   "metadata": {},
   "outputs": [],
   "source": [
    "def part1_solution(rules: Dict[int, Rule], data: List[str]) -> int:\n",
    "    return sum(rules[0].matches(rules, line) == len(line) for line in data)"
   ]
  },
  {
   "cell_type": "markdown",
   "metadata": {},
   "source": [
    "单元测试："
   ]
  },
  {
   "cell_type": "code",
   "execution_count": 5,
   "metadata": {},
   "outputs": [],
   "source": [
    "assert(part1_solution(test_rules, test_data) == 2)"
   ]
  },
  {
   "cell_type": "markdown",
   "metadata": {},
   "source": [
    "获得第一部分的结果："
   ]
  },
  {
   "cell_type": "code",
   "execution_count": 6,
   "metadata": {},
   "outputs": [
    {
     "data": {
      "text/plain": [
       "299"
      ]
     },
     "execution_count": 6,
     "metadata": {},
     "output_type": "execute_result"
    }
   ],
   "source": [
    "rules, data = read_input('input.txt')\n",
    "part1_solution(rules, data)"
   ]
  },
  {
   "cell_type": "markdown",
   "metadata": {},
   "source": [
    "## Part II\n",
    "\n",
    "第二部分需要对数据进行观察，规则0是由规则8和11组成，规则8修改之后可以包括1个以上的规则42，规则11修改之后可以包括相等个数的规则42和规则31。因此采用贪婪原则，首先匹配尽可能多的规则42，假设匹配到m个，然后匹配剩余所有的规则31，假设匹配到n个，如果 m - n > 0 就表示能够符合规则0。"
   ]
  },
  {
   "cell_type": "code",
   "execution_count": 7,
   "metadata": {},
   "outputs": [],
   "source": [
    "class Rule(object):\n",
    "    def __init__(self, rule_id: int):\n",
    "        self.rule_id = rule_id\n",
    "    \n",
    "    def add_forward_list(self, forward: List[int]):\n",
    "        if not hasattr(self, 'forwards'):\n",
    "            self.forwards = []\n",
    "        self.forwards.append(forward)\n",
    "        \n",
    "    def set_match(self, match: str):\n",
    "        self.match = match\n",
    "    \n",
    "    def matches(self, rules: Dict[int, 'Rule'], data: str) -> int:\n",
    "        if hasattr(self, 'match'):\n",
    "            return int(data[0] == self.match)\n",
    "        for forward in self.forwards:\n",
    "            index = 0\n",
    "            for r in forward:\n",
    "                ret = rules[r].matches(rules, data[index:])\n",
    "                if ret == 0:\n",
    "                    break\n",
    "                index += ret\n",
    "            else:\n",
    "                return index\n",
    "        return 0\n",
    "    \n",
    "    def multiple_matches(self, rules: Dict[int, 'Rule'], data: str) -> Tuple[int, int]:\n",
    "        match_len = self.matches(rules, data)\n",
    "        if match_len == 0:\n",
    "            return 0, 0\n",
    "        if match_len >= len(data):\n",
    "            return 1, match_len\n",
    "        counter = 1\n",
    "        index = match_len\n",
    "        ret = self.matches(rules, data[index:])\n",
    "        while ret > 0:\n",
    "            counter += 1\n",
    "            index += match_len\n",
    "            if index >= len(data):\n",
    "                break\n",
    "            ret = self.matches(rules, data[index:])\n",
    "        return counter, match_len"
   ]
  },
  {
   "cell_type": "markdown",
   "metadata": {},
   "source": [
    "对multiple_matches方法做简单的单元测试："
   ]
  },
  {
   "cell_type": "code",
   "execution_count": 8,
   "metadata": {},
   "outputs": [],
   "source": [
    "test_rules, test_data = read_input('testcase2.txt')\n",
    "assert(test_rules[42].multiple_matches(test_rules, 'bbabbbbaabaabba') == (2, 5))"
   ]
  },
  {
   "cell_type": "markdown",
   "metadata": {},
   "source": [
    "定义一个辅助函数来完成第二部分每一行是否匹配的逻辑："
   ]
  },
  {
   "cell_type": "code",
   "execution_count": 9,
   "metadata": {},
   "outputs": [],
   "source": [
    "def part2_match(rules: Dict[int, Rule], line: str) -> bool:\n",
    "    m, match_len = rules[42].multiple_matches(rules, line)\n",
    "    if m == 0:\n",
    "        return False\n",
    "    \n",
    "    # 如果规则42已经将整个字符串匹配完，此时仅需要判断最后一段是否符合规则31即可\n",
    "    if m * match_len == len(line):\n",
    "        n, _ = rules[31].multiple_matches(rules, line[-match_len:])\n",
    "    else:\n",
    "        n, _ = rules[31].multiple_matches(rules, line[m * match_len:])\n",
    "    \n",
    "    # 除了必须匹配一个以上规则31以及m-n>0之外，还需要检查是否匹配完了整个字符串\n",
    "    return n > 0 and m - n > 0 and (m + n) * match_len == len(line)"
   ]
  },
  {
   "cell_type": "markdown",
   "metadata": {},
   "source": [
    "对part2_match函数做个简单的单元测试："
   ]
  },
  {
   "cell_type": "code",
   "execution_count": 10,
   "metadata": {},
   "outputs": [],
   "source": [
    "assert(not part2_match(test_rules, 'aaaabbaaaabbaaa'))"
   ]
  },
  {
   "cell_type": "markdown",
   "metadata": {},
   "source": [
    "第二部分最终逻辑，求出所有符合规则0的行数："
   ]
  },
  {
   "cell_type": "code",
   "execution_count": 11,
   "metadata": {},
   "outputs": [],
   "source": [
    "def part2_solution(rules: Dict[int, Rule], data: List[str]):\n",
    "    return sum(part2_match(rules, line) for line in data)"
   ]
  },
  {
   "cell_type": "markdown",
   "metadata": {},
   "source": [
    "单元测试："
   ]
  },
  {
   "cell_type": "code",
   "execution_count": 12,
   "metadata": {},
   "outputs": [],
   "source": [
    "assert(part2_solution(test_rules, test_data) == 12)"
   ]
  },
  {
   "cell_type": "markdown",
   "metadata": {},
   "source": [
    "最后是第二部分的结果："
   ]
  },
  {
   "cell_type": "code",
   "execution_count": 13,
   "metadata": {},
   "outputs": [
    {
     "data": {
      "text/plain": [
       "414"
      ]
     },
     "execution_count": 13,
     "metadata": {},
     "output_type": "execute_result"
    }
   ],
   "source": [
    "part2_solution(*read_input('input.txt'))"
   ]
  },
  {
   "cell_type": "code",
   "execution_count": null,
   "metadata": {},
   "outputs": [],
   "source": []
  }
 ],
 "metadata": {
  "kernelspec": {
   "display_name": "Python 3",
   "language": "python",
   "name": "python3"
  },
  "language_info": {
   "codemirror_mode": {
    "name": "ipython",
    "version": 3
   },
   "file_extension": ".py",
   "mimetype": "text/x-python",
   "name": "python",
   "nbconvert_exporter": "python",
   "pygments_lexer": "ipython3",
   "version": "3.7.7"
  }
 },
 "nbformat": 4,
 "nbformat_minor": 4
}
