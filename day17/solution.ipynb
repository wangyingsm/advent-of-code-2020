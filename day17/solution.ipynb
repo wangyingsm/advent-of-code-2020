{
 "cells": [
  {
   "cell_type": "code",
   "execution_count": 1,
   "metadata": {},
   "outputs": [],
   "source": [
    "from enum import Enum\n",
    "\n",
    "State = Enum('State', ('active', 'inactive'))"
   ]
  },
  {
   "cell_type": "code",
   "execution_count": 36,
   "metadata": {},
   "outputs": [],
   "source": [
    "from typing import Generator\n",
    "from itertools import product\n",
    "from numba import jit\n",
    "\n",
    "class Dimensions(object):\n",
    "    def __init__(self, dims: int, data: str):\n",
    "        lines = data.split('\\n')\n",
    "        self.dims = dims\n",
    "        self.mins = [0] * dims\n",
    "        self.maxs = [len(lines), len(lines)] + [0] * (dims - 2)\n",
    "        self.cells = {}\n",
    "        self.gen = [diff for diff in product(*[range(-1, 2) for _ in range(self.dims)]) \n",
    "                    if any(y != 0 for y in diff)]\n",
    "        for x, line in enumerate(lines):\n",
    "            for y, c in enumerate(line.rstrip()):\n",
    "                if c == '#':\n",
    "                    self.cells[tuple([x, y] + [0] * (dims - 2))] = State.active\n",
    "    \n",
    "    def set_mins_and_maxs(self, *args):\n",
    "        if len(args) != self.dims:\n",
    "            raise ValueError('wrong dimensions')\n",
    "        for i in range(self.dims):\n",
    "            if args[i] < self.mins[i]:\n",
    "                self.mins[i] = args[i]\n",
    "            if args[i] > self.maxs[i]:\n",
    "                self.maxs[i] = args[i]\n",
    "\n",
    "    def count_active_neighbors(self, *args) -> int:\n",
    "        if len(args) != self.dims:\n",
    "            raise ValueError('wrong dimensions')\n",
    "        counter = 0\n",
    "        for diff in self.gen:\n",
    "            if not all(self.mins[i] <= args[i] + diff[i] <= self.maxs[i] for i in range(self.dims)):\n",
    "                continue\n",
    "            coords = [args[i] + diff[i] for i in range(self.dims)]\n",
    "            state = self.cells.get(tuple(coords), State.inactive)\n",
    "            if state == State.active:\n",
    "                counter += 1\n",
    "        return counter\n",
    "    \n",
    "    def next_cycle(self):\n",
    "        new_cells = {}\n",
    "        g = product(*[range(self.mins[i] - 1, self.maxs[i] + 2) for i in range(self.dims)])\n",
    "        for coords in g:\n",
    "            neighbors = self.count_active_neighbors(*coords)\n",
    "            state = self.cells.get(coords, State.inactive)\n",
    "            if state == State.active and (neighbors == 2 or neighbors == 3):\n",
    "                new_cells[coords] = State.active\n",
    "                self.set_mins_and_maxs(*coords)\n",
    "            if state == State.inactive and neighbors == 3:\n",
    "                new_cells[coords] = State.active\n",
    "                self.set_mins_and_maxs(*coords)\n",
    "        self.cells = new_cells\n",
    "    \n",
    "    def count_all_active(self) -> int:\n",
    "        return len(self.cells)"
   ]
  },
  {
   "cell_type": "code",
   "execution_count": 22,
   "metadata": {},
   "outputs": [
    {
     "data": {
      "text/plain": [
       "{(0, 1, 0): <State.active: 1>,\n",
       " (1, 2, 0): <State.active: 1>,\n",
       " (2, 0, 0): <State.active: 1>,\n",
       " (2, 1, 0): <State.active: 1>,\n",
       " (2, 2, 0): <State.active: 1>}"
      ]
     },
     "execution_count": 22,
     "metadata": {},
     "output_type": "execute_result"
    }
   ],
   "source": [
    "with open('testcase1.txt') as fn:\n",
    "    universe = Dimensions(3, fn.read())\n",
    "universe.cells"
   ]
  },
  {
   "cell_type": "code",
   "execution_count": 23,
   "metadata": {},
   "outputs": [
    {
     "data": {
      "text/plain": [
       "11"
      ]
     },
     "execution_count": 23,
     "metadata": {},
     "output_type": "execute_result"
    }
   ],
   "source": [
    "universe.next_cycle()\n",
    "universe.count_all_active()"
   ]
  },
  {
   "cell_type": "code",
   "execution_count": 24,
   "metadata": {},
   "outputs": [
    {
     "data": {
      "text/plain": [
       "21"
      ]
     },
     "execution_count": 24,
     "metadata": {},
     "output_type": "execute_result"
    }
   ],
   "source": [
    "universe.next_cycle()\n",
    "universe.count_all_active()"
   ]
  },
  {
   "cell_type": "code",
   "execution_count": 25,
   "metadata": {},
   "outputs": [
    {
     "data": {
      "text/plain": [
       "38"
      ]
     },
     "execution_count": 25,
     "metadata": {},
     "output_type": "execute_result"
    }
   ],
   "source": [
    "universe.next_cycle()\n",
    "universe.count_all_active()"
   ]
  },
  {
   "cell_type": "code",
   "execution_count": 26,
   "metadata": {},
   "outputs": [],
   "source": [
    "def all_solution(input_file: str, dims: int, cycles: int=6) -> int:\n",
    "    with open(input_file) as fn:\n",
    "        universe = Dimensions(dims, fn.read())\n",
    "    for i in range(cycles):\n",
    "        universe.next_cycle()\n",
    "    return universe.count_all_active()"
   ]
  },
  {
   "cell_type": "code",
   "execution_count": 27,
   "metadata": {},
   "outputs": [
    {
     "data": {
      "text/plain": [
       "112"
      ]
     },
     "execution_count": 27,
     "metadata": {},
     "output_type": "execute_result"
    }
   ],
   "source": [
    "all_solution('testcase1.txt', 3)"
   ]
  },
  {
   "cell_type": "code",
   "execution_count": 28,
   "metadata": {},
   "outputs": [
    {
     "data": {
      "text/plain": [
       "401"
      ]
     },
     "execution_count": 28,
     "metadata": {},
     "output_type": "execute_result"
    }
   ],
   "source": [
    "all_solution('input.txt', 3)"
   ]
  },
  {
   "cell_type": "code",
   "execution_count": 29,
   "metadata": {},
   "outputs": [
    {
     "data": {
      "text/plain": [
       "848"
      ]
     },
     "execution_count": 29,
     "metadata": {},
     "output_type": "execute_result"
    }
   ],
   "source": [
    "all_solution('testcase1.txt', 4)"
   ]
  },
  {
   "cell_type": "code",
   "execution_count": 60,
   "metadata": {},
   "outputs": [
    {
     "data": {
      "text/plain": [
       "2224"
      ]
     },
     "execution_count": 60,
     "metadata": {},
     "output_type": "execute_result"
    }
   ],
   "source": [
    "all_solution('input.txt', 4)"
   ]
  },
  {
   "cell_type": "code",
   "execution_count": 38,
   "metadata": {},
   "outputs": [
    {
     "name": "stdout",
     "output_type": "stream",
     "text": [
      " "
     ]
    }
   ],
   "source": [
    "%prun all_solution('input.txt', 3)"
   ]
  },
  {
   "cell_type": "code",
   "execution_count": null,
   "metadata": {},
   "outputs": [],
   "source": []
  }
 ],
 "metadata": {
  "kernelspec": {
   "display_name": "Python 3",
   "language": "python",
   "name": "python3"
  },
  "language_info": {
   "codemirror_mode": {
    "name": "ipython",
    "version": 3
   },
   "file_extension": ".py",
   "mimetype": "text/x-python",
   "name": "python",
   "nbconvert_exporter": "python",
   "pygments_lexer": "ipython3",
   "version": "3.7.6"
  }
 },
 "nbformat": 4,
 "nbformat_minor": 4
}
