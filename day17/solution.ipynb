{
 "cells": [
  {
   "cell_type": "markdown",
   "metadata": {},
   "source": [
    "# Day 17\n",
    "\n",
    "第二次出现康威生命游戏变体，不过是多维度宇宙中的生命游戏。\n",
    "\n",
    "# Part I\n",
    "\n",
    "下面的代码是在完成第二部分的时候重构的代码，因为第一部分是三维空间的，而第二部分是思维空间的，为了避免复制粘贴代码的尴尬，所以将Dimension类重构为可以支撑n个维度的通用代码。\n",
    "\n",
    "首先是单元格状态的枚举量："
   ]
  },
  {
   "cell_type": "code",
   "execution_count": 1,
   "metadata": {},
   "outputs": [],
   "source": [
    "from enum import Enum\n",
    "\n",
    "State = Enum('State', ('active', 'inactive'))"
   ]
  },
  {
   "cell_type": "markdown",
   "metadata": {},
   "source": [
    "核心逻辑类Dimemsions，首先将将输入的二维数据转换成n维的空间坐标，然后存储在一个字典cells中。然后记录目前坐标每个维度的最小值和最大值，Dimensions.gen属性记录的是n维中相邻单元格坐标的差值的列表，每个差值都是n维的元组："
   ]
  },
  {
   "cell_type": "code",
   "execution_count": 2,
   "metadata": {},
   "outputs": [],
   "source": [
    "from typing import Generator\n",
    "from itertools import product\n",
    "from numba import jit\n",
    "\n",
    "class Dimensions(object):\n",
    "    '''\n",
    "    生命游戏宇宙类\n",
    "    '''\n",
    "    def __init__(self, dims: int, data: str):\n",
    "        '''\n",
    "        dims 维度个数\n",
    "        data 二维输入数据的字符串，包括换行符\n",
    "        '''\n",
    "        lines = data.split('\\n')\n",
    "        self.dims = dims\n",
    "        # 初始化各维度最小值，全部为0\n",
    "        self.mins = [0] * dims\n",
    "        # 初始化各维度最大值，前两个维度为输入矩阵的形状，后面的维度都为0\n",
    "        self.maxs = [len(lines), len(lines)] + [0] * (dims - 2)\n",
    "        self.cells = {}\n",
    "        # 预生成相邻单元格的坐标差值列表，每个相邻单元格以一个元组表示，例如，三维(-1, -1, 0)\n",
    "        self.gen = [diff for diff in product(*[range(-1, 2) for _ in range(self.dims)]) \n",
    "                    if any(y != 0 for y in diff)]\n",
    "        # 生成cells字典，仅记录活着的单元格\n",
    "        for x, line in enumerate(lines):\n",
    "            for y, c in enumerate(line.rstrip()):\n",
    "                if c == '#':\n",
    "                    self.cells[tuple([x, y] + [0] * (dims - 2))] = State.active\n",
    "    \n",
    "    def set_mins_and_maxs(self, *args):\n",
    "        '''设置各个维度最小值和最大值'''\n",
    "        if len(args) != self.dims:\n",
    "            raise ValueError('wrong dimensions')\n",
    "        for i in range(self.dims):\n",
    "            if args[i] < self.mins[i]:\n",
    "                self.mins[i] = args[i]\n",
    "            if args[i] > self.maxs[i]:\n",
    "                self.maxs[i] = args[i]\n",
    "\n",
    "    def count_active_neighbors(self, *args) -> int:\n",
    "        '''计算活着的邻居的个数'''\n",
    "        if len(args) != self.dims:\n",
    "            raise ValueError('wrong dimensions')\n",
    "        counter = 0\n",
    "        for diff in self.gen:\n",
    "            if not all(self.mins[i] <= args[i] + diff[i] <= self.maxs[i] for i in range(self.dims)):\n",
    "                continue\n",
    "            coords = [args[i] + diff[i] for i in range(self.dims)]\n",
    "            state = self.cells.get(tuple(coords), State.inactive)\n",
    "            if state == State.active:\n",
    "                counter += 1\n",
    "        return counter\n",
    "    \n",
    "    def next_cycle(self):\n",
    "        '''游戏下一轮状态，使用一个新的字典记录，然后整体替换原来的cells'''\n",
    "        new_cells = {}\n",
    "        # 使用product来得到整个宇宙目前可能存在声明的单元格坐标\n",
    "        g = product(*[range(self.mins[i] - 1, self.maxs[i] + 2) for i in range(self.dims)])\n",
    "        # 依据规则生成一轮新的宇宙\n",
    "        for coords in g:\n",
    "            neighbors = self.count_active_neighbors(*coords)\n",
    "            state = self.cells.get(coords, State.inactive)\n",
    "            if state == State.active and (neighbors == 2 or neighbors == 3):\n",
    "                new_cells[coords] = State.active\n",
    "                self.set_mins_and_maxs(*coords)\n",
    "            if state == State.inactive and neighbors == 3:\n",
    "                new_cells[coords] = State.active\n",
    "                self.set_mins_and_maxs(*coords)\n",
    "        self.cells = new_cells\n",
    "    \n",
    "    def count_all_active(self) -> int:\n",
    "        '''计算所有生命数量'''\n",
    "        return len(self.cells)"
   ]
  },
  {
   "cell_type": "markdown",
   "metadata": {},
   "source": [
    "# Part II\n",
    "\n",
    "经过重构后，第一部分和第二部分的逻辑可以整合在一起，因为两个部分的差别仅仅就是维度数量："
   ]
  },
  {
   "cell_type": "code",
   "execution_count": 3,
   "metadata": {},
   "outputs": [],
   "source": [
    "def all_solution(input_file: str, dims: int, cycles: int=6) -> int:\n",
    "    with open(input_file) as fn:\n",
    "        universe = Dimensions(dims, fn.read())\n",
    "    for i in range(cycles):\n",
    "        universe.next_cycle()\n",
    "    return universe.count_all_active()"
   ]
  },
  {
   "cell_type": "markdown",
   "metadata": {},
   "source": [
    "单元测试："
   ]
  },
  {
   "cell_type": "code",
   "execution_count": 4,
   "metadata": {},
   "outputs": [],
   "source": [
    "assert(all_solution('testcase1.txt', 3) == 112)\n",
    "assert(all_solution('testcase1.txt', 4) == 848)"
   ]
  },
  {
   "cell_type": "markdown",
   "metadata": {},
   "source": [
    "第一部分结果："
   ]
  },
  {
   "cell_type": "code",
   "execution_count": 5,
   "metadata": {},
   "outputs": [
    {
     "data": {
      "text/plain": [
       "401"
      ]
     },
     "execution_count": 5,
     "metadata": {},
     "output_type": "execute_result"
    }
   ],
   "source": [
    "all_solution('input.txt', 3)"
   ]
  },
  {
   "cell_type": "markdown",
   "metadata": {},
   "source": [
    "第二部分结果，随着维度增大，计算复杂度急剧增大，暂未有好办法优化Python的性能："
   ]
  },
  {
   "cell_type": "code",
   "execution_count": 6,
   "metadata": {},
   "outputs": [
    {
     "data": {
      "text/plain": [
       "2224"
      ]
     },
     "execution_count": 6,
     "metadata": {},
     "output_type": "execute_result"
    }
   ],
   "source": [
    "all_solution('input.txt', 4)"
   ]
  },
  {
   "cell_type": "code",
   "execution_count": null,
   "metadata": {},
   "outputs": [],
   "source": []
  }
 ],
 "metadata": {
  "kernelspec": {
   "display_name": "Python 3",
   "language": "python",
   "name": "python3"
  },
  "language_info": {
   "codemirror_mode": {
    "name": "ipython",
    "version": 3
   },
   "file_extension": ".py",
   "mimetype": "text/x-python",
   "name": "python",
   "nbconvert_exporter": "python",
   "pygments_lexer": "ipython3",
   "version": "3.7.6"
  }
 },
 "nbformat": 4,
 "nbformat_minor": 4
}
