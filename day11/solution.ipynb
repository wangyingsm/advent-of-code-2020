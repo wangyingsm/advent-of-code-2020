{
 "cells": [
  {
   "cell_type": "markdown",
   "metadata": {},
   "source": [
    "# Day 11\n",
    "\n",
    "## Part I\n",
    "\n",
    "变体的康威生命游戏。按照标准写法来做，此处没有使用Numpy这样的库，因此没有应用矢量化函数进行运算，最终运行性能比较差。因此这里的代码主要为了清晰易懂而不是性能。\n",
    "\n",
    "下面首先定义一个枚举类型，代表每个格子的可能状态，有三种空座位empty、被占座位occupied和地板floor："
   ]
  },
  {
   "cell_type": "code",
   "execution_count": 1,
   "metadata": {},
   "outputs": [],
   "source": [
    "from enum import Enum\n",
    "\n",
    "CellState = Enum('CellState', ('empty', 'occupied', 'floor'))"
   ]
  },
  {
   "cell_type": "markdown",
   "metadata": {},
   "source": [
    "然后是为了完成生命游戏的核心逻辑代码，此处如果应用Numpy数组和相应的矢量化函数运算的话，应该能提升不少性能，但是就失去了使用enum的代码清晰易懂特性："
   ]
  },
  {
   "cell_type": "code",
   "execution_count": 2,
   "metadata": {},
   "outputs": [],
   "source": [
    "from typing import List\n",
    "\n",
    "def occupy_seats_count(cells: List[List[CellState]], row: int, col: int) -> int:\n",
    "    '''\n",
    "    计算一个单元格周围被占用的座位个数\n",
    "    '''\n",
    "    drdc = ((dr, dc) for dr in range(-1, 2) for dc in range(-1, 2) if not (dr == 0 and dc == 0))\n",
    "    count = 0\n",
    "    for dr, dc in drdc:\n",
    "        r = row + dr\n",
    "        c = col + dc\n",
    "        # 超出范围的座位忽略\n",
    "        if r < 0 or c < 0 or r >= len(cells) or c >= len(cells[row]):\n",
    "            continue\n",
    "        if cells[r][c] == CellState.occupied:\n",
    "            count += 1\n",
    "    return count\n",
    "\n",
    "def next_round(cells: List[List[CellState]]) -> List[List[CellState]]:\n",
    "    '''\n",
    "    计算下一轮的整个地图情况，这里没有采用双缓冲，而是直接返回了一个新的List\n",
    "    '''\n",
    "    result = []\n",
    "    for row, line in enumerate(cells):\n",
    "        new_line = []\n",
    "        for col, cell in enumerate(line):\n",
    "            neighbor_occupied = occupy_seats_count(cells, row, col)\n",
    "            # 如果当前未被占用且周围占用情况为0，则占该座位\n",
    "            if cell == CellState.empty and neighbor_occupied == 0:\n",
    "                new_line.append(CellState.occupied)\n",
    "            # 如果被占用且周围占用数量大于等于4，则取消占用\n",
    "            elif cell == CellState.occupied and neighbor_occupied >= 4:\n",
    "                new_line.append(CellState.empty)\n",
    "            else:\n",
    "                new_line.append(cell)\n",
    "        result.append(new_line)\n",
    "    return result"
   ]
  },
  {
   "cell_type": "markdown",
   "metadata": {},
   "source": [
    "读取输入，返回一个CellState的二维列表："
   ]
  },
  {
   "cell_type": "code",
   "execution_count": 3,
   "metadata": {},
   "outputs": [],
   "source": [
    "def read_input(input_file: str) -> List[List[CellState]]:\n",
    "    cells = []\n",
    "    with open(input_file) as fn:\n",
    "        line = fn.readline()\n",
    "        while line:\n",
    "            row = []\n",
    "            for c in line.rstrip():\n",
    "                if c == 'L':\n",
    "                    row.append(CellState.empty)\n",
    "                if c == '#':\n",
    "                    row.append(CellState.occupied)\n",
    "                if c == '.':\n",
    "                    row.append(CellState.floor)\n",
    "            cells.append(row)\n",
    "            line = fn.readline()\n",
    "    return cells"
   ]
  },
  {
   "cell_type": "markdown",
   "metadata": {},
   "source": [
    "定义一个函数用来计算整个地图被占用座位的总数："
   ]
  },
  {
   "cell_type": "code",
   "execution_count": 4,
   "metadata": {},
   "outputs": [],
   "source": [
    "def count_all_occupied(cells: List[List[CellState]]) -> int:\n",
    "    return sum(len([s for s in row if s == CellState.occupied]) for row in cells)"
   ]
  },
  {
   "cell_type": "markdown",
   "metadata": {},
   "source": [
    "第一部分问题的实现逻辑，一直运行直到前后两次的地图完全相同，这里可以采取更加有效的方式，通过一个标记记录地图是否发生了修改来判断结束条件，因为这需要定义自己的数据结构，而且Python本来性能就不会很好，因此未采纳，可在Rust版本中看到相应实现："
   ]
  },
  {
   "cell_type": "code",
   "execution_count": 5,
   "metadata": {},
   "outputs": [],
   "source": [
    "def part1_solution(cells: List[List[CellState]]) -> int:\n",
    "    new_cells = next_round(cells)\n",
    "    while True:\n",
    "        if new_cells == cells:\n",
    "            return count_all_occupied(cells)\n",
    "        cells = new_cells\n",
    "        new_cells = next_round(cells)"
   ]
  },
  {
   "cell_type": "markdown",
   "metadata": {},
   "source": [
    "单元测试："
   ]
  },
  {
   "cell_type": "code",
   "execution_count": 6,
   "metadata": {},
   "outputs": [],
   "source": [
    "testcase = read_input('testcase1.txt')\n",
    "assert(part1_solution(testcase) == 37)"
   ]
  },
  {
   "cell_type": "markdown",
   "metadata": {},
   "source": [
    "获得第一部分结果："
   ]
  },
  {
   "cell_type": "code",
   "execution_count": 7,
   "metadata": {},
   "outputs": [
    {
     "data": {
      "text/plain": [
       "2310"
      ]
     },
     "execution_count": 7,
     "metadata": {},
     "output_type": "execute_result"
    }
   ],
   "source": [
    "cells = read_input('input.txt')\n",
    "part1_solution(cells)"
   ]
  },
  {
   "cell_type": "markdown",
   "metadata": {},
   "source": [
    "## Part II\n",
    "\n",
    "第二部分需要重新定义计算周围座位被占用个数的方法。首先一共有八个不同的方向，每个方向都从距离当前座位最近的开始，直到遇到一个被占用或者空闲为止，下面的one_drection函数即完成这个工作。然后direction_occupied_count用来计算全部八个方向的总占用数量："
   ]
  },
  {
   "cell_type": "code",
   "execution_count": 8,
   "metadata": {},
   "outputs": [],
   "source": [
    "def one_direction(cells: List[List[CellState]], row: int, col: int, init_dr: int, init_dc: int) -> int:\n",
    "    dr, dc = init_dr, init_dc\n",
    "    while 0 <= row + dr < len(cells) and 0 <= col + dc < len(cells[row]):\n",
    "        r, c = row + dr, col + dc\n",
    "        if cells[r][c] == CellState.occupied:\n",
    "            return 1\n",
    "        if cells[r][c] == CellState.empty:\n",
    "            return 0\n",
    "        dr, dc = dr + init_dr, dc + init_dc\n",
    "    return 0\n",
    "\n",
    "def direction_occupied_count(cells: List[List[CellState]], row: int, col: int) -> int:\n",
    "    count = 0\n",
    "    drdc = ((dr, dc) for dr in range(-1, 2) for dc in range(-1, 2) if not (dr == 0 and dc == 0))\n",
    "    for dr, dc in drdc:\n",
    "        count += one_direction(cells, row, col, dr, dc)\n",
    "    return count"
   ]
  },
  {
   "cell_type": "markdown",
   "metadata": {},
   "source": [
    "重新定义下一轮next_round函数，增加counter参数作为用来计算周围座位占用的函数，增加thresh参数，作为判断周围占用座位数量的极限值："
   ]
  },
  {
   "cell_type": "code",
   "execution_count": 9,
   "metadata": {},
   "outputs": [],
   "source": [
    "def next_round(cells: List[List[CellState]], counter: callable, thresh: int) -> List[CellState]:\n",
    "    result = []\n",
    "    for row, line in enumerate(cells):\n",
    "        new_line = []\n",
    "        for col, cell in enumerate(line):\n",
    "            neighbor_occupied = counter(cells, row, col)\n",
    "            if cell == CellState.empty and neighbor_occupied == 0:\n",
    "                new_line.append(CellState.occupied)\n",
    "            elif cell == CellState.occupied and neighbor_occupied >= thresh:\n",
    "                new_line.append(CellState.empty)\n",
    "            else:\n",
    "                new_line.append(cell)\n",
    "        result.append(new_line)\n",
    "    return result"
   ]
  },
  {
   "cell_type": "markdown",
   "metadata": {},
   "source": [
    "然后是第二部分实现逻辑，使用direction_occupied_count函数和阈值5代入next_round，获得结果："
   ]
  },
  {
   "cell_type": "code",
   "execution_count": 11,
   "metadata": {},
   "outputs": [],
   "source": [
    "def part2_solution(cells: List[List[CellState]]) -> int:\n",
    "    new_cells = next_round(cells, direction_occupied_count, 5)\n",
    "    while True:\n",
    "        if new_cells == cells:\n",
    "            return count_all_occupied(cells)\n",
    "        cells = new_cells\n",
    "        new_cells = next_round(cells, direction_occupied_count, 5)"
   ]
  },
  {
   "cell_type": "markdown",
   "metadata": {},
   "source": [
    "单元测试："
   ]
  },
  {
   "cell_type": "code",
   "execution_count": 12,
   "metadata": {},
   "outputs": [
    {
     "data": {
      "text/plain": [
       "26"
      ]
     },
     "execution_count": 12,
     "metadata": {},
     "output_type": "execute_result"
    }
   ],
   "source": [
    "part2_solution(testcase)"
   ]
  },
  {
   "cell_type": "markdown",
   "metadata": {},
   "source": [
    "第二部分结果："
   ]
  },
  {
   "cell_type": "code",
   "execution_count": 13,
   "metadata": {},
   "outputs": [
    {
     "data": {
      "text/plain": [
       "2074"
      ]
     },
     "execution_count": 13,
     "metadata": {},
     "output_type": "execute_result"
    }
   ],
   "source": [
    "part2_solution(cells)"
   ]
  },
  {
   "cell_type": "markdown",
   "metadata": {},
   "source": [
    "可以重新定义第一部分实现逻辑，将occupy_seats_count函数和阈值4代入next_round，实现两个部分逻辑统一："
   ]
  },
  {
   "cell_type": "code",
   "execution_count": 14,
   "metadata": {},
   "outputs": [],
   "source": [
    "def part1_solution(cells: List[List[CellState]]) -> int:\n",
    "    new_cells = next_round(cells, occupy_seats_count, 4)\n",
    "    while True:\n",
    "        if new_cells == cells:\n",
    "            return count_all_occupied(cells)\n",
    "        cells = new_cells\n",
    "        new_cells = next_round(cells, occupy_seats_count, 4)"
   ]
  },
  {
   "cell_type": "markdown",
   "metadata": {},
   "source": [
    "重新计算第一部分结果："
   ]
  },
  {
   "cell_type": "code",
   "execution_count": 15,
   "metadata": {},
   "outputs": [
    {
     "data": {
      "text/plain": [
       "2310"
      ]
     },
     "execution_count": 15,
     "metadata": {},
     "output_type": "execute_result"
    }
   ],
   "source": [
    "part1_solution(cells)"
   ]
  },
  {
   "cell_type": "code",
   "execution_count": null,
   "metadata": {},
   "outputs": [],
   "source": []
  }
 ],
 "metadata": {
  "kernelspec": {
   "display_name": "Python 3.7.6 64-bit ('base': conda)",
   "language": "python",
   "name": "python37664bitbaseconda70fb04b0bd9543d0a4d5588de79b26c5"
  },
  "language_info": {
   "codemirror_mode": {
    "name": "ipython",
    "version": 3
   },
   "file_extension": ".py",
   "mimetype": "text/x-python",
   "name": "python",
   "nbconvert_exporter": "python",
   "pygments_lexer": "ipython3",
   "version": "3.7.6"
  }
 },
 "nbformat": 4,
 "nbformat_minor": 4
}
