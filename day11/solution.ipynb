{
 "cells": [
  {
   "cell_type": "markdown",
   "metadata": {},
   "source": [
    "# Day 11\n",
    "\n",
    "## Part I\n",
    "\n",
    "变体的康威生命游戏。按照标准写法来做，此处没有使用Numpy这样的库，因此没有应用矢量化函数进行运算，最终运行性能比较差。因此这里的代码主要为了清晰易懂而不是性能。\n",
    "\n",
    "下面首先定义一个枚举类型，代表每个格子的可能状态，有三种空座位empty、被占座位occupied和地板floor："
   ]
  },
  {
   "cell_type": "code",
   "execution_count": 1,
   "metadata": {},
   "outputs": [],
   "source": [
    "from enum import Enum\n",
    "\n",
    "CellState = Enum('CellState', ('empty', 'occupied', 'floor'))"
   ]
  },
  {
   "cell_type": "markdown",
   "metadata": {},
   "source": [
    "然后是为了完成生命游戏的核心逻辑代码，此处如果应用Numpy数组和相应的矢量化函数运算的话，应该能提升不少性能，但是就失去了使用enum的代码清晰易懂特性："
   ]
  },
  {
   "cell_type": "code",
   "execution_count": 12,
   "metadata": {},
   "outputs": [],
   "source": [
    "from typing import List\n",
    "\n",
    "def occupy_seats_count(cells: List[List[CellState]], row: int, col: int) -> int:\n",
    "    '''\n",
    "    计算一个单元格周围被占用\n",
    "    '''\n",
    "    drdc = ((dr, dc) for dr in range(-1, 2) for dc in range(-1, 2) if not (dr == 0 and dc == 0))\n",
    "    count = 0\n",
    "    for dr, dc in drdc:\n",
    "        r = row + dr\n",
    "        c = col + dc\n",
    "        if r < 0 or c < 0 or r >= len(cells) or c >= len(cells[row]):\n",
    "            continue\n",
    "        if cells[r][c] == CellState.occupied:\n",
    "            count += 1\n",
    "    return count\n",
    "\n",
    "def next_round(cells: List[List[CellState]]) -> List[CellState]:\n",
    "    result = []\n",
    "    for row, line in enumerate(cells):\n",
    "        new_line = []\n",
    "        for col, cell in enumerate(line):\n",
    "            neighbor_occupied = occupy_seats_count(cells, row, col)\n",
    "            if cell == CellState.empty and neighbor_occupied == 0:\n",
    "                new_line.append(CellState.occupied)\n",
    "            elif cell == CellState.occupied and neighbor_occupied >= 4:\n",
    "                new_line.append(CellState.empty)\n",
    "            else:\n",
    "                new_line.append(cell)\n",
    "        result.append(new_line)\n",
    "    return result"
   ]
  },
  {
   "cell_type": "code",
   "execution_count": 13,
   "metadata": {},
   "outputs": [],
   "source": [
    "def read_input(input_file: str) -> List[List[CellState]]:\n",
    "    cells = []\n",
    "    with open(input_file) as fn:\n",
    "        line = fn.readline()\n",
    "        while line:\n",
    "            row = []\n",
    "            for c in line.rstrip():\n",
    "                if c == 'L':\n",
    "                    row.append(CellState.empty)\n",
    "                if c == '#':\n",
    "                    row.append(CellState.occupied)\n",
    "                if c == '.':\n",
    "                    row.append(CellState.floor)\n",
    "            cells.append(row)\n",
    "            line = fn.readline()\n",
    "    return cells"
   ]
  },
  {
   "cell_type": "code",
   "execution_count": 20,
   "metadata": {},
   "outputs": [],
   "source": [
    "def count_all_occupied(cells: List[List[CellState]]) -> int:\n",
    "    return sum(len([s for s in row if s == CellState.occupied]) for row in cells)"
   ]
  },
  {
   "cell_type": "code",
   "execution_count": 21,
   "metadata": {},
   "outputs": [],
   "source": [
    "def part1_solution(cells: List[List[CellState]]) -> int:\n",
    "    new_cells = next_round(cells)\n",
    "    while True:\n",
    "        if new_cells == cells:\n",
    "            return count_all_occupied(cells)\n",
    "        cells = new_cells\n",
    "        new_cells = next_round(cells)"
   ]
  },
  {
   "cell_type": "code",
   "execution_count": 22,
   "metadata": {},
   "outputs": [
    {
     "data": {
      "text/plain": [
       "37"
      ]
     },
     "execution_count": 22,
     "metadata": {},
     "output_type": "execute_result"
    }
   ],
   "source": [
    "testcase = read_input('testcase1.txt')\n",
    "part1_solution(testcase)"
   ]
  },
  {
   "cell_type": "code",
   "execution_count": 23,
   "metadata": {},
   "outputs": [
    {
     "data": {
      "text/plain": [
       "2310"
      ]
     },
     "execution_count": 23,
     "metadata": {},
     "output_type": "execute_result"
    }
   ],
   "source": [
    "cells = read_input('input.txt')\n",
    "part1_solution(cells)"
   ]
  },
  {
   "cell_type": "code",
   "execution_count": 24,
   "metadata": {},
   "outputs": [],
   "source": [
    "from typing import Generator\n",
    "\n",
    "def drow_dcol_generator() -> Generator:\n",
    "    i = 1\n",
    "    while True:\n",
    "        yield [(dr, dc) for dr in [-i, 0, i] for dc in [-i, 0, i] if not (dr == 0 and dc == 0)]\n",
    "        i += 1"
   ]
  },
  {
   "cell_type": "code",
   "execution_count": 42,
   "metadata": {},
   "outputs": [],
   "source": [
    "def one_direction(cells: List[List[CellState]], row: int, col: int, init_dr: int, init_dc: int) -> int:\n",
    "    dr, dc = init_dr, init_dc\n",
    "    while 0 <= row + dr < len(cells) and 0 <= col + dc < len(cells[row]):\n",
    "        r, c = row + dr, col + dc\n",
    "        if cells[r][c] == CellState.occupied:\n",
    "            return 1\n",
    "        if cells[r][c] == CellState.empty:\n",
    "            return 0\n",
    "        dr, dc = dr + init_dr, dc + init_dc\n",
    "    return 0\n",
    "\n",
    "def direction_occupied_count(cells: List[List[CellState]], row: int, col: int) -> int:\n",
    "    count = 0\n",
    "    drdc = ((dr, dc) for dr in range(-1, 2) for dc in range(-1, 2) if not (dr == 0 and dc == 0))\n",
    "    for dr, dc in drdc:\n",
    "        count += one_direction(cells, row, col, dr, dc)\n",
    "    return count"
   ]
  },
  {
   "cell_type": "code",
   "execution_count": 43,
   "metadata": {},
   "outputs": [],
   "source": [
    "def next_round(cells: List[List[CellState]], counter: callable, thresh: int) -> List[CellState]:\n",
    "    result = []\n",
    "    for row, line in enumerate(cells):\n",
    "        new_line = []\n",
    "        for col, cell in enumerate(line):\n",
    "            neighbor_occupied = counter(cells, row, col)\n",
    "            if cell == CellState.empty and neighbor_occupied == 0:\n",
    "                new_line.append(CellState.occupied)\n",
    "            elif cell == CellState.occupied and neighbor_occupied >= thresh:\n",
    "                new_line.append(CellState.empty)\n",
    "            else:\n",
    "                new_line.append(cell)\n",
    "        result.append(new_line)\n",
    "    return result"
   ]
  },
  {
   "cell_type": "code",
   "execution_count": 44,
   "metadata": {},
   "outputs": [],
   "source": [
    "def part2_solution(cells: List[List[CellState]]) -> int:\n",
    "    new_cells = next_round(cells, direction_occupied_count, 5)\n",
    "    while True:\n",
    "        if new_cells == cells:\n",
    "            return count_all_occupied(cells)\n",
    "        cells = new_cells\n",
    "        new_cells = next_round(cells, direction_occupied_count, 5)"
   ]
  },
  {
   "cell_type": "code",
   "execution_count": 45,
   "metadata": {},
   "outputs": [
    {
     "data": {
      "text/plain": [
       "26"
      ]
     },
     "execution_count": 45,
     "metadata": {},
     "output_type": "execute_result"
    }
   ],
   "source": [
    "part2_solution(testcase)"
   ]
  },
  {
   "cell_type": "code",
   "execution_count": 46,
   "metadata": {},
   "outputs": [
    {
     "data": {
      "text/plain": [
       "2074"
      ]
     },
     "execution_count": 46,
     "metadata": {},
     "output_type": "execute_result"
    }
   ],
   "source": [
    "part2_solution(cells)"
   ]
  },
  {
   "cell_type": "code",
   "execution_count": 47,
   "metadata": {},
   "outputs": [],
   "source": [
    "def part1_solution(cells: List[List[CellState]]) -> int:\n",
    "    new_cells = next_round(cells, occupy_seats_count, 4)\n",
    "    while True:\n",
    "        if new_cells == cells:\n",
    "            return count_all_occupied(cells)\n",
    "        cells = new_cells\n",
    "        new_cells = next_round(cells, occupy_seats_count, 4)"
   ]
  },
  {
   "cell_type": "code",
   "execution_count": 48,
   "metadata": {},
   "outputs": [
    {
     "data": {
      "text/plain": [
       "2310"
      ]
     },
     "execution_count": 48,
     "metadata": {},
     "output_type": "execute_result"
    }
   ],
   "source": [
    "part1_solution(cells)"
   ]
  },
  {
   "cell_type": "code",
   "execution_count": null,
   "metadata": {},
   "outputs": [],
   "source": []
  }
 ],
 "metadata": {
  "kernelspec": {
   "display_name": "Python 3.7.6 64-bit ('base': conda)",
   "language": "python",
   "name": "python37664bitbaseconda70fb04b0bd9543d0a4d5588de79b26c5"
  },
  "language_info": {
   "codemirror_mode": {
    "name": "ipython",
    "version": 3
   },
   "file_extension": ".py",
   "mimetype": "text/x-python",
   "name": "python",
   "nbconvert_exporter": "python",
   "pygments_lexer": "ipython3",
   "version": "3.7.6"
  }
 },
 "nbformat": 4,
 "nbformat_minor": 4
}
