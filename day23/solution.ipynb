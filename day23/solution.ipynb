{
 "cells": [
  {
   "cell_type": "code",
   "execution_count": 154,
   "metadata": {},
   "outputs": [],
   "source": [
    "class Cup(object):\n",
    "    def __init__(self, cup_id: int):\n",
    "        self.cup_id = cup_id\n",
    "        self.next = None\n",
    "    def __repr__(self) -> str:\n",
    "        return str(self.cup_id)\n",
    "\n",
    "class CupsCircle(object):\n",
    "    def __init__(self, data: str):\n",
    "        prev_cup = None\n",
    "        for i, cup_id in enumerate(data):\n",
    "            cup = Cup(int(cup_id))\n",
    "            if i == 0:\n",
    "                self.current = cup\n",
    "            if prev_cup:\n",
    "                prev_cup.next = cup\n",
    "            prev_cup = cup\n",
    "        prev_cup.next = self.current\n",
    "    \n",
    "    def take_tripple(self) -> Cup:\n",
    "        tripple_begin = self.current.next\n",
    "        tripple_end = self.current.next.next.next\n",
    "        self.current.next = tripple_end.next\n",
    "        tripple_end.next = None\n",
    "        return tripple_begin\n",
    "    \n",
    "    def find_destination(self) -> Cup:\n",
    "        current_id = self.current.cup_id\n",
    "        min_gap = 1 << 31\n",
    "        max_id = -1\n",
    "        max_id_cup = None\n",
    "        destination_cup = None\n",
    "        cup_ptr = self.current.next\n",
    "        while cup_ptr != self.current:\n",
    "            gap = current_id - cup_ptr.cup_id\n",
    "            if gap == 1:\n",
    "                return cup_ptr\n",
    "            if gap > 0 and gap < min_gap:\n",
    "                min_gap = gap\n",
    "                destination_cup = cup_ptr\n",
    "            if gap < 0 and cup_ptr.cup_id > max_id:\n",
    "                max_id = cup_ptr.cup_id\n",
    "                max_id_cup = cup_ptr\n",
    "            cup_ptr = cup_ptr.next\n",
    "        return destination_cup if destination_cup else max_id_cup\n",
    "    \n",
    "    def put_tripple_back(self, dest: Cup, tripple: Cup):\n",
    "        tripple_end = tripple.next.next\n",
    "        tripple_end.next = dest.next\n",
    "        dest.next = tripple\n",
    "    \n",
    "    def one_move(self):\n",
    "        tripple = self.take_tripple()\n",
    "        destination = self.find_destination()\n",
    "        self.put_tripple_back(destination, tripple)\n",
    "        self.current = self.current.next\n",
    "    \n",
    "    def __repr__(self) -> str:\n",
    "        cup_ptr = self.current\n",
    "        result = ''\n",
    "        while True:\n",
    "            result += f'{cup_ptr} => '\n",
    "            cup_ptr = cup_ptr.next\n",
    "            if cup_ptr == self.current:\n",
    "                return result\n",
    "    \n",
    "    def no_one_serie(self) -> str:\n",
    "        cup_ptr = self.current\n",
    "        while cup_ptr.cup_id != 1:\n",
    "            cup_ptr = cup_ptr.next\n",
    "            cup_ptr = cup_ptr.next\n",
    "        cup_ptr = cup_ptr.next\n",
    "        result = ''\n",
    "        while cup_ptr.cup_id != 1:\n",
    "            result += str(cup_ptr)\n",
    "            cup_ptr = cup_ptr.next\n",
    "        return result"
   ]
  },
  {
   "cell_type": "code",
   "execution_count": 155,
   "metadata": {},
   "outputs": [],
   "source": [
    "def part1_solution(data: str, moves: int) -> str:\n",
    "    circle = CupsCircle(data)\n",
    "    for _ in range(moves):\n",
    "        circle.one_move()\n",
    "    return circle.no_one_serie()"
   ]
  },
  {
   "cell_type": "code",
   "execution_count": 156,
   "metadata": {},
   "outputs": [
    {
     "data": {
      "text/plain": [
       "'92658374'"
      ]
     },
     "execution_count": 156,
     "metadata": {},
     "output_type": "execute_result"
    }
   ],
   "source": [
    "part1_solution('389125467', 10)"
   ]
  },
  {
   "cell_type": "code",
   "execution_count": 157,
   "metadata": {},
   "outputs": [
    {
     "data": {
      "text/plain": [
       "'47382659'"
      ]
     },
     "execution_count": 157,
     "metadata": {},
     "output_type": "execute_result"
    }
   ],
   "source": [
    "part1_solution('364297581', 100)"
   ]
  },
  {
   "cell_type": "code",
   "execution_count": 158,
   "metadata": {},
   "outputs": [
    {
     "name": "stdout",
     "output_type": "stream",
     "text": [
      "37.8 ms ± 405 µs per loop (mean ± std. dev. of 7 runs, 10 loops each)\n"
     ]
    }
   ],
   "source": [
    "%timeit part1_solution('364297581', 10000)"
   ]
  },
  {
   "cell_type": "code",
   "execution_count": 283,
   "metadata": {},
   "outputs": [],
   "source": [
    "class Cup(object):\n",
    "    def __init__(self, cup_id: int):\n",
    "        self.cup_id = cup_id\n",
    "        self.next = None\n",
    "        self.prev = None\n",
    "        self.less_one = None\n",
    "        self.is_chained = True\n",
    "    def __repr__(self) -> str:\n",
    "        return str(self.cup_id)\n",
    "\n",
    "class CupsCircle(object):\n",
    "    def __init__(self, data: str, end: int=1_000_001):\n",
    "        prev_cup = None\n",
    "        cups_dict = {}\n",
    "        for i, cup_id in enumerate(data):\n",
    "            cup = Cup(int(cup_id))\n",
    "            if i == 0:\n",
    "                self.current = cup\n",
    "            if prev_cup:\n",
    "                prev_cup.next = cup\n",
    "                cup.prev = prev_cup\n",
    "            if cup_id == '1':\n",
    "                self.first_cup = cup\n",
    "            cups_dict[int(cup_id)] = cup\n",
    "            prev_cup = cup\n",
    "#         print(cups_dict)\n",
    "        for cup_id, cup in cups_dict.items():\n",
    "            if cup_id > 1:\n",
    "                cup.less_one = cups_dict[cup_id - 1]\n",
    "        less_one_cup = cups_dict[len(data)]\n",
    "        for cup_id in range(len(data) + 1, end):\n",
    "            cup = Cup(cup_id)\n",
    "            prev_cup.next = cup\n",
    "            cup.prev = prev_cup\n",
    "            cup.less_one = less_one_cup\n",
    "            prev_cup = cup\n",
    "            less_one_cup = cup\n",
    "        prev_cup.next = self.current\n",
    "        self.current.prev = prev_cup\n",
    "        self.first_cup.less_one = less_one_cup\n",
    "#         self.print_less_order()\n",
    "    \n",
    "    def take_tripple(self) -> Cup:\n",
    "        tripple_begin = self.current.next\n",
    "        cup_ptr = tripple_begin\n",
    "        for _ in range(2):\n",
    "            cup_ptr.is_chained = False\n",
    "            cup_ptr = cup_ptr.next\n",
    "        cup_ptr.is_chained = False\n",
    "        self.current.next = cup_ptr.next\n",
    "        cup_ptr.next.prev = self.current\n",
    "        tripple_begin.prev = None\n",
    "        cup_ptr.next = None\n",
    "        return tripple_begin\n",
    "    \n",
    "    def find_destination(self) -> Cup:\n",
    "        cup_ptr = self.current.less_one\n",
    "        while not cup_ptr.is_chained:\n",
    "            cup_ptr = cup_ptr.less_one\n",
    "#         self.print_less_order()\n",
    "        return cup_ptr\n",
    "    \n",
    "    def put_tripple_back(self, dest: Cup, tripple: Cup):\n",
    "        cup_ptr = tripple\n",
    "        for _ in range(2):\n",
    "            cup_ptr.is_chained = True\n",
    "            cup_ptr = cup_ptr.next\n",
    "        cup_ptr.is_chained = True\n",
    "        cup_ptr.next = dest.next\n",
    "        dest.next.prev = cup_ptr\n",
    "        dest.next = tripple\n",
    "        tripple.prev = dest\n",
    "    \n",
    "    def one_move(self):\n",
    "        tripple = self.take_tripple()\n",
    "        destination = self.find_destination()\n",
    "        self.put_tripple_back(destination, tripple)\n",
    "        self.current = self.current.next\n",
    "    \n",
    "    def __repr__(self) -> str:\n",
    "        cup_ptr = self.current\n",
    "        result = ''\n",
    "        while True:\n",
    "            result += f'{cup_ptr} => '\n",
    "            cup_ptr = cup_ptr.next\n",
    "            if cup_ptr == self.current:\n",
    "                return result\n",
    "    \n",
    "    def less_one_print(self):        \n",
    "        cup_ptr = self.first_cup.less_one\n",
    "        while True:\n",
    "            if cup_ptr.is_chained:\n",
    "                print(cup_ptr, end=' => ')\n",
    "            if cup_ptr == self.first_cup:\n",
    "                break\n",
    "            cup_ptr = cup_ptr.less_one\n",
    "        print()\n",
    "    \n",
    "    def rev_print(self) -> str:\n",
    "        cup_ptr = self.current\n",
    "        while True:\n",
    "            print(cup_ptr, end=' <= ')\n",
    "            cup_ptr = cup_ptr.prev\n",
    "            if cup_ptr == self.current:\n",
    "                break\n",
    "        print()"
   ]
  },
  {
   "cell_type": "code",
   "execution_count": 291,
   "metadata": {},
   "outputs": [],
   "source": [
    "def part2_solution(circle: CupsCircle, moves: int=10_000_000) -> int:\n",
    "    for _ in range(moves):\n",
    "        circle.one_move()\n",
    "    print(circle.first_cup.prev, circle.first_cup.prev.prev)\n",
    "    print(circle.first_cup.next, circle.first_cup.next.next)\n",
    "    return circle.first_cup.next.cup_id * circle.first_cup.next.next.cup_id"
   ]
  },
  {
   "cell_type": "code",
   "execution_count": 292,
   "metadata": {},
   "outputs": [
    {
     "name": "stdout",
     "output_type": "stream",
     "text": [
      "100 => 99 => 98 => 97 => 96 => 95 => 94 => 93 => 92 => 91 => 90 => 89 => 88 => 87 => 86 => 85 => 84 => 83 => 82 => 81 => 80 => 79 => 78 => 77 => 76 => 75 => 74 => 73 => 72 => 71 => 70 => 69 => 68 => 67 => 66 => 65 => 64 => 63 => 62 => 61 => 60 => 59 => 58 => 57 => 56 => 55 => 54 => 53 => 52 => 51 => 50 => 49 => 48 => 47 => 46 => 45 => 44 => 43 => 42 => 41 => 40 => 39 => 38 => 37 => 36 => 35 => 34 => 33 => 32 => 31 => 30 => 29 => 28 => 27 => 26 => 25 => 24 => 23 => 22 => 21 => 20 => 19 => 18 => 17 => 16 => 15 => 14 => 13 => 12 => 11 => 10 => 9 => 8 => 7 => 6 => 5 => 4 => 3 => 2 => 1 => \n"
     ]
    },
    {
     "data": {
      "text/plain": [
       "56 => 60 => 61 => 64 => 67 => 71 => 72 => 75 => 50 => 63 => 54 => 59 => 53 => 58 => 62 => 69 => 76 => 66 => 70 => 73 => 74 => 83 => 87 => 88 => 92 => 93 => 96 => 99 => 13 => 16 => 17 => 31 => 22 => 27 => 82 => 95 => 86 => 91 => 85 => 90 => 94 => 8 => 3 => 5 => 98 => 9 => 12 => 7 => 4 => 14 => 6 => 11 => 1 => 10 => 19 => 23 => 28 => 29 => 32 => 20 => 26 => 30 => 37 => 41 => 42 => 34 => 25 => 33 => 36 => 45 => 48 => 49 => 47 => 46 => 52 => 57 => 65 => 68 => 77 => 80 => 81 => 79 => 78 => 84 => 89 => 97 => 100 => 15 => 2 => 24 => 35 => 18 => 21 => 44 => 43 => 38 => 40 => 51 => 55 => 39 => "
      ]
     },
     "execution_count": 292,
     "metadata": {},
     "output_type": "execute_result"
    }
   ],
   "source": [
    "circle = CupsCircle('389125467', 101)\n",
    "for _ in range(100):\n",
    "    circle.one_move()\n",
    "# circle.rev_print()\n",
    "circle.less_one_print()\n",
    "circle"
   ]
  },
  {
   "cell_type": "code",
   "execution_count": 293,
   "metadata": {},
   "outputs": [
    {
     "name": "stdout",
     "output_type": "stream",
     "text": [
      "6 <= 2 <= 8 <= 3 <= 7 <= 4 <= 1 <= 9 <= 5 <= \n"
     ]
    },
    {
     "data": {
      "text/plain": [
       "6 => 5 => 9 => 1 => 4 => 7 => 3 => 8 => 2 => "
      ]
     },
     "execution_count": 293,
     "metadata": {},
     "output_type": "execute_result"
    }
   ],
   "source": [
    "circle = CupsCircle('364297581', 0)\n",
    "for _ in range(100):\n",
    "    circle.one_move()\n",
    "circle.rev_print()\n",
    "circle"
   ]
  },
  {
   "cell_type": "code",
   "execution_count": 294,
   "metadata": {},
   "outputs": [
    {
     "name": "stdout",
     "output_type": "stream",
     "text": [
      "161909 907743\n",
      "934001 159792\n"
     ]
    },
    {
     "data": {
      "text/plain": [
       "149245887792"
      ]
     },
     "execution_count": 294,
     "metadata": {},
     "output_type": "execute_result"
    }
   ],
   "source": [
    "circle = CupsCircle('389125467')\n",
    "part2_solution(circle)"
   ]
  },
  {
   "cell_type": "code",
   "execution_count": 295,
   "metadata": {},
   "outputs": [
    {
     "name": "stdout",
     "output_type": "stream",
     "text": [
      "541770 58848\n",
      "257760 163997\n"
     ]
    },
    {
     "data": {
      "text/plain": [
       "42271866720"
      ]
     },
     "execution_count": 295,
     "metadata": {},
     "output_type": "execute_result"
    }
   ],
   "source": [
    "circle = CupsCircle('364297581')\n",
    "part2_solution(circle)"
   ]
  },
  {
   "cell_type": "code",
   "execution_count": null,
   "metadata": {},
   "outputs": [],
   "source": []
  }
 ],
 "metadata": {
  "kernelspec": {
   "display_name": "Python 3",
   "language": "python",
   "name": "python3"
  },
  "language_info": {
   "codemirror_mode": {
    "name": "ipython",
    "version": 3
   },
   "file_extension": ".py",
   "mimetype": "text/x-python",
   "name": "python",
   "nbconvert_exporter": "python",
   "pygments_lexer": "ipython3",
   "version": "3.7.6"
  }
 },
 "nbformat": 4,
 "nbformat_minor": 4
}
