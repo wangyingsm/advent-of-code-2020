{
 "cells": [
  {
   "cell_type": "markdown",
   "metadata": {},
   "source": [
    "# Day 23\n",
    "\n",
    "倒数第三天的问题很有点意思，需要技巧实现，不然时间复杂度将会无法接受。两个部分考察的都是循环链表的实现，这也是为数不多真正需要用到链表才能体现性能优越性的场景了。\n",
    "\n",
    "## Part I\n",
    "\n",
    "第一部分按照题目意思，将所有的杯子形成一个循环链表即可，由于杯子数n很小，因此再寻找将移出链表的三个杯子重新入链的位置的时候，并不需要技巧，依次找一遍所有的杯子，直到找到合乎条件的杯子即可。\n",
    "\n",
    "首先定义杯子Cup类和循环链表CupsCircle类："
   ]
  },
  {
   "cell_type": "code",
   "execution_count": 1,
   "metadata": {},
   "outputs": [],
   "source": [
    "class Cup(object):\n",
    "    def __init__(self, cup_id: int):\n",
    "        self.cup_id = cup_id\n",
    "        # 链表下一个\n",
    "        self.next = None\n",
    "        \n",
    "    def __repr__(self) -> str:\n",
    "        return str(self.cup_id)\n",
    "\n",
    "class CupsCircle(object):\n",
    "    def __init__(self, data: str):\n",
    "        '''构建杯子组成的循环链表'''\n",
    "        prev_cup = None\n",
    "        for i, cup_id in enumerate(data):\n",
    "            cup = Cup(int(cup_id))\n",
    "            if i == 0:\n",
    "                # 初始化当前杯子指针 current\n",
    "                self.current = cup\n",
    "            if prev_cup:\n",
    "                # 将上一个杯子的next指向当前杯子\n",
    "                prev_cup.next = cup\n",
    "            # 迭代下一个杯子\n",
    "            prev_cup = cup\n",
    "        # 最后一个杯子的next指向第一个杯子current，完成循环链构建\n",
    "        prev_cup.next = self.current\n",
    "    \n",
    "    def take_tripple(self) -> Cup:\n",
    "        '''取出当前杯子后的三个杯子：脱链'''\n",
    "        tripple_begin = self.current.next\n",
    "        tripple_end = self.current.next.next.next\n",
    "        self.current.next = tripple_end.next\n",
    "        tripple_end.next = None\n",
    "        return tripple_begin\n",
    "    \n",
    "    def find_destination(self) -> Cup:\n",
    "        '''找到插入脱链杯子的位置'''\n",
    "        current_id = self.current.cup_id\n",
    "        # 与当前杯子ID的最小间隔\n",
    "        min_gap = 1 << 31\n",
    "        # 最大的杯子ID以及对应的杯子\n",
    "        max_id = -1\n",
    "        max_id_cup = None\n",
    "        # 目标位置杯子，初始化为None\n",
    "        destination_cup = None\n",
    "        # 下面迭代所有杯子，找到符合条件的位置，记录到destination_cup中\n",
    "        cup_ptr = self.current.next\n",
    "        while cup_ptr != self.current:\n",
    "            gap = current_id - cup_ptr.cup_id\n",
    "            # 如果ID相差1，直接返回该位置\n",
    "            if gap == 1:\n",
    "                return cup_ptr\n",
    "            # 记录最小间隔位置及相应杯子\n",
    "            if gap > 0 and gap < min_gap:\n",
    "                min_gap = gap\n",
    "                destination_cup = cup_ptr\n",
    "            # 记录最大ID及相应杯子\n",
    "            if gap < 0 and cup_ptr.cup_id > max_id:\n",
    "                max_id = cup_ptr.cup_id\n",
    "                max_id_cup = cup_ptr\n",
    "            cup_ptr = cup_ptr.next\n",
    "        # 返回符合条件的位置\n",
    "        return destination_cup if destination_cup else max_id_cup\n",
    "    \n",
    "    def put_tripple_back(self, dest: Cup, tripple: Cup):\n",
    "        '''将三个杯子放回链表中：入链'''\n",
    "        tripple_end = tripple.next.next\n",
    "        tripple_end.next = dest.next\n",
    "        dest.next = tripple\n",
    "    \n",
    "    def one_move(self):\n",
    "        '''一轮游戏，出链-》找位置-》入链'''\n",
    "        tripple = self.take_tripple()\n",
    "        destination = self.find_destination()\n",
    "        self.put_tripple_back(destination, tripple)\n",
    "        self.current = self.current.next\n",
    "    \n",
    "    def no_one_serie(self) -> str:\n",
    "        '''完成游戏后，在链表中找到所有ID为1之后的杯子ID的序列，返回字符串'''\n",
    "        cup_ptr = self.current\n",
    "        # 找到ID为1的杯子\n",
    "        while cup_ptr.cup_id != 1:\n",
    "            cup_ptr = cup_ptr.next\n",
    "            cup_ptr = cup_ptr.next\n",
    "        cup_ptr = cup_ptr.next\n",
    "        result = ''\n",
    "        # 再次遍历，直到ID为1为止，输出ID字符串序列\n",
    "        while cup_ptr.cup_id != 1:\n",
    "            result += str(cup_ptr)\n",
    "            cup_ptr = cup_ptr.next\n",
    "        return result"
   ]
  },
  {
   "cell_type": "markdown",
   "metadata": {},
   "source": [
    "第一部分的逻辑："
   ]
  },
  {
   "cell_type": "code",
   "execution_count": 2,
   "metadata": {},
   "outputs": [],
   "source": [
    "def part1_solution(data: str, moves: int) -> str:\n",
    "    circle = CupsCircle(data)\n",
    "    for _ in range(moves):\n",
    "        circle.one_move()\n",
    "    return circle.no_one_serie()"
   ]
  },
  {
   "cell_type": "markdown",
   "metadata": {},
   "source": [
    "单元测试："
   ]
  },
  {
   "cell_type": "code",
   "execution_count": 3,
   "metadata": {},
   "outputs": [],
   "source": [
    "assert(part1_solution('389125467', 10) == '92658374')"
   ]
  },
  {
   "cell_type": "code",
   "execution_count": 4,
   "metadata": {},
   "outputs": [],
   "source": [
    "assert(part1_solution('389125467', 100) == '67384529')"
   ]
  },
  {
   "cell_type": "markdown",
   "metadata": {},
   "source": [
    "第一部分结果："
   ]
  },
  {
   "cell_type": "code",
   "execution_count": 5,
   "metadata": {},
   "outputs": [
    {
     "data": {
      "text/plain": [
       "'47382659'"
      ]
     },
     "execution_count": 5,
     "metadata": {},
     "output_type": "execute_result"
    }
   ],
   "source": [
    "part1_solution('364297581', 100)"
   ]
  },
  {
   "cell_type": "markdown",
   "metadata": {},
   "source": [
    "## Part II\n",
    "\n",
    "一百万的杯子！！游戏进行一千万次！！！！\n",
    "\n",
    "很显然，这就是将第一部分的时间复杂度增加了百亿倍。。。我们首先来看看按照第一部分的方法计算9个杯子一万轮游戏的时间："
   ]
  },
  {
   "cell_type": "code",
   "execution_count": 6,
   "metadata": {
    "scrolled": true
   },
   "outputs": [
    {
     "name": "stdout",
     "output_type": "stream",
     "text": [
      "37.8 ms ± 614 µs per loop (mean ± std. dev. of 7 runs, 10 loops each)\n"
     ]
    }
   ],
   "source": [
    "%timeit part1_solution('364297581', 10000)"
   ]
  },
  {
   "cell_type": "markdown",
   "metadata": {},
   "source": [
    "将近40毫秒，而第二部分的复杂度将是这个时间的一亿倍，简单估算一下，大约需要46天，肯定不行，这样是算不出来的。\n",
    "\n",
    "于是必须想出一个新的算法来完成第二部分，首先我们应该知道，这里的时间复杂度主要是由于寻找插入位置那个步骤造成的，那里需要遍历整一个链表来找到合适的位置插入三个杯子，而我们肯定有办法能够避免。下面我们重新定义Cup和CupsCircle类，这里的想法就是，在所有杯子中，再加入一个循环链表，这个循环链表永远是ID倒序方向的，比如三个杯子的情况，那就是3=>2=>1=>3...无论我们将哪三个杯子从原来的链表中脱离，这个链都保持不变，然后我们就可以从当前位置current沿着新的这个链表向后（倒序）查找，只要找到第一个仍在链中的杯子，那就是插入位置，我们通过新增的这个链表，可以将每次查找的时间复杂度由o(1000000)降低到O(3)（注意两个o大小写不一样），这样我们最终的时间复杂度就仅仅是游戏进行一千万次的耗时了。\n",
    "\n",
    "下面就是重定义的类："
   ]
  },
  {
   "cell_type": "code",
   "execution_count": 7,
   "metadata": {},
   "outputs": [],
   "source": [
    "class Cup(object):\n",
    "    def __init__(self, cup_id: int):\n",
    "        self.cup_id = cup_id\n",
    "        self.next = None\n",
    "        # 新的链表下一项，less_one表示倒序，实际上是循环链表，这个名称也许不是特别合适\n",
    "        self.less_one = None\n",
    "        # 加入一个状态属性，表示杯子是否处于圈（原链表）中\n",
    "        self.is_chained = True\n",
    "        \n",
    "    def __repr__(self) -> str:\n",
    "        return str(self.cup_id)\n",
    "\n",
    "class CupsCircle(object):\n",
    "    def __init__(self, data: str, end: int=1_000_001):\n",
    "        '''初始化一百万个杯子的两个链表'''\n",
    "        prev_cup = None\n",
    "        # 记录前面有标注标号杯子的字典，用于生成倒序链表的前面部分\n",
    "        cups_dict = {}\n",
    "        for i, cup_id in enumerate(data):\n",
    "            cup = Cup(int(cup_id))\n",
    "            if i == 0:\n",
    "                self.current = cup\n",
    "            if prev_cup:\n",
    "                prev_cup.next = cup\n",
    "            if cup_id == '1':\n",
    "                # 记录ID为1的杯子，方便获得第二部分结果\n",
    "                self.first_cup = cup\n",
    "            cups_dict[int(cup_id)] = cup\n",
    "            prev_cup = cup\n",
    "        # 迭代字典生成前面输入数据中的杯子的倒序链表\n",
    "        for cup_id, cup in cups_dict.items():\n",
    "            if cup_id > 1:\n",
    "                cup.less_one = cups_dict[cup_id - 1]\n",
    "        # 输入数据中最大ID的杯子\n",
    "        less_one_cup = cups_dict[len(data)]\n",
    "        # 生成一百万个里面剩下杯子的链表\n",
    "        for cup_id in range(len(data) + 1, end):\n",
    "            cup = Cup(cup_id)\n",
    "            # 圈链表\n",
    "            prev_cup.next = cup\n",
    "            # 倒序链表\n",
    "            cup.less_one = less_one_cup\n",
    "            prev_cup = cup\n",
    "            less_one_cup = cup\n",
    "        # 形成圈，最后一个杯子的next指向第一个杯子current\n",
    "        prev_cup.next = self.current\n",
    "        # 倒序循环链表，1号杯子的倒序为最后一个杯子\n",
    "        self.first_cup.less_one = less_one_cup\n",
    "    \n",
    "    def take_tripple(self) -> Cup:\n",
    "        '''出链'''\n",
    "        tripple_begin = self.current.next\n",
    "        cup_ptr = tripple_begin\n",
    "        for _ in range(2):\n",
    "            # 设置杯子状态为出链\n",
    "            cup_ptr.is_chained = False\n",
    "            cup_ptr = cup_ptr.next\n",
    "        cup_ptr.is_chained = False\n",
    "        self.current.next = cup_ptr.next\n",
    "        cup_ptr.next = None\n",
    "        return tripple_begin\n",
    "    \n",
    "    def find_destination(self) -> Cup:\n",
    "        '''寻找合适位置插入，增加一个链表后，不止性能大幅提升，整个逻辑也更清晰简单'''\n",
    "        cup_ptr = self.current.less_one\n",
    "        # 直到找到一个仍在圈中的杯子为止\n",
    "        while not cup_ptr.is_chained:\n",
    "            cup_ptr = cup_ptr.less_one\n",
    "        return cup_ptr\n",
    "    \n",
    "    def put_tripple_back(self, dest: Cup, tripple: Cup):\n",
    "        '''入链'''\n",
    "        cup_ptr = tripple\n",
    "        for _ in range(2):\n",
    "            # 设置杯子状态入链\n",
    "            cup_ptr.is_chained = True\n",
    "            cup_ptr = cup_ptr.next\n",
    "        cup_ptr.is_chained = True\n",
    "        cup_ptr.next = dest.next\n",
    "        dest.next = tripple\n",
    "    \n",
    "    def one_move(self):\n",
    "        '''游戏一轮，逻辑不变'''\n",
    "        tripple = self.take_tripple()\n",
    "        destination = self.find_destination()\n",
    "        self.put_tripple_back(destination, tripple)\n",
    "        self.current = self.current.next"
   ]
  },
  {
   "cell_type": "markdown",
   "metadata": {},
   "source": [
    "第二部分的逻辑："
   ]
  },
  {
   "cell_type": "code",
   "execution_count": 8,
   "metadata": {},
   "outputs": [],
   "source": [
    "def part2_solution(circle: CupsCircle, moves: int=10_000_000) -> int:\n",
    "    for _ in range(moves):\n",
    "        circle.one_move()\n",
    "    return circle.first_cup.next.cup_id * circle.first_cup.next.next.cup_id"
   ]
  },
  {
   "cell_type": "markdown",
   "metadata": {},
   "source": [
    "我们先来对比一下使用第二部分逻辑分别对9个杯子和一百万个杯子进行10000轮游戏的时间："
   ]
  },
  {
   "cell_type": "code",
   "execution_count": 9,
   "metadata": {},
   "outputs": [
    {
     "name": "stdout",
     "output_type": "stream",
     "text": [
      "32.4 ms ± 1.14 ms per loop (mean ± std. dev. of 7 runs, 10 loops each)\n"
     ]
    }
   ],
   "source": [
    "circle = CupsCircle('389125467', 10)\n",
    "%timeit part2_solution(circle, 10000)"
   ]
  },
  {
   "cell_type": "code",
   "execution_count": 10,
   "metadata": {},
   "outputs": [
    {
     "name": "stdout",
     "output_type": "stream",
     "text": [
      "31.6 ms ± 130 µs per loop (mean ± std. dev. of 7 runs, 10 loops each)\n"
     ]
    }
   ],
   "source": [
    "circle = CupsCircle('389125467')\n",
    "%timeit part2_solution(circle, 10000)"
   ]
  },
  {
   "cell_type": "markdown",
   "metadata": {},
   "source": [
    "相当棒，使用一百万个杯子进行游戏甚至比使用9个杯子还要快！当然Python跑起来还是比较吃力，但是方法没问题。\n",
    "\n",
    "然后是单元测试："
   ]
  },
  {
   "cell_type": "code",
   "execution_count": 11,
   "metadata": {},
   "outputs": [],
   "source": [
    "circle = CupsCircle('389125467')\n",
    "assert(part2_solution(circle) == 149245887792)"
   ]
  },
  {
   "cell_type": "markdown",
   "metadata": {},
   "source": [
    "最后是第二部分的结果："
   ]
  },
  {
   "cell_type": "code",
   "execution_count": 12,
   "metadata": {},
   "outputs": [
    {
     "data": {
      "text/plain": [
       "42271866720"
      ]
     },
     "execution_count": 12,
     "metadata": {},
     "output_type": "execute_result"
    }
   ],
   "source": [
    "circle = CupsCircle('364297581')\n",
    "part2_solution(circle)"
   ]
  },
  {
   "cell_type": "code",
   "execution_count": null,
   "metadata": {},
   "outputs": [],
   "source": []
  }
 ],
 "metadata": {
  "kernelspec": {
   "display_name": "Python 3",
   "language": "python",
   "name": "python3"
  },
  "language_info": {
   "codemirror_mode": {
    "name": "ipython",
    "version": 3
   },
   "file_extension": ".py",
   "mimetype": "text/x-python",
   "name": "python",
   "nbconvert_exporter": "python",
   "pygments_lexer": "ipython3",
   "version": "3.7.6"
  }
 },
 "nbformat": 4,
 "nbformat_minor": 4
}
